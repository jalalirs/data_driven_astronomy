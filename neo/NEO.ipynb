{
 "cells": [
  {
   "cell_type": "markdown",
   "metadata": {},
   "source": [
    "# Near-Earth Objects (NEO)\n",
    "\n",
    "On a daily basis, about one hundred tons of interplanetary material drifts down to the Earth’s surface. Most of the smallest interplanetary particles that reach the Earth’s surface are the tiny dust particles that are released by comets as their ices vaporize in the solar neighborhood. The vast majority of the larger interplanetary material that reaches the Earth’s surface originates as the collision fragments of asteroids that have run into one another some eons ago.\n",
    "\n",
    "<img src=\"imgs/target_earth.jpg\" />\n",
    "\n",
    "\n",
    "With an average interval of about 10,000 years, rocky or iron asteroids larger than about 100 meters would be expected to reach the Earth’s surface and cause local disasters or produce the tidal waves that can inundate low lying coastal areas. On an average of every several hundred thousand years or so, asteroids larger than a kilometer could cause global disasters. In this case, the impact debris would spread throughout the Earth’s atmosphere so that plant life would suffer from acid rain, partial blocking of sunlight, and from the firestorms resulting from heated impact debris raining back down upon the Earth’s surface. Since their orbital paths often cross that of the Earth, collisions with near-Earth objects have occurred in the past and we should remain alert to the possibility of future close Earth approaches. It seems prudent to mount efforts to discover and study these objects, to characterize their sizes, compositions and structures and to keep an eye upon their future trajectories.\n",
    "\n",
    "Because of the ongoing search efforts to find nearly all the large NEOs, objects will occasionally be found to be on very close Earth approaching trajectories. Great care must then be taken to verify any Earth collision predictions that are made. Given the extremely unlikely nature of such a collision, almost all of these predictions will turn out to be false alarms. However, if an object is verified to be on an Earth colliding trajectory, it seems likely that this collision possibility will be known several years prior to the actual event. Given several years warning time, existing technology could be used to deflect the threatening object away from Earth. The key point in this mitigation process is to find the threatening object years ahead of time so that an orderly international campaign can be mounted to send spacecraft to the threatening object. One of the techniques suggested for deflecting an asteroid includes nuclear fusion weapons set off above the surface to slightly change the asteroid’s velocity without fracturing it. High speed neutrons from the explosion would irradiate a shell of material on the surface of the asteroid facing the explosion. The material in this surface shell would then expand and blow off, thus producing a recoil upon the asteroid itself. A very modest velocity change in the asteroid’s motion (only a few millimeters per second), acting over several years, can cause the asteroid to miss the Earth entirely. However, the trick is to gently nudge the asteroid out of harm’s way and not to blow it up. This latter option, though popular in the movies, only creates a bigger problem when all the pieces encounter the Earth. Another option that has been discussed includes the establishment of large solar sails on a small threatening object so that the pressure of sunlight could eventually redirect the object away from its predicted Earth collision.\n",
    "\n",
    "No one should be overly concerned about an Earth impact of an asteroid or comet. The threat to any one person from auto accidents, disease, other natural disasters and a variety of other problems is much higher than the threat from NEOs. Over long periods of time, however, the chances of the Earth being impacted are not negligible so that some form of NEO insurance is warranted. At the moment, our best insurance rests with the NEO scientists and their efforts to first find these objects and then track their motions into the future. We need to first find them, then keep an eye on them."
   ]
  },
  {
   "cell_type": "markdown",
   "metadata": {},
   "source": [
    "## NEO Basics\n",
    "\n",
    "NEO Groups\n",
    "In terms of orbital elements, NEOs are asteroids and comets with perihelion distance $q$ less than $1.3 au$ . Near-Earth Comets (NECs) are further restricted to include only short-period comets (i.e., orbital period P less than 200 years). The vast majority of NEOs are asteroids, referred to as Near-Earth Asteroids (NEAs). NEAs are divided into groups *(Atira, Aten, Apollo and Amor)* according to their perihelion distance (*q*), aphelion distance (*Q*) and their semi-major axes (*a*).\n",
    "\n",
    "Potentially Hazardous Asteroids (PHAs) are currently defined based on parameters that measure the asteroid's potential to make threatening close approaches to the Earth. Specifically, all asteroids with an Earth Minimum Orbit Intersection Distance (MOID) of *0.05 au* or less and an absolute magnitude (*H*) of 22.0 or less are considered PHAs. In other words, asteroids that can't get any closer to the Earth (i.e., MOID) than 0.05 au (roughly 7,480,000 km or 4,650,000 mi) or are smaller than about 140 m (~500 ft) in diameter (i.e., H = 22.0 with assumed albedo of 14%) are not considered PHAs."
   ]
  },
  {
   "cell_type": "markdown",
   "metadata": {},
   "source": [
    "|Group  |Definition\t            |Description \t\t\t\t\t\t\t\t\t\t\t\t\t\t\t\t\t\t\t\t\t\t\t\t\t\t\t\t\t\t\t\t\t\t\t\t\t\t\t\t   |\n",
    "|:------|:----------------------|:-----------------------------------------------------------------------------------------------------------------------------------------------------------------------------|\n",
    "|NECs\t|q<1.3 au P<200 years   |Near-Earth Comets \t\t\t\t\t\t\t\t\t\t\t\t\t\t\t\t\t\t\t\t\t\t\t\t\t\t\t\t\t\t\t\t\t\t\t\t\t\t\t   |\n",
    "|NEAs\t|q<1.3 au               |Near-Earth Asteroids\t\t\t\t\t\t\t\t\t\t\t\t\t\t\t\t\t\t\t\t\t\t\t\t\t\t\t\t\t\t\t\t\t\t\t\t\t\t   |\n",
    "|Atiras\t|a<1.0 au Q<0.983 au\t|NEAs whose orbits are contained entirely with the orbit of the Earth (named after asteroid 163693 Atira).\t\t\t\t\t\t\t\t\t\t\t\t\t\t\t\t\t   |\n",
    "|Atens\t|a<1.0 au Q>0.983 au\t|Earth-crossing NEAs with semi-major axes smaller than Earth's (named after asteroid 2062 Aten).\t\t\t\t\t\t\t\t\t\t\t\t\t\t\t\t\t\t\t   |\n",
    "|Apollos|a>1.0 au q<1.017 au\t|Earth-crossing NEAs with semi-major axes larger than Earth's (named after asteroid 1862 Apollo).\t\t\t\t\t\t\t\t\t\t\t\t\t\t\t\t\t\t\t   |\n",
    "|Amors\t|a>1.0 au 1.017<q<1.3 au|Earth-approaching NEAs with orbits exterior to Earth's but interior to Mars' (named after asteroid 1221 Amor).\t\t\t\t\t\t\t\t\t\t\t\t\t\t\t\t   |\t\n",
    "|PHAs\t|MOID<=0.05 au H<=22.0\t|Potentially Hazardous Asteroids: NEAs whose Minimum Orbit Intersection Distance (MOID) with the Earth is 0.05 au or less and whose absolute magnitude (H) is 22.0 or brighter.|"
   ]
  },
  {
   "cell_type": "markdown",
   "metadata": {},
   "source": [
    "<img src=\"imgs/neo_orbit_types.jpg\" />"
   ]
  },
  {
   "cell_type": "markdown",
   "metadata": {},
   "source": [
    "## Small Body Data Base (SBDB)\n",
    "\n",
    "Dataset for small body orbiting around or close by the earth can be accessed and queried from <a href=\"https://ssd.jpl.nasa.gov/sbdb_query.cgi\">here</a>. You may also want to visit this <a href=\"https://ssd.jpl.nasa.gov/?help_sbdb_query\">tutorial </a>\n",
    "\n",
    "<img src=\"imgs/sbdb.png\" />"
   ]
  },
  {
   "cell_type": "markdown",
   "metadata": {},
   "source": [
    "## poliastro library\n",
    "\n",
    "<a href=\"https://github.com/poliastro/poliastro\">poliastro</a> is an open source pure Python package dedicated to problems arising in Astrodynamics and Orbital Mechanics, such as orbit propagation, solution of the Lambert's problem, conversion between position and velocity vectors and classical orbital elements and orbit plotting, focusing on interplanetary applications. It is released under the MIT license.\n"
   ]
  },
  {
   "cell_type": "markdown",
   "metadata": {},
   "source": [
    "# coding time"
   ]
  },
  {
   "cell_type": "markdown",
   "metadata": {},
   "source": [
    "## Data Wrangling"
   ]
  },
  {
   "cell_type": "code",
   "execution_count": 298,
   "metadata": {},
   "outputs": [],
   "source": [
    "import warnings\n",
    "warnings.filterwarnings('ignore')\n",
    "import pandas as pd\n",
    "import numpy as np"
   ]
  },
  {
   "cell_type": "code",
   "execution_count": 72,
   "metadata": {},
   "outputs": [
    {
     "data": {
      "text/html": [
       "<div>\n",
       "<style scoped>\n",
       "    .dataframe tbody tr th:only-of-type {\n",
       "        vertical-align: middle;\n",
       "    }\n",
       "\n",
       "    .dataframe tbody tr th {\n",
       "        vertical-align: top;\n",
       "    }\n",
       "\n",
       "    .dataframe thead th {\n",
       "        text-align: right;\n",
       "    }\n",
       "</style>\n",
       "<table border=\"1\" class=\"dataframe\">\n",
       "  <thead>\n",
       "    <tr style=\"text-align: right;\">\n",
       "      <th></th>\n",
       "      <th>Object</th>\n",
       "      <th>Orbit ID</th>\n",
       "      <th>H (mag)</th>\n",
       "      <th>Estimated Diameter (m)</th>\n",
       "      <th>OCC</th>\n",
       "      <th>Min. delta-V [delta-V, dur.] (km/s), (d)</th>\n",
       "      <th>Min. Duration [delta-V, dur.] (km/s), (d)</th>\n",
       "      <th>Viable Trajectories</th>\n",
       "      <th>Next Optical Opportunity (yyyy-mm [Vp])</th>\n",
       "      <th>Next Arecibo Radar Opportunity (yyyy-mm [SNR])</th>\n",
       "      <th>Next Goldstone Radar Opportunity (yyyy-mm [SNR])</th>\n",
       "      <th>Unnamed: 11</th>\n",
       "    </tr>\n",
       "  </thead>\n",
       "  <tbody>\n",
       "    <tr>\n",
       "      <th>0</th>\n",
       "      <td>(2019 GM1)</td>\n",
       "      <td>2</td>\n",
       "      <td>27.0</td>\n",
       "      <td>6.9 - 31</td>\n",
       "      <td>6</td>\n",
       "      <td>4.513, 362</td>\n",
       "      <td>11.862, 66</td>\n",
       "      <td>5947708</td>\n",
       "      <td>2020-03 [22.9]</td>\n",
       "      <td>2020-04 [320]</td>\n",
       "      <td>2040-03 [16]</td>\n",
       "      <td>bK19G01M</td>\n",
       "    </tr>\n",
       "    <tr>\n",
       "      <th>1</th>\n",
       "      <td>(2000 SG344)</td>\n",
       "      <td>16</td>\n",
       "      <td>24.7</td>\n",
       "      <td>20 - 89</td>\n",
       "      <td>3</td>\n",
       "      <td>3.549, 370</td>\n",
       "      <td>11.402, 34</td>\n",
       "      <td>3302683</td>\n",
       "      <td>2028-04 [19.1]</td>\n",
       "      <td>2028-05 [3.e3]</td>\n",
       "      <td>2028-05 [58]</td>\n",
       "      <td>bK00SY4G</td>\n",
       "    </tr>\n",
       "    <tr>\n",
       "      <th>2</th>\n",
       "      <td>469219 Kamo`oalewa (2016 HO3)</td>\n",
       "      <td>25</td>\n",
       "      <td>24.3</td>\n",
       "      <td>24 - 107</td>\n",
       "      <td>0</td>\n",
       "      <td>6.108, 362</td>\n",
       "      <td>11.969, 154</td>\n",
       "      <td>3162138</td>\n",
       "      <td>2020-03 [22.2]</td>\n",
       "      <td>none</td>\n",
       "      <td>none</td>\n",
       "      <td>a0469219</td>\n",
       "    </tr>\n",
       "    <tr>\n",
       "      <th>3</th>\n",
       "      <td>(2006 RH120)</td>\n",
       "      <td>50</td>\n",
       "      <td>29.5</td>\n",
       "      <td>2.2 - 10</td>\n",
       "      <td>1</td>\n",
       "      <td>3.969, 450</td>\n",
       "      <td>11.410, 26</td>\n",
       "      <td>2498249</td>\n",
       "      <td>2028-06 [23.7]</td>\n",
       "      <td>none</td>\n",
       "      <td>none</td>\n",
       "      <td>bK06RC0H</td>\n",
       "    </tr>\n",
       "    <tr>\n",
       "      <th>4</th>\n",
       "      <td>(2020 CD3)</td>\n",
       "      <td>5</td>\n",
       "      <td>31.7</td>\n",
       "      <td>0.80 - 3.6</td>\n",
       "      <td>4</td>\n",
       "      <td>3.571, 378</td>\n",
       "      <td>9.358, 18</td>\n",
       "      <td>2240076</td>\n",
       "      <td>2020-03 [23.5]</td>\n",
       "      <td>2020-03 [450]</td>\n",
       "      <td>none</td>\n",
       "      <td>bK20C03D</td>\n",
       "    </tr>\n",
       "  </tbody>\n",
       "</table>\n",
       "</div>"
      ],
      "text/plain": [
       "                          Object  Orbit ID  H (mag) Estimated Diameter (m)  \\\n",
       "0                     (2019 GM1)         2     27.0               6.9 - 31   \n",
       "1                   (2000 SG344)        16     24.7                20 - 89   \n",
       "2  469219 Kamo`oalewa (2016 HO3)        25     24.3               24 - 107   \n",
       "3                   (2006 RH120)        50     29.5               2.2 - 10   \n",
       "4                     (2020 CD3)         5     31.7             0.80 - 3.6   \n",
       "\n",
       "   OCC Min. delta-V [delta-V, dur.] (km/s), (d)  \\\n",
       "0    6                               4.513, 362   \n",
       "1    3                               3.549, 370   \n",
       "2    0                               6.108, 362   \n",
       "3    1                               3.969, 450   \n",
       "4    4                               3.571, 378   \n",
       "\n",
       "  Min. Duration [delta-V, dur.] (km/s), (d)  Viable Trajectories  \\\n",
       "0                                11.862, 66              5947708   \n",
       "1                                11.402, 34              3302683   \n",
       "2                               11.969, 154              3162138   \n",
       "3                                11.410, 26              2498249   \n",
       "4                                 9.358, 18              2240076   \n",
       "\n",
       "  Next Optical Opportunity (yyyy-mm [Vp])  \\\n",
       "0                          2020-03 [22.9]   \n",
       "1                          2028-04 [19.1]   \n",
       "2                          2020-03 [22.2]   \n",
       "3                          2028-06 [23.7]   \n",
       "4                          2020-03 [23.5]   \n",
       "\n",
       "  Next Arecibo Radar Opportunity (yyyy-mm [SNR])  \\\n",
       "0                                  2020-04 [320]   \n",
       "1                                 2028-05 [3.e3]   \n",
       "2                                           none   \n",
       "3                                           none   \n",
       "4                                  2020-03 [450]   \n",
       "\n",
       "  Next Goldstone Radar Opportunity (yyyy-mm [SNR]) Unnamed: 11  \n",
       "0                                     2040-03 [16]    bK19G01M  \n",
       "1                                     2028-05 [58]    bK00SY4G  \n",
       "2                                             none    a0469219  \n",
       "3                                             none    bK06RC0H  \n",
       "4                                             none    bK20C03D  "
      ]
     },
     "execution_count": 72,
     "metadata": {},
     "output_type": "execute_result"
    }
   ],
   "source": [
    "df = pd.read_csv(\"cneos_nhats_data.csv\")\n",
    "df.head()"
   ]
  },
  {
   "cell_type": "markdown",
   "metadata": {},
   "source": [
    "### Table Column Descriptions  |  HIDE LEGEND\n",
    "\n",
    "**Object**<br/>\n",
    "Full designation of the target NEA (near-Earth asteroid).\n",
    "\n",
    "**Orbit ID**<br/>\n",
    "ID of the JPL NEA orbit used in this analysis\n",
    "\n",
    "**H (mag)**<br/>\n",
    "Absolute visual (V-band) magnitude in magnitude units.\n",
    "\n",
    "**Estimated Diameter (m)**<br/>\n",
    "Estimated diameter in meters showing the minimum and maximum likely size based on assumed maximum and minimum albedos of 0.60 and 0.03, respectively. If the size is \"known\", a single value is shown instead. If a single value is shown, it should still be considered an estimate.\n",
    "\n",
    "**OCC**<br/>\n",
    "Orbit Condition Code of the NEA's orbit when NHATS-analysis was performed, where 0 implies a well-determined orbit and 9 implies a very poorly-determined (highly uncertain) orbit.\n",
    "\n",
    "**Min. delta-V [delta-V, dur.] (km/s), (d)**<br/>\n",
    "The total delta-V in km/s and corresponding duration in days for the trajectory solution with the minimum total delta-V.\n",
    "\n",
    "**Min. Duration [delta-V, dur.] (km/s), (d)**<br/>\n",
    "The total delta-V in km/s and corresponding duration in days for the trajectory solution with the minimum possible total duration.\n",
    "\n",
    "**Viable Trajectories**<br/>\n",
    "The total number of NHATS-compliant trajectory solutions. This value serves as a proxy for accessibility of the NEA.\n",
    "\n",
    "**Next Optical Opportunity (yyyy-mm [Vp])**<br/>\n",
    "The year and month (yyyy-mm) during which the asteroid will next be observable optically from the Earth at a magnitude of 24.0 or brighter, solar elongation > 60 deg and plane-of-sky (POS) uncertainty < 1.5 deg. When the latter limit is exceeded the object is considered lost, in which case it can only be observed via a serendipitous re-discovery by an asteroid survey program. Leading and trailing '?' indicate when such a survey re-discovery may be possible. [Vp] is the predicted peak magnitude during the opportunity. Follow this <a href=\"https://cneos.jpl.nasa.gov/nhats/obs.html\">link</a> for more details.\n",
    "\n",
    "**Next Arecibo Radar Opportunity (yyyy-mm [SNR])**<br/>\n",
    "The year and month (yyyy-mm) of the next optimal Arecibo radar observing opportunity. To be considered observable, the asteroid must be at an accessible declination, the signal-to-noise ratio (SNR) must be at least 10, and the plane-of-sky uncertainty must be less than 0.75 arc-min. [SNR] indicates the peak SNR value during the opportunity. Follow this <a href=\"https://cneos.jpl.nasa.gov/nhats/obs.html\">link</a> for more details.\n",
    "\n",
    "**Next Goldstone Radar Opportunity (yyyy-mm [SNR])**<br/>\n",
    "The year and month (yyyy-mm) of the next optimal Goldstone radar observing opportunity. To be considered observable, the asteroid must be at an accessible declination, the signal-to-noise ratio (SNR) must be at least 10, and the plane-of-sky uncertainty must be less than 0.75 arc-min. [SNR] indicates the peak SNR value during the opportunity. Follow this <a href=\"https://cneos.jpl.nasa.gov/nhats/obs.html\">link</a> for more details."
   ]
  },
  {
   "cell_type": "code",
   "execution_count": 187,
   "metadata": {},
   "outputs": [
    {
     "data": {
      "text/html": [
       "<div>\n",
       "<style scoped>\n",
       "    .dataframe tbody tr th:only-of-type {\n",
       "        vertical-align: middle;\n",
       "    }\n",
       "\n",
       "    .dataframe tbody tr th {\n",
       "        vertical-align: top;\n",
       "    }\n",
       "\n",
       "    .dataframe thead th {\n",
       "        text-align: right;\n",
       "    }\n",
       "</style>\n",
       "<table border=\"1\" class=\"dataframe\">\n",
       "  <thead>\n",
       "    <tr style=\"text-align: right;\">\n",
       "      <th></th>\n",
       "      <th>name</th>\n",
       "      <th>id</th>\n",
       "      <th>v_band_mag</th>\n",
       "      <th>diameter</th>\n",
       "      <th>orbit_condition_code</th>\n",
       "      <th>min_deltav</th>\n",
       "      <th>min_duration</th>\n",
       "      <th>viable_trajectory</th>\n",
       "      <th>optical_opp</th>\n",
       "      <th>radar_opp</th>\n",
       "      <th>gold_opp</th>\n",
       "      <th>undefined</th>\n",
       "    </tr>\n",
       "  </thead>\n",
       "  <tbody>\n",
       "    <tr>\n",
       "      <th>0</th>\n",
       "      <td>(2019 GM1)</td>\n",
       "      <td>2</td>\n",
       "      <td>27.0</td>\n",
       "      <td>6.9 - 31</td>\n",
       "      <td>6</td>\n",
       "      <td>4.513, 362</td>\n",
       "      <td>11.862, 66</td>\n",
       "      <td>5947708</td>\n",
       "      <td>2020-03 [22.9]</td>\n",
       "      <td>2020-04 [320]</td>\n",
       "      <td>2040-03 [16]</td>\n",
       "      <td>bK19G01M</td>\n",
       "    </tr>\n",
       "    <tr>\n",
       "      <th>1</th>\n",
       "      <td>(2000 SG344)</td>\n",
       "      <td>16</td>\n",
       "      <td>24.7</td>\n",
       "      <td>20 - 89</td>\n",
       "      <td>3</td>\n",
       "      <td>3.549, 370</td>\n",
       "      <td>11.402, 34</td>\n",
       "      <td>3302683</td>\n",
       "      <td>2028-04 [19.1]</td>\n",
       "      <td>2028-05 [3.e3]</td>\n",
       "      <td>2028-05 [58]</td>\n",
       "      <td>bK00SY4G</td>\n",
       "    </tr>\n",
       "    <tr>\n",
       "      <th>2</th>\n",
       "      <td>469219 Kamo`oalewa (2016 HO3)</td>\n",
       "      <td>25</td>\n",
       "      <td>24.3</td>\n",
       "      <td>24 - 107</td>\n",
       "      <td>0</td>\n",
       "      <td>6.108, 362</td>\n",
       "      <td>11.969, 154</td>\n",
       "      <td>3162138</td>\n",
       "      <td>2020-03 [22.2]</td>\n",
       "      <td>none</td>\n",
       "      <td>none</td>\n",
       "      <td>a0469219</td>\n",
       "    </tr>\n",
       "    <tr>\n",
       "      <th>3</th>\n",
       "      <td>(2006 RH120)</td>\n",
       "      <td>50</td>\n",
       "      <td>29.5</td>\n",
       "      <td>2.2 - 10</td>\n",
       "      <td>1</td>\n",
       "      <td>3.969, 450</td>\n",
       "      <td>11.410, 26</td>\n",
       "      <td>2498249</td>\n",
       "      <td>2028-06 [23.7]</td>\n",
       "      <td>none</td>\n",
       "      <td>none</td>\n",
       "      <td>bK06RC0H</td>\n",
       "    </tr>\n",
       "    <tr>\n",
       "      <th>4</th>\n",
       "      <td>(2020 CD3)</td>\n",
       "      <td>5</td>\n",
       "      <td>31.7</td>\n",
       "      <td>0.80 - 3.6</td>\n",
       "      <td>4</td>\n",
       "      <td>3.571, 378</td>\n",
       "      <td>9.358, 18</td>\n",
       "      <td>2240076</td>\n",
       "      <td>2020-03 [23.5]</td>\n",
       "      <td>2020-03 [450]</td>\n",
       "      <td>none</td>\n",
       "      <td>bK20C03D</td>\n",
       "    </tr>\n",
       "  </tbody>\n",
       "</table>\n",
       "</div>"
      ],
      "text/plain": [
       "                            name  id  v_band_mag    diameter  \\\n",
       "0                     (2019 GM1)   2        27.0    6.9 - 31   \n",
       "1                   (2000 SG344)  16        24.7     20 - 89   \n",
       "2  469219 Kamo`oalewa (2016 HO3)  25        24.3    24 - 107   \n",
       "3                   (2006 RH120)  50        29.5    2.2 - 10   \n",
       "4                     (2020 CD3)   5        31.7  0.80 - 3.6   \n",
       "\n",
       "   orbit_condition_code  min_deltav min_duration  viable_trajectory  \\\n",
       "0                     6  4.513, 362   11.862, 66            5947708   \n",
       "1                     3  3.549, 370   11.402, 34            3302683   \n",
       "2                     0  6.108, 362  11.969, 154            3162138   \n",
       "3                     1  3.969, 450   11.410, 26            2498249   \n",
       "4                     4  3.571, 378    9.358, 18            2240076   \n",
       "\n",
       "      optical_opp       radar_opp      gold_opp undefined  \n",
       "0  2020-03 [22.9]   2020-04 [320]  2040-03 [16]  bK19G01M  \n",
       "1  2028-04 [19.1]  2028-05 [3.e3]  2028-05 [58]  bK00SY4G  \n",
       "2  2020-03 [22.2]            none          none  a0469219  \n",
       "3  2028-06 [23.7]            none          none  bK06RC0H  \n",
       "4  2020-03 [23.5]   2020-03 [450]          none  bK20C03D  "
      ]
     },
     "execution_count": 187,
     "metadata": {},
     "output_type": "execute_result"
    }
   ],
   "source": [
    "# renaming columns\n",
    "columns = df.columns\n",
    "ncolumns = {\n",
    "    columns[0]: \"name\",\n",
    "    columns[1]: \"id\",\n",
    "    columns[2]: \"v_band_mag\",\n",
    "    columns[3]: \"diameter\",\n",
    "    columns[4]: \"orbit_condition_code\",\n",
    "    columns[5]: \"min_deltav\",\n",
    "    columns[6]: \"min_duration\",\n",
    "    columns[7]: \"viable_trajectory\",\n",
    "    columns[8]: \"optical_opp\",\n",
    "    columns[9]: \"radar_opp\",\n",
    "    columns[10]: \"gold_opp\",\n",
    "    columns[11]: \"undefined\",\n",
    "}\n",
    "ndf = df.rename(columns=ncolumns)\n",
    "ndf.head()"
   ]
  },
  {
   "cell_type": "code",
   "execution_count": 153,
   "metadata": {},
   "outputs": [
    {
     "data": {
      "text/html": [
       "<div>\n",
       "<style scoped>\n",
       "    .dataframe tbody tr th:only-of-type {\n",
       "        vertical-align: middle;\n",
       "    }\n",
       "\n",
       "    .dataframe tbody tr th {\n",
       "        vertical-align: top;\n",
       "    }\n",
       "\n",
       "    .dataframe thead th {\n",
       "        text-align: right;\n",
       "    }\n",
       "</style>\n",
       "<table border=\"1\" class=\"dataframe\">\n",
       "  <thead>\n",
       "    <tr style=\"text-align: right;\">\n",
       "      <th></th>\n",
       "      <th>name</th>\n",
       "      <th>id</th>\n",
       "      <th>v_band_mag</th>\n",
       "      <th>diameter</th>\n",
       "      <th>orbit_condition_code</th>\n",
       "      <th>min_deltav</th>\n",
       "      <th>min_duration</th>\n",
       "      <th>viable_trajectory</th>\n",
       "      <th>optical_opp</th>\n",
       "      <th>radar_opp</th>\n",
       "      <th>gold_opp</th>\n",
       "      <th>undefined</th>\n",
       "    </tr>\n",
       "  </thead>\n",
       "  <tbody>\n",
       "    <tr>\n",
       "      <th>0</th>\n",
       "      <td>2019 GM1</td>\n",
       "      <td>2</td>\n",
       "      <td>27.0</td>\n",
       "      <td>6.9 - 31</td>\n",
       "      <td>6</td>\n",
       "      <td>4.513, 362</td>\n",
       "      <td>11.862, 66</td>\n",
       "      <td>5947708</td>\n",
       "      <td>2020-03 [22.9]</td>\n",
       "      <td>2020-04 [320]</td>\n",
       "      <td>2040-03 [16]</td>\n",
       "      <td>bK19G01M</td>\n",
       "    </tr>\n",
       "    <tr>\n",
       "      <th>1</th>\n",
       "      <td>2000 SG344</td>\n",
       "      <td>16</td>\n",
       "      <td>24.7</td>\n",
       "      <td>20 - 89</td>\n",
       "      <td>3</td>\n",
       "      <td>3.549, 370</td>\n",
       "      <td>11.402, 34</td>\n",
       "      <td>3302683</td>\n",
       "      <td>2028-04 [19.1]</td>\n",
       "      <td>2028-05 [3.e3]</td>\n",
       "      <td>2028-05 [58]</td>\n",
       "      <td>bK00SY4G</td>\n",
       "    </tr>\n",
       "    <tr>\n",
       "      <th>2</th>\n",
       "      <td>469219 Kamo`oalewa 2016 HO3</td>\n",
       "      <td>25</td>\n",
       "      <td>24.3</td>\n",
       "      <td>24 - 107</td>\n",
       "      <td>0</td>\n",
       "      <td>6.108, 362</td>\n",
       "      <td>11.969, 154</td>\n",
       "      <td>3162138</td>\n",
       "      <td>2020-03 [22.2]</td>\n",
       "      <td>none</td>\n",
       "      <td>none</td>\n",
       "      <td>a0469219</td>\n",
       "    </tr>\n",
       "  </tbody>\n",
       "</table>\n",
       "</div>"
      ],
      "text/plain": [
       "                          name  id  v_band_mag  diameter  \\\n",
       "0                     2019 GM1   2        27.0  6.9 - 31   \n",
       "1                   2000 SG344  16        24.7   20 - 89   \n",
       "2  469219 Kamo`oalewa 2016 HO3  25        24.3  24 - 107   \n",
       "\n",
       "   orbit_condition_code  min_deltav min_duration  viable_trajectory  \\\n",
       "0                     6  4.513, 362   11.862, 66            5947708   \n",
       "1                     3  3.549, 370   11.402, 34            3302683   \n",
       "2                     0  6.108, 362  11.969, 154            3162138   \n",
       "\n",
       "      optical_opp       radar_opp      gold_opp undefined  \n",
       "0  2020-03 [22.9]   2020-04 [320]  2040-03 [16]  bK19G01M  \n",
       "1  2028-04 [19.1]  2028-05 [3.e3]  2028-05 [58]  bK00SY4G  \n",
       "2  2020-03 [22.2]            none          none  a0469219  "
      ]
     },
     "execution_count": 153,
     "metadata": {},
     "output_type": "execute_result"
    }
   ],
   "source": [
    "# removing () from name\n",
    "ndf[\"name\"] = ndf[\"name\"].str.replace(\"(\",\"\")\n",
    "ndf[\"name\"] = ndf[\"name\"].str.replace(\")\",\"\")\n",
    "ndf.head(3)"
   ]
  },
  {
   "cell_type": "code",
   "execution_count": 257,
   "metadata": {},
   "outputs": [
    {
     "data": {
      "text/html": [
       "<div>\n",
       "<style scoped>\n",
       "    .dataframe tbody tr th:only-of-type {\n",
       "        vertical-align: middle;\n",
       "    }\n",
       "\n",
       "    .dataframe tbody tr th {\n",
       "        vertical-align: top;\n",
       "    }\n",
       "\n",
       "    .dataframe thead th {\n",
       "        text-align: right;\n",
       "    }\n",
       "</style>\n",
       "<table border=\"1\" class=\"dataframe\">\n",
       "  <thead>\n",
       "    <tr style=\"text-align: right;\">\n",
       "      <th></th>\n",
       "      <th>name</th>\n",
       "      <th>id</th>\n",
       "      <th>v_band_mag</th>\n",
       "      <th>diameter</th>\n",
       "      <th>orbit_condition_code</th>\n",
       "      <th>min_deltav</th>\n",
       "      <th>min_duration</th>\n",
       "      <th>viable_trajectory</th>\n",
       "      <th>optical_opp</th>\n",
       "      <th>radar_opp</th>\n",
       "      <th>gold_opp</th>\n",
       "      <th>undefined</th>\n",
       "    </tr>\n",
       "  </thead>\n",
       "  <tbody>\n",
       "    <tr>\n",
       "      <th>2760</th>\n",
       "      <td>1943 Anteros (1973 EC)</td>\n",
       "      <td>489</td>\n",
       "      <td>15.6</td>\n",
       "      <td>1320 - 5901</td>\n",
       "      <td>0</td>\n",
       "      <td>11.705, 370</td>\n",
       "      <td>11.918, 354</td>\n",
       "      <td>13</td>\n",
       "      <td>2020-10 [16.2]</td>\n",
       "      <td>2026-06 [860]</td>\n",
       "      <td>2026-05 [34]</td>\n",
       "      <td>a0001943</td>\n",
       "    </tr>\n",
       "  </tbody>\n",
       "</table>\n",
       "</div>"
      ],
      "text/plain": [
       "                        name   id  v_band_mag     diameter  \\\n",
       "2760  1943 Anteros (1973 EC)  489        15.6  1320 - 5901   \n",
       "\n",
       "      orbit_condition_code   min_deltav min_duration  viable_trajectory  \\\n",
       "2760                     0  11.705, 370  11.918, 354                 13   \n",
       "\n",
       "         optical_opp      radar_opp      gold_opp undefined  \n",
       "2760  2020-10 [16.2]  2026-06 [860]  2026-05 [34]  a0001943  "
      ]
     },
     "execution_count": 257,
     "metadata": {},
     "output_type": "execute_result"
    }
   ],
   "source": [
    "ndf[ndf[\"name\"].str.contains(\"1973 EC\")]"
   ]
  },
  {
   "cell_type": "code",
   "execution_count": 163,
   "metadata": {},
   "outputs": [
    {
     "data": {
      "text/html": [
       "<div>\n",
       "<style scoped>\n",
       "    .dataframe tbody tr th:only-of-type {\n",
       "        vertical-align: middle;\n",
       "    }\n",
       "\n",
       "    .dataframe tbody tr th {\n",
       "        vertical-align: top;\n",
       "    }\n",
       "\n",
       "    .dataframe thead th {\n",
       "        text-align: right;\n",
       "    }\n",
       "</style>\n",
       "<table border=\"1\" class=\"dataframe\">\n",
       "  <thead>\n",
       "    <tr style=\"text-align: right;\">\n",
       "      <th></th>\n",
       "      <th>name</th>\n",
       "      <th>id</th>\n",
       "      <th>v_band_mag</th>\n",
       "      <th>diameter</th>\n",
       "      <th>orbit_condition_code</th>\n",
       "      <th>min_deltav</th>\n",
       "      <th>min_duration</th>\n",
       "      <th>viable_trajectory</th>\n",
       "      <th>optical_opp</th>\n",
       "      <th>radar_opp</th>\n",
       "      <th>gold_opp</th>\n",
       "      <th>undefined</th>\n",
       "      <th>min_deltav_dv</th>\n",
       "      <th>min_deltav_dur</th>\n",
       "      <th>min_duration_dv</th>\n",
       "      <th>min_duration_dur</th>\n",
       "      <th>min_diameter</th>\n",
       "      <th>max_diameter</th>\n",
       "    </tr>\n",
       "  </thead>\n",
       "  <tbody>\n",
       "    <tr>\n",
       "      <th>0</th>\n",
       "      <td>2019 GM1</td>\n",
       "      <td>2</td>\n",
       "      <td>27.0</td>\n",
       "      <td>6.9 - 31</td>\n",
       "      <td>6</td>\n",
       "      <td>4.513, 362</td>\n",
       "      <td>11.862, 66</td>\n",
       "      <td>5947708</td>\n",
       "      <td>2020-03 [22.9]</td>\n",
       "      <td>2020-04 [320]</td>\n",
       "      <td>2040-03 [16]</td>\n",
       "      <td>bK19G01M</td>\n",
       "      <td>4.513</td>\n",
       "      <td>362.0</td>\n",
       "      <td>4.513</td>\n",
       "      <td>362.0</td>\n",
       "      <td>6.9</td>\n",
       "      <td>31.0</td>\n",
       "    </tr>\n",
       "    <tr>\n",
       "      <th>1</th>\n",
       "      <td>2000 SG344</td>\n",
       "      <td>16</td>\n",
       "      <td>24.7</td>\n",
       "      <td>20 - 89</td>\n",
       "      <td>3</td>\n",
       "      <td>3.549, 370</td>\n",
       "      <td>11.402, 34</td>\n",
       "      <td>3302683</td>\n",
       "      <td>2028-04 [19.1]</td>\n",
       "      <td>2028-05 [3.e3]</td>\n",
       "      <td>2028-05 [58]</td>\n",
       "      <td>bK00SY4G</td>\n",
       "      <td>3.549</td>\n",
       "      <td>370.0</td>\n",
       "      <td>3.549</td>\n",
       "      <td>370.0</td>\n",
       "      <td>20.0</td>\n",
       "      <td>89.0</td>\n",
       "    </tr>\n",
       "    <tr>\n",
       "      <th>2</th>\n",
       "      <td>469219 Kamo`oalewa 2016 HO3</td>\n",
       "      <td>25</td>\n",
       "      <td>24.3</td>\n",
       "      <td>24 - 107</td>\n",
       "      <td>0</td>\n",
       "      <td>6.108, 362</td>\n",
       "      <td>11.969, 154</td>\n",
       "      <td>3162138</td>\n",
       "      <td>2020-03 [22.2]</td>\n",
       "      <td>none</td>\n",
       "      <td>none</td>\n",
       "      <td>a0469219</td>\n",
       "      <td>6.108</td>\n",
       "      <td>362.0</td>\n",
       "      <td>6.108</td>\n",
       "      <td>362.0</td>\n",
       "      <td>24.0</td>\n",
       "      <td>107.0</td>\n",
       "    </tr>\n",
       "    <tr>\n",
       "      <th>3</th>\n",
       "      <td>2006 RH120</td>\n",
       "      <td>50</td>\n",
       "      <td>29.5</td>\n",
       "      <td>2.2 - 10</td>\n",
       "      <td>1</td>\n",
       "      <td>3.969, 450</td>\n",
       "      <td>11.410, 26</td>\n",
       "      <td>2498249</td>\n",
       "      <td>2028-06 [23.7]</td>\n",
       "      <td>none</td>\n",
       "      <td>none</td>\n",
       "      <td>bK06RC0H</td>\n",
       "      <td>3.969</td>\n",
       "      <td>450.0</td>\n",
       "      <td>3.969</td>\n",
       "      <td>450.0</td>\n",
       "      <td>2.2</td>\n",
       "      <td>10.0</td>\n",
       "    </tr>\n",
       "    <tr>\n",
       "      <th>4</th>\n",
       "      <td>2020 CD3</td>\n",
       "      <td>5</td>\n",
       "      <td>31.7</td>\n",
       "      <td>0.80 - 3.6</td>\n",
       "      <td>4</td>\n",
       "      <td>3.571, 378</td>\n",
       "      <td>9.358, 18</td>\n",
       "      <td>2240076</td>\n",
       "      <td>2020-03 [23.5]</td>\n",
       "      <td>2020-03 [450]</td>\n",
       "      <td>none</td>\n",
       "      <td>bK20C03D</td>\n",
       "      <td>3.571</td>\n",
       "      <td>378.0</td>\n",
       "      <td>3.571</td>\n",
       "      <td>378.0</td>\n",
       "      <td>0.8</td>\n",
       "      <td>3.6</td>\n",
       "    </tr>\n",
       "  </tbody>\n",
       "</table>\n",
       "</div>"
      ],
      "text/plain": [
       "                          name  id  v_band_mag    diameter  \\\n",
       "0                     2019 GM1   2        27.0    6.9 - 31   \n",
       "1                   2000 SG344  16        24.7     20 - 89   \n",
       "2  469219 Kamo`oalewa 2016 HO3  25        24.3    24 - 107   \n",
       "3                   2006 RH120  50        29.5    2.2 - 10   \n",
       "4                     2020 CD3   5        31.7  0.80 - 3.6   \n",
       "\n",
       "   orbit_condition_code  min_deltav min_duration  viable_trajectory  \\\n",
       "0                     6  4.513, 362   11.862, 66            5947708   \n",
       "1                     3  3.549, 370   11.402, 34            3302683   \n",
       "2                     0  6.108, 362  11.969, 154            3162138   \n",
       "3                     1  3.969, 450   11.410, 26            2498249   \n",
       "4                     4  3.571, 378    9.358, 18            2240076   \n",
       "\n",
       "      optical_opp       radar_opp      gold_opp undefined  min_deltav_dv  \\\n",
       "0  2020-03 [22.9]   2020-04 [320]  2040-03 [16]  bK19G01M          4.513   \n",
       "1  2028-04 [19.1]  2028-05 [3.e3]  2028-05 [58]  bK00SY4G          3.549   \n",
       "2  2020-03 [22.2]            none          none  a0469219          6.108   \n",
       "3  2028-06 [23.7]            none          none  bK06RC0H          3.969   \n",
       "4  2020-03 [23.5]   2020-03 [450]          none  bK20C03D          3.571   \n",
       "\n",
       "   min_deltav_dur  min_duration_dv  min_duration_dur  min_diameter  \\\n",
       "0           362.0            4.513             362.0           6.9   \n",
       "1           370.0            3.549             370.0          20.0   \n",
       "2           362.0            6.108             362.0          24.0   \n",
       "3           450.0            3.969             450.0           2.2   \n",
       "4           378.0            3.571             378.0           0.8   \n",
       "\n",
       "   max_diameter  \n",
       "0          31.0  \n",
       "1          89.0  \n",
       "2         107.0  \n",
       "3          10.0  \n",
       "4           3.6  "
      ]
     },
     "execution_count": 163,
     "metadata": {},
     "output_type": "execute_result"
    }
   ],
   "source": [
    "# Splitting Estimated Diameter to two column\n",
    "ndf[['min_diameter','max_diameter']] = ndf[\"diameter\"].str.split(\"-\",expand=True)\n",
    "ndf['min_diameter'] = ndf['min_diameter'].astype(float)\n",
    "ndf['max_diameter'] = ndf['max_diameter'].astype(float)\n",
    "ndf.head()"
   ]
  },
  {
   "cell_type": "code",
   "execution_count": 164,
   "metadata": {},
   "outputs": [
    {
     "data": {
      "text/html": [
       "<div>\n",
       "<style scoped>\n",
       "    .dataframe tbody tr th:only-of-type {\n",
       "        vertical-align: middle;\n",
       "    }\n",
       "\n",
       "    .dataframe tbody tr th {\n",
       "        vertical-align: top;\n",
       "    }\n",
       "\n",
       "    .dataframe thead th {\n",
       "        text-align: right;\n",
       "    }\n",
       "</style>\n",
       "<table border=\"1\" class=\"dataframe\">\n",
       "  <thead>\n",
       "    <tr style=\"text-align: right;\">\n",
       "      <th></th>\n",
       "      <th>name</th>\n",
       "      <th>id</th>\n",
       "      <th>v_band_mag</th>\n",
       "      <th>diameter</th>\n",
       "      <th>orbit_condition_code</th>\n",
       "      <th>min_deltav</th>\n",
       "      <th>min_duration</th>\n",
       "      <th>viable_trajectory</th>\n",
       "      <th>optical_opp</th>\n",
       "      <th>radar_opp</th>\n",
       "      <th>gold_opp</th>\n",
       "      <th>undefined</th>\n",
       "      <th>min_deltav_dv</th>\n",
       "      <th>min_deltav_dur</th>\n",
       "      <th>min_duration_dv</th>\n",
       "      <th>min_duration_dur</th>\n",
       "      <th>min_diameter</th>\n",
       "      <th>max_diameter</th>\n",
       "    </tr>\n",
       "  </thead>\n",
       "  <tbody>\n",
       "    <tr>\n",
       "      <th>0</th>\n",
       "      <td>2019 GM1</td>\n",
       "      <td>2</td>\n",
       "      <td>27.0</td>\n",
       "      <td>6.9 - 31</td>\n",
       "      <td>6</td>\n",
       "      <td>4.513, 362</td>\n",
       "      <td>11.862, 66</td>\n",
       "      <td>5947708</td>\n",
       "      <td>2020-03 [22.9]</td>\n",
       "      <td>2020-04 [320]</td>\n",
       "      <td>2040-03 [16]</td>\n",
       "      <td>bK19G01M</td>\n",
       "      <td>4.513</td>\n",
       "      <td>362.0</td>\n",
       "      <td>4.513</td>\n",
       "      <td>362.0</td>\n",
       "      <td>6.9</td>\n",
       "      <td>31.0</td>\n",
       "    </tr>\n",
       "    <tr>\n",
       "      <th>1</th>\n",
       "      <td>2000 SG344</td>\n",
       "      <td>16</td>\n",
       "      <td>24.7</td>\n",
       "      <td>20 - 89</td>\n",
       "      <td>3</td>\n",
       "      <td>3.549, 370</td>\n",
       "      <td>11.402, 34</td>\n",
       "      <td>3302683</td>\n",
       "      <td>2028-04 [19.1]</td>\n",
       "      <td>2028-05 [3.e3]</td>\n",
       "      <td>2028-05 [58]</td>\n",
       "      <td>bK00SY4G</td>\n",
       "      <td>3.549</td>\n",
       "      <td>370.0</td>\n",
       "      <td>3.549</td>\n",
       "      <td>370.0</td>\n",
       "      <td>20.0</td>\n",
       "      <td>89.0</td>\n",
       "    </tr>\n",
       "    <tr>\n",
       "      <th>2</th>\n",
       "      <td>469219 Kamo`oalewa 2016 HO3</td>\n",
       "      <td>25</td>\n",
       "      <td>24.3</td>\n",
       "      <td>24 - 107</td>\n",
       "      <td>0</td>\n",
       "      <td>6.108, 362</td>\n",
       "      <td>11.969, 154</td>\n",
       "      <td>3162138</td>\n",
       "      <td>2020-03 [22.2]</td>\n",
       "      <td>none</td>\n",
       "      <td>none</td>\n",
       "      <td>a0469219</td>\n",
       "      <td>6.108</td>\n",
       "      <td>362.0</td>\n",
       "      <td>6.108</td>\n",
       "      <td>362.0</td>\n",
       "      <td>24.0</td>\n",
       "      <td>107.0</td>\n",
       "    </tr>\n",
       "    <tr>\n",
       "      <th>3</th>\n",
       "      <td>2006 RH120</td>\n",
       "      <td>50</td>\n",
       "      <td>29.5</td>\n",
       "      <td>2.2 - 10</td>\n",
       "      <td>1</td>\n",
       "      <td>3.969, 450</td>\n",
       "      <td>11.410, 26</td>\n",
       "      <td>2498249</td>\n",
       "      <td>2028-06 [23.7]</td>\n",
       "      <td>none</td>\n",
       "      <td>none</td>\n",
       "      <td>bK06RC0H</td>\n",
       "      <td>3.969</td>\n",
       "      <td>450.0</td>\n",
       "      <td>3.969</td>\n",
       "      <td>450.0</td>\n",
       "      <td>2.2</td>\n",
       "      <td>10.0</td>\n",
       "    </tr>\n",
       "    <tr>\n",
       "      <th>4</th>\n",
       "      <td>2020 CD3</td>\n",
       "      <td>5</td>\n",
       "      <td>31.7</td>\n",
       "      <td>0.80 - 3.6</td>\n",
       "      <td>4</td>\n",
       "      <td>3.571, 378</td>\n",
       "      <td>9.358, 18</td>\n",
       "      <td>2240076</td>\n",
       "      <td>2020-03 [23.5]</td>\n",
       "      <td>2020-03 [450]</td>\n",
       "      <td>none</td>\n",
       "      <td>bK20C03D</td>\n",
       "      <td>3.571</td>\n",
       "      <td>378.0</td>\n",
       "      <td>3.571</td>\n",
       "      <td>378.0</td>\n",
       "      <td>0.8</td>\n",
       "      <td>3.6</td>\n",
       "    </tr>\n",
       "  </tbody>\n",
       "</table>\n",
       "</div>"
      ],
      "text/plain": [
       "                          name  id  v_band_mag    diameter  \\\n",
       "0                     2019 GM1   2        27.0    6.9 - 31   \n",
       "1                   2000 SG344  16        24.7     20 - 89   \n",
       "2  469219 Kamo`oalewa 2016 HO3  25        24.3    24 - 107   \n",
       "3                   2006 RH120  50        29.5    2.2 - 10   \n",
       "4                     2020 CD3   5        31.7  0.80 - 3.6   \n",
       "\n",
       "   orbit_condition_code  min_deltav min_duration  viable_trajectory  \\\n",
       "0                     6  4.513, 362   11.862, 66            5947708   \n",
       "1                     3  3.549, 370   11.402, 34            3302683   \n",
       "2                     0  6.108, 362  11.969, 154            3162138   \n",
       "3                     1  3.969, 450   11.410, 26            2498249   \n",
       "4                     4  3.571, 378    9.358, 18            2240076   \n",
       "\n",
       "      optical_opp       radar_opp      gold_opp undefined  min_deltav_dv  \\\n",
       "0  2020-03 [22.9]   2020-04 [320]  2040-03 [16]  bK19G01M          4.513   \n",
       "1  2028-04 [19.1]  2028-05 [3.e3]  2028-05 [58]  bK00SY4G          3.549   \n",
       "2  2020-03 [22.2]            none          none  a0469219          6.108   \n",
       "3  2028-06 [23.7]            none          none  bK06RC0H          3.969   \n",
       "4  2020-03 [23.5]   2020-03 [450]          none  bK20C03D          3.571   \n",
       "\n",
       "   min_deltav_dur  min_duration_dv  min_duration_dur  min_diameter  \\\n",
       "0           362.0            4.513             362.0           6.9   \n",
       "1           370.0            3.549             370.0          20.0   \n",
       "2           362.0            6.108             362.0          24.0   \n",
       "3           450.0            3.969             450.0           2.2   \n",
       "4           378.0            3.571             378.0           0.8   \n",
       "\n",
       "   max_diameter  \n",
       "0          31.0  \n",
       "1          89.0  \n",
       "2         107.0  \n",
       "3          10.0  \n",
       "4           3.6  "
      ]
     },
     "execution_count": 164,
     "metadata": {},
     "output_type": "execute_result"
    }
   ],
   "source": [
    "# splitting min_deltav\n",
    "ndf[['min_deltav_dv','min_deltav_dur']] = ndf[\"min_deltav\"].str.split(\",\",expand=True)\n",
    "ndf['min_deltav_dv'] = ndf['min_deltav_dv'].astype(float)\n",
    "ndf['min_deltav_dur'] = ndf['min_deltav_dur'].astype(float)\n",
    "# splitting min_duration\n",
    "ndf[['min_duration_dv','min_duration_dur']] = ndf[\"min_deltav\"].str.split(\",\",expand=True)\n",
    "ndf['min_duration_dv'] = ndf['min_duration_dv'].astype(float)\n",
    "ndf['min_duration_dur'] = ndf['min_duration_dur'].astype(float)\n",
    "ndf.head()"
   ]
  },
  {
   "cell_type": "code",
   "execution_count": 165,
   "metadata": {},
   "outputs": [
    {
     "data": {
      "text/html": [
       "<div>\n",
       "<style scoped>\n",
       "    .dataframe tbody tr th:only-of-type {\n",
       "        vertical-align: middle;\n",
       "    }\n",
       "\n",
       "    .dataframe tbody tr th {\n",
       "        vertical-align: top;\n",
       "    }\n",
       "\n",
       "    .dataframe thead th {\n",
       "        text-align: right;\n",
       "    }\n",
       "</style>\n",
       "<table border=\"1\" class=\"dataframe\">\n",
       "  <thead>\n",
       "    <tr style=\"text-align: right;\">\n",
       "      <th></th>\n",
       "      <th>name</th>\n",
       "      <th>id</th>\n",
       "      <th>v_band_mag</th>\n",
       "      <th>diameter</th>\n",
       "      <th>orbit_condition_code</th>\n",
       "      <th>min_deltav</th>\n",
       "      <th>min_duration</th>\n",
       "      <th>viable_trajectory</th>\n",
       "      <th>optical_opp</th>\n",
       "      <th>radar_opp</th>\n",
       "      <th>gold_opp</th>\n",
       "      <th>undefined</th>\n",
       "      <th>min_deltav_dv</th>\n",
       "      <th>min_deltav_dur</th>\n",
       "      <th>min_duration_dv</th>\n",
       "      <th>min_duration_dur</th>\n",
       "      <th>min_diameter</th>\n",
       "      <th>max_diameter</th>\n",
       "      <th>optical_opp_mag</th>\n",
       "    </tr>\n",
       "  </thead>\n",
       "  <tbody>\n",
       "    <tr>\n",
       "      <th>0</th>\n",
       "      <td>2019 GM1</td>\n",
       "      <td>2</td>\n",
       "      <td>27.0</td>\n",
       "      <td>6.9 - 31</td>\n",
       "      <td>6</td>\n",
       "      <td>4.513, 362</td>\n",
       "      <td>11.862, 66</td>\n",
       "      <td>5947708</td>\n",
       "      <td>2020-03-01</td>\n",
       "      <td>2020-04 [320]</td>\n",
       "      <td>2040-03 [16]</td>\n",
       "      <td>bK19G01M</td>\n",
       "      <td>4.513</td>\n",
       "      <td>362.0</td>\n",
       "      <td>4.513</td>\n",
       "      <td>362.0</td>\n",
       "      <td>6.9</td>\n",
       "      <td>31.0</td>\n",
       "      <td>22.9</td>\n",
       "    </tr>\n",
       "    <tr>\n",
       "      <th>1</th>\n",
       "      <td>2000 SG344</td>\n",
       "      <td>16</td>\n",
       "      <td>24.7</td>\n",
       "      <td>20 - 89</td>\n",
       "      <td>3</td>\n",
       "      <td>3.549, 370</td>\n",
       "      <td>11.402, 34</td>\n",
       "      <td>3302683</td>\n",
       "      <td>2028-04-01</td>\n",
       "      <td>2028-05 [3.e3]</td>\n",
       "      <td>2028-05 [58]</td>\n",
       "      <td>bK00SY4G</td>\n",
       "      <td>3.549</td>\n",
       "      <td>370.0</td>\n",
       "      <td>3.549</td>\n",
       "      <td>370.0</td>\n",
       "      <td>20.0</td>\n",
       "      <td>89.0</td>\n",
       "      <td>19.1</td>\n",
       "    </tr>\n",
       "    <tr>\n",
       "      <th>2</th>\n",
       "      <td>469219 Kamo`oalewa 2016 HO3</td>\n",
       "      <td>25</td>\n",
       "      <td>24.3</td>\n",
       "      <td>24 - 107</td>\n",
       "      <td>0</td>\n",
       "      <td>6.108, 362</td>\n",
       "      <td>11.969, 154</td>\n",
       "      <td>3162138</td>\n",
       "      <td>2020-03-01</td>\n",
       "      <td>none</td>\n",
       "      <td>none</td>\n",
       "      <td>a0469219</td>\n",
       "      <td>6.108</td>\n",
       "      <td>362.0</td>\n",
       "      <td>6.108</td>\n",
       "      <td>362.0</td>\n",
       "      <td>24.0</td>\n",
       "      <td>107.0</td>\n",
       "      <td>22.2</td>\n",
       "    </tr>\n",
       "    <tr>\n",
       "      <th>3</th>\n",
       "      <td>2006 RH120</td>\n",
       "      <td>50</td>\n",
       "      <td>29.5</td>\n",
       "      <td>2.2 - 10</td>\n",
       "      <td>1</td>\n",
       "      <td>3.969, 450</td>\n",
       "      <td>11.410, 26</td>\n",
       "      <td>2498249</td>\n",
       "      <td>2028-06-01</td>\n",
       "      <td>none</td>\n",
       "      <td>none</td>\n",
       "      <td>bK06RC0H</td>\n",
       "      <td>3.969</td>\n",
       "      <td>450.0</td>\n",
       "      <td>3.969</td>\n",
       "      <td>450.0</td>\n",
       "      <td>2.2</td>\n",
       "      <td>10.0</td>\n",
       "      <td>23.7</td>\n",
       "    </tr>\n",
       "    <tr>\n",
       "      <th>4</th>\n",
       "      <td>2020 CD3</td>\n",
       "      <td>5</td>\n",
       "      <td>31.7</td>\n",
       "      <td>0.80 - 3.6</td>\n",
       "      <td>4</td>\n",
       "      <td>3.571, 378</td>\n",
       "      <td>9.358, 18</td>\n",
       "      <td>2240076</td>\n",
       "      <td>2020-03-01</td>\n",
       "      <td>2020-03 [450]</td>\n",
       "      <td>none</td>\n",
       "      <td>bK20C03D</td>\n",
       "      <td>3.571</td>\n",
       "      <td>378.0</td>\n",
       "      <td>3.571</td>\n",
       "      <td>378.0</td>\n",
       "      <td>0.8</td>\n",
       "      <td>3.6</td>\n",
       "      <td>23.5</td>\n",
       "    </tr>\n",
       "  </tbody>\n",
       "</table>\n",
       "</div>"
      ],
      "text/plain": [
       "                          name  id  v_band_mag    diameter  \\\n",
       "0                     2019 GM1   2        27.0    6.9 - 31   \n",
       "1                   2000 SG344  16        24.7     20 - 89   \n",
       "2  469219 Kamo`oalewa 2016 HO3  25        24.3    24 - 107   \n",
       "3                   2006 RH120  50        29.5    2.2 - 10   \n",
       "4                     2020 CD3   5        31.7  0.80 - 3.6   \n",
       "\n",
       "   orbit_condition_code  min_deltav min_duration  viable_trajectory  \\\n",
       "0                     6  4.513, 362   11.862, 66            5947708   \n",
       "1                     3  3.549, 370   11.402, 34            3302683   \n",
       "2                     0  6.108, 362  11.969, 154            3162138   \n",
       "3                     1  3.969, 450   11.410, 26            2498249   \n",
       "4                     4  3.571, 378    9.358, 18            2240076   \n",
       "\n",
       "  optical_opp       radar_opp      gold_opp undefined  min_deltav_dv  \\\n",
       "0  2020-03-01   2020-04 [320]  2040-03 [16]  bK19G01M          4.513   \n",
       "1  2028-04-01  2028-05 [3.e3]  2028-05 [58]  bK00SY4G          3.549   \n",
       "2  2020-03-01            none          none  a0469219          6.108   \n",
       "3  2028-06-01            none          none  bK06RC0H          3.969   \n",
       "4  2020-03-01   2020-03 [450]          none  bK20C03D          3.571   \n",
       "\n",
       "   min_deltav_dur  min_duration_dv  min_duration_dur  min_diameter  \\\n",
       "0           362.0            4.513             362.0           6.9   \n",
       "1           370.0            3.549             370.0          20.0   \n",
       "2           362.0            6.108             362.0          24.0   \n",
       "3           450.0            3.969             450.0           2.2   \n",
       "4           378.0            3.571             378.0           0.8   \n",
       "\n",
       "   max_diameter  optical_opp_mag  \n",
       "0          31.0             22.9  \n",
       "1          89.0             19.1  \n",
       "2         107.0             22.2  \n",
       "3          10.0             23.7  \n",
       "4           3.6             23.5  "
      ]
     },
     "execution_count": 165,
     "metadata": {},
     "output_type": "execute_result"
    }
   ],
   "source": [
    "# splitting and changing optical_opp to datetime\n",
    "nndf = ndf.copy()\n",
    "nndf[['optical_opp','optical_opp_mag']] = ndf[\"optical_opp\"].str.split(\" \",expand=True)\n",
    "nndf['optical_opp'] = nndf['optical_opp'].replace(\"none\",\"\")\n",
    "nndf['optical_opp'] = nndf['optical_opp'].str.strip(\"?\")\n",
    "nndf['optical_opp'] = pd.to_datetime(nndf['optical_opp'],infer_datetime_format=True)\n",
    "# cleaning optical_opp_mag\n",
    "nndf['optical_opp_mag'] = nndf['optical_opp_mag'].str.replace(\"[\",\"\")\n",
    "nndf['optical_opp_mag'] = nndf['optical_opp_mag'].str.replace(\"]\",\"\")\n",
    "nndf['optical_opp_mag'] = nndf['optical_opp_mag'].str.strip(\"?\")\n",
    "nndf['optical_opp_mag'] = nndf['optical_opp_mag'].astype(float)\n",
    "nndf.head(5)"
   ]
  },
  {
   "cell_type": "code",
   "execution_count": 166,
   "metadata": {},
   "outputs": [
    {
     "data": {
      "text/html": [
       "<div>\n",
       "<style scoped>\n",
       "    .dataframe tbody tr th:only-of-type {\n",
       "        vertical-align: middle;\n",
       "    }\n",
       "\n",
       "    .dataframe tbody tr th {\n",
       "        vertical-align: top;\n",
       "    }\n",
       "\n",
       "    .dataframe thead th {\n",
       "        text-align: right;\n",
       "    }\n",
       "</style>\n",
       "<table border=\"1\" class=\"dataframe\">\n",
       "  <thead>\n",
       "    <tr style=\"text-align: right;\">\n",
       "      <th></th>\n",
       "      <th>name</th>\n",
       "      <th>id</th>\n",
       "      <th>v_band_mag</th>\n",
       "      <th>diameter</th>\n",
       "      <th>orbit_condition_code</th>\n",
       "      <th>min_deltav</th>\n",
       "      <th>min_duration</th>\n",
       "      <th>viable_trajectory</th>\n",
       "      <th>optical_opp</th>\n",
       "      <th>radar_opp</th>\n",
       "      <th>gold_opp</th>\n",
       "      <th>undefined</th>\n",
       "      <th>min_deltav_dv</th>\n",
       "      <th>min_deltav_dur</th>\n",
       "      <th>min_duration_dv</th>\n",
       "      <th>min_duration_dur</th>\n",
       "      <th>min_diameter</th>\n",
       "      <th>max_diameter</th>\n",
       "      <th>optical_opp_mag</th>\n",
       "      <th>radar_opp_snr</th>\n",
       "    </tr>\n",
       "  </thead>\n",
       "  <tbody>\n",
       "    <tr>\n",
       "      <th>0</th>\n",
       "      <td>2019 GM1</td>\n",
       "      <td>2</td>\n",
       "      <td>27.0</td>\n",
       "      <td>6.9 - 31</td>\n",
       "      <td>6</td>\n",
       "      <td>4.513, 362</td>\n",
       "      <td>11.862, 66</td>\n",
       "      <td>5947708</td>\n",
       "      <td>2020-03-01</td>\n",
       "      <td>2020-04-01</td>\n",
       "      <td>2040-03 [16]</td>\n",
       "      <td>bK19G01M</td>\n",
       "      <td>4.513</td>\n",
       "      <td>362.0</td>\n",
       "      <td>4.513</td>\n",
       "      <td>362.0</td>\n",
       "      <td>6.9</td>\n",
       "      <td>31.0</td>\n",
       "      <td>22.9</td>\n",
       "      <td>320.0</td>\n",
       "    </tr>\n",
       "    <tr>\n",
       "      <th>1</th>\n",
       "      <td>2000 SG344</td>\n",
       "      <td>16</td>\n",
       "      <td>24.7</td>\n",
       "      <td>20 - 89</td>\n",
       "      <td>3</td>\n",
       "      <td>3.549, 370</td>\n",
       "      <td>11.402, 34</td>\n",
       "      <td>3302683</td>\n",
       "      <td>2028-04-01</td>\n",
       "      <td>2028-05-01</td>\n",
       "      <td>2028-05 [58]</td>\n",
       "      <td>bK00SY4G</td>\n",
       "      <td>3.549</td>\n",
       "      <td>370.0</td>\n",
       "      <td>3.549</td>\n",
       "      <td>370.0</td>\n",
       "      <td>20.0</td>\n",
       "      <td>89.0</td>\n",
       "      <td>19.1</td>\n",
       "      <td>3000.0</td>\n",
       "    </tr>\n",
       "    <tr>\n",
       "      <th>2</th>\n",
       "      <td>469219 Kamo`oalewa 2016 HO3</td>\n",
       "      <td>25</td>\n",
       "      <td>24.3</td>\n",
       "      <td>24 - 107</td>\n",
       "      <td>0</td>\n",
       "      <td>6.108, 362</td>\n",
       "      <td>11.969, 154</td>\n",
       "      <td>3162138</td>\n",
       "      <td>2020-03-01</td>\n",
       "      <td>NaT</td>\n",
       "      <td>none</td>\n",
       "      <td>a0469219</td>\n",
       "      <td>6.108</td>\n",
       "      <td>362.0</td>\n",
       "      <td>6.108</td>\n",
       "      <td>362.0</td>\n",
       "      <td>24.0</td>\n",
       "      <td>107.0</td>\n",
       "      <td>22.2</td>\n",
       "      <td>NaN</td>\n",
       "    </tr>\n",
       "    <tr>\n",
       "      <th>3</th>\n",
       "      <td>2006 RH120</td>\n",
       "      <td>50</td>\n",
       "      <td>29.5</td>\n",
       "      <td>2.2 - 10</td>\n",
       "      <td>1</td>\n",
       "      <td>3.969, 450</td>\n",
       "      <td>11.410, 26</td>\n",
       "      <td>2498249</td>\n",
       "      <td>2028-06-01</td>\n",
       "      <td>NaT</td>\n",
       "      <td>none</td>\n",
       "      <td>bK06RC0H</td>\n",
       "      <td>3.969</td>\n",
       "      <td>450.0</td>\n",
       "      <td>3.969</td>\n",
       "      <td>450.0</td>\n",
       "      <td>2.2</td>\n",
       "      <td>10.0</td>\n",
       "      <td>23.7</td>\n",
       "      <td>NaN</td>\n",
       "    </tr>\n",
       "    <tr>\n",
       "      <th>4</th>\n",
       "      <td>2020 CD3</td>\n",
       "      <td>5</td>\n",
       "      <td>31.7</td>\n",
       "      <td>0.80 - 3.6</td>\n",
       "      <td>4</td>\n",
       "      <td>3.571, 378</td>\n",
       "      <td>9.358, 18</td>\n",
       "      <td>2240076</td>\n",
       "      <td>2020-03-01</td>\n",
       "      <td>2020-03-01</td>\n",
       "      <td>none</td>\n",
       "      <td>bK20C03D</td>\n",
       "      <td>3.571</td>\n",
       "      <td>378.0</td>\n",
       "      <td>3.571</td>\n",
       "      <td>378.0</td>\n",
       "      <td>0.8</td>\n",
       "      <td>3.6</td>\n",
       "      <td>23.5</td>\n",
       "      <td>450.0</td>\n",
       "    </tr>\n",
       "  </tbody>\n",
       "</table>\n",
       "</div>"
      ],
      "text/plain": [
       "                          name  id  v_band_mag    diameter  \\\n",
       "0                     2019 GM1   2        27.0    6.9 - 31   \n",
       "1                   2000 SG344  16        24.7     20 - 89   \n",
       "2  469219 Kamo`oalewa 2016 HO3  25        24.3    24 - 107   \n",
       "3                   2006 RH120  50        29.5    2.2 - 10   \n",
       "4                     2020 CD3   5        31.7  0.80 - 3.6   \n",
       "\n",
       "   orbit_condition_code  min_deltav min_duration  viable_trajectory  \\\n",
       "0                     6  4.513, 362   11.862, 66            5947708   \n",
       "1                     3  3.549, 370   11.402, 34            3302683   \n",
       "2                     0  6.108, 362  11.969, 154            3162138   \n",
       "3                     1  3.969, 450   11.410, 26            2498249   \n",
       "4                     4  3.571, 378    9.358, 18            2240076   \n",
       "\n",
       "  optical_opp  radar_opp      gold_opp undefined  min_deltav_dv  \\\n",
       "0  2020-03-01 2020-04-01  2040-03 [16]  bK19G01M          4.513   \n",
       "1  2028-04-01 2028-05-01  2028-05 [58]  bK00SY4G          3.549   \n",
       "2  2020-03-01        NaT          none  a0469219          6.108   \n",
       "3  2028-06-01        NaT          none  bK06RC0H          3.969   \n",
       "4  2020-03-01 2020-03-01          none  bK20C03D          3.571   \n",
       "\n",
       "   min_deltav_dur  min_duration_dv  min_duration_dur  min_diameter  \\\n",
       "0           362.0            4.513             362.0           6.9   \n",
       "1           370.0            3.549             370.0          20.0   \n",
       "2           362.0            6.108             362.0          24.0   \n",
       "3           450.0            3.969             450.0           2.2   \n",
       "4           378.0            3.571             378.0           0.8   \n",
       "\n",
       "   max_diameter  optical_opp_mag  radar_opp_snr  \n",
       "0          31.0             22.9          320.0  \n",
       "1          89.0             19.1         3000.0  \n",
       "2         107.0             22.2            NaN  \n",
       "3          10.0             23.7            NaN  \n",
       "4           3.6             23.5          450.0  "
      ]
     },
     "execution_count": 166,
     "metadata": {},
     "output_type": "execute_result"
    }
   ],
   "source": [
    "# splitting and changing optical_opp to datetime\n",
    "nnndf = nndf.copy()\n",
    "nnndf[['radar_opp','radar_opp_snr']] = ndf[\"radar_opp\"].str.split(\" \",expand=True)\n",
    "nnndf['radar_opp'] = nnndf['radar_opp'].replace(\"none\",\"\")\n",
    "nnndf['radar_opp'] = nnndf['radar_opp'].str.strip(\"?\")\n",
    "nnndf['radar_opp'] = pd.to_datetime(nnndf['radar_opp'],infer_datetime_format=True)\n",
    "# cleaning optical_opp_mag\n",
    "nnndf['radar_opp_snr'] = nnndf['radar_opp_snr'].str.replace(\"[\",\"\")\n",
    "nnndf['radar_opp_snr'] = nnndf['radar_opp_snr'].str.replace(\"]\",\"\")\n",
    "nnndf['radar_opp_snr'] = nnndf['radar_opp_snr'].str.strip(\"?\")\n",
    "nnndf['radar_opp_snr'] = nnndf['radar_opp_snr'].astype(float)\n",
    "nnndf.head(5)"
   ]
  },
  {
   "cell_type": "code",
   "execution_count": 167,
   "metadata": {},
   "outputs": [
    {
     "data": {
      "text/html": [
       "<div>\n",
       "<style scoped>\n",
       "    .dataframe tbody tr th:only-of-type {\n",
       "        vertical-align: middle;\n",
       "    }\n",
       "\n",
       "    .dataframe tbody tr th {\n",
       "        vertical-align: top;\n",
       "    }\n",
       "\n",
       "    .dataframe thead th {\n",
       "        text-align: right;\n",
       "    }\n",
       "</style>\n",
       "<table border=\"1\" class=\"dataframe\">\n",
       "  <thead>\n",
       "    <tr style=\"text-align: right;\">\n",
       "      <th></th>\n",
       "      <th>name</th>\n",
       "      <th>id</th>\n",
       "      <th>v_band_mag</th>\n",
       "      <th>diameter</th>\n",
       "      <th>orbit_condition_code</th>\n",
       "      <th>min_deltav</th>\n",
       "      <th>min_duration</th>\n",
       "      <th>viable_trajectory</th>\n",
       "      <th>optical_opp</th>\n",
       "      <th>radar_opp</th>\n",
       "      <th>gold_opp</th>\n",
       "      <th>undefined</th>\n",
       "      <th>min_deltav_dv</th>\n",
       "      <th>min_deltav_dur</th>\n",
       "      <th>min_duration_dv</th>\n",
       "      <th>min_duration_dur</th>\n",
       "      <th>min_diameter</th>\n",
       "      <th>max_diameter</th>\n",
       "      <th>optical_opp_mag</th>\n",
       "      <th>radar_opp_snr</th>\n",
       "    </tr>\n",
       "  </thead>\n",
       "  <tbody>\n",
       "    <tr>\n",
       "      <th>0</th>\n",
       "      <td>2019 GM1</td>\n",
       "      <td>2</td>\n",
       "      <td>27.0</td>\n",
       "      <td>6.9 - 31</td>\n",
       "      <td>6</td>\n",
       "      <td>4.513, 362</td>\n",
       "      <td>11.862, 66</td>\n",
       "      <td>5947708</td>\n",
       "      <td>2020-03-01</td>\n",
       "      <td>2020-04-01</td>\n",
       "      <td>2040-03 [16]</td>\n",
       "      <td>bK19G01M</td>\n",
       "      <td>4.513</td>\n",
       "      <td>362.0</td>\n",
       "      <td>4.513</td>\n",
       "      <td>362.0</td>\n",
       "      <td>6.9</td>\n",
       "      <td>31.0</td>\n",
       "      <td>22.9</td>\n",
       "      <td>320.0</td>\n",
       "    </tr>\n",
       "    <tr>\n",
       "      <th>1</th>\n",
       "      <td>2000 SG344</td>\n",
       "      <td>16</td>\n",
       "      <td>24.7</td>\n",
       "      <td>20 - 89</td>\n",
       "      <td>3</td>\n",
       "      <td>3.549, 370</td>\n",
       "      <td>11.402, 34</td>\n",
       "      <td>3302683</td>\n",
       "      <td>2028-04-01</td>\n",
       "      <td>2028-05-01</td>\n",
       "      <td>2028-05 [58]</td>\n",
       "      <td>bK00SY4G</td>\n",
       "      <td>3.549</td>\n",
       "      <td>370.0</td>\n",
       "      <td>3.549</td>\n",
       "      <td>370.0</td>\n",
       "      <td>20.0</td>\n",
       "      <td>89.0</td>\n",
       "      <td>19.1</td>\n",
       "      <td>3000.0</td>\n",
       "    </tr>\n",
       "    <tr>\n",
       "      <th>2</th>\n",
       "      <td>469219 Kamo`oalewa 2016 HO3</td>\n",
       "      <td>25</td>\n",
       "      <td>24.3</td>\n",
       "      <td>24 - 107</td>\n",
       "      <td>0</td>\n",
       "      <td>6.108, 362</td>\n",
       "      <td>11.969, 154</td>\n",
       "      <td>3162138</td>\n",
       "      <td>2020-03-01</td>\n",
       "      <td>NaT</td>\n",
       "      <td>none</td>\n",
       "      <td>a0469219</td>\n",
       "      <td>6.108</td>\n",
       "      <td>362.0</td>\n",
       "      <td>6.108</td>\n",
       "      <td>362.0</td>\n",
       "      <td>24.0</td>\n",
       "      <td>107.0</td>\n",
       "      <td>22.2</td>\n",
       "      <td>NaN</td>\n",
       "    </tr>\n",
       "    <tr>\n",
       "      <th>3</th>\n",
       "      <td>2006 RH120</td>\n",
       "      <td>50</td>\n",
       "      <td>29.5</td>\n",
       "      <td>2.2 - 10</td>\n",
       "      <td>1</td>\n",
       "      <td>3.969, 450</td>\n",
       "      <td>11.410, 26</td>\n",
       "      <td>2498249</td>\n",
       "      <td>2028-06-01</td>\n",
       "      <td>NaT</td>\n",
       "      <td>none</td>\n",
       "      <td>bK06RC0H</td>\n",
       "      <td>3.969</td>\n",
       "      <td>450.0</td>\n",
       "      <td>3.969</td>\n",
       "      <td>450.0</td>\n",
       "      <td>2.2</td>\n",
       "      <td>10.0</td>\n",
       "      <td>23.7</td>\n",
       "      <td>NaN</td>\n",
       "    </tr>\n",
       "    <tr>\n",
       "      <th>4</th>\n",
       "      <td>2020 CD3</td>\n",
       "      <td>5</td>\n",
       "      <td>31.7</td>\n",
       "      <td>0.80 - 3.6</td>\n",
       "      <td>4</td>\n",
       "      <td>3.571, 378</td>\n",
       "      <td>9.358, 18</td>\n",
       "      <td>2240076</td>\n",
       "      <td>2020-03-01</td>\n",
       "      <td>2020-03-01</td>\n",
       "      <td>none</td>\n",
       "      <td>bK20C03D</td>\n",
       "      <td>3.571</td>\n",
       "      <td>378.0</td>\n",
       "      <td>3.571</td>\n",
       "      <td>378.0</td>\n",
       "      <td>0.8</td>\n",
       "      <td>3.6</td>\n",
       "      <td>23.5</td>\n",
       "      <td>450.0</td>\n",
       "    </tr>\n",
       "  </tbody>\n",
       "</table>\n",
       "</div>"
      ],
      "text/plain": [
       "                          name  id  v_band_mag    diameter  \\\n",
       "0                     2019 GM1   2        27.0    6.9 - 31   \n",
       "1                   2000 SG344  16        24.7     20 - 89   \n",
       "2  469219 Kamo`oalewa 2016 HO3  25        24.3    24 - 107   \n",
       "3                   2006 RH120  50        29.5    2.2 - 10   \n",
       "4                     2020 CD3   5        31.7  0.80 - 3.6   \n",
       "\n",
       "   orbit_condition_code  min_deltav min_duration  viable_trajectory  \\\n",
       "0                     6  4.513, 362   11.862, 66            5947708   \n",
       "1                     3  3.549, 370   11.402, 34            3302683   \n",
       "2                     0  6.108, 362  11.969, 154            3162138   \n",
       "3                     1  3.969, 450   11.410, 26            2498249   \n",
       "4                     4  3.571, 378    9.358, 18            2240076   \n",
       "\n",
       "  optical_opp  radar_opp      gold_opp undefined  min_deltav_dv  \\\n",
       "0  2020-03-01 2020-04-01  2040-03 [16]  bK19G01M          4.513   \n",
       "1  2028-04-01 2028-05-01  2028-05 [58]  bK00SY4G          3.549   \n",
       "2  2020-03-01        NaT          none  a0469219          6.108   \n",
       "3  2028-06-01        NaT          none  bK06RC0H          3.969   \n",
       "4  2020-03-01 2020-03-01          none  bK20C03D          3.571   \n",
       "\n",
       "   min_deltav_dur  min_duration_dv  min_duration_dur  min_diameter  \\\n",
       "0           362.0            4.513             362.0           6.9   \n",
       "1           370.0            3.549             370.0          20.0   \n",
       "2           362.0            6.108             362.0          24.0   \n",
       "3           450.0            3.969             450.0           2.2   \n",
       "4           378.0            3.571             378.0           0.8   \n",
       "\n",
       "   max_diameter  optical_opp_mag  radar_opp_snr  \n",
       "0          31.0             22.9          320.0  \n",
       "1          89.0             19.1         3000.0  \n",
       "2         107.0             22.2            NaN  \n",
       "3          10.0             23.7            NaN  \n",
       "4           3.6             23.5          450.0  "
      ]
     },
     "execution_count": 167,
     "metadata": {},
     "output_type": "execute_result"
    }
   ],
   "source": [
    "# splitting and changing radar_opp to datetime\n",
    "nnndf = nndf.copy()\n",
    "nnndf[['radar_opp','radar_opp_snr']] = ndf[\"radar_opp\"].str.split(\" \",expand=True)\n",
    "nnndf['radar_opp'] = nnndf['radar_opp'].replace(\"none\",\"\")\n",
    "nnndf['radar_opp'] = nnndf['radar_opp'].str.strip(\"?\")\n",
    "nnndf['radar_opp'] = pd.to_datetime(nnndf['radar_opp'],infer_datetime_format=True)\n",
    "# cleaning radar_opp_snr\n",
    "nnndf['radar_opp_snr'] = nnndf['radar_opp_snr'].str.replace(\"[\",\"\")\n",
    "nnndf['radar_opp_snr'] = nnndf['radar_opp_snr'].str.replace(\"]\",\"\")\n",
    "nnndf['radar_opp_snr'] = nnndf['radar_opp_snr'].str.strip(\"?\")\n",
    "nnndf['radar_opp_snr'] = nnndf['radar_opp_snr'].astype(float)\n",
    "nnndf.head(5)"
   ]
  },
  {
   "cell_type": "code",
   "execution_count": 168,
   "metadata": {},
   "outputs": [
    {
     "data": {
      "text/html": [
       "<div>\n",
       "<style scoped>\n",
       "    .dataframe tbody tr th:only-of-type {\n",
       "        vertical-align: middle;\n",
       "    }\n",
       "\n",
       "    .dataframe tbody tr th {\n",
       "        vertical-align: top;\n",
       "    }\n",
       "\n",
       "    .dataframe thead th {\n",
       "        text-align: right;\n",
       "    }\n",
       "</style>\n",
       "<table border=\"1\" class=\"dataframe\">\n",
       "  <thead>\n",
       "    <tr style=\"text-align: right;\">\n",
       "      <th></th>\n",
       "      <th>name</th>\n",
       "      <th>id</th>\n",
       "      <th>v_band_mag</th>\n",
       "      <th>diameter</th>\n",
       "      <th>orbit_condition_code</th>\n",
       "      <th>min_deltav</th>\n",
       "      <th>min_duration</th>\n",
       "      <th>viable_trajectory</th>\n",
       "      <th>optical_opp</th>\n",
       "      <th>radar_opp</th>\n",
       "      <th>...</th>\n",
       "      <th>undefined</th>\n",
       "      <th>min_deltav_dv</th>\n",
       "      <th>min_deltav_dur</th>\n",
       "      <th>min_duration_dv</th>\n",
       "      <th>min_duration_dur</th>\n",
       "      <th>min_diameter</th>\n",
       "      <th>max_diameter</th>\n",
       "      <th>optical_opp_mag</th>\n",
       "      <th>radar_opp_snr</th>\n",
       "      <th>gold_opp_snr</th>\n",
       "    </tr>\n",
       "  </thead>\n",
       "  <tbody>\n",
       "    <tr>\n",
       "      <th>0</th>\n",
       "      <td>2019 GM1</td>\n",
       "      <td>2</td>\n",
       "      <td>27.0</td>\n",
       "      <td>6.9 - 31</td>\n",
       "      <td>6</td>\n",
       "      <td>4.513, 362</td>\n",
       "      <td>11.862, 66</td>\n",
       "      <td>5947708</td>\n",
       "      <td>2020-03-01</td>\n",
       "      <td>2020-04-01</td>\n",
       "      <td>...</td>\n",
       "      <td>bK19G01M</td>\n",
       "      <td>4.513</td>\n",
       "      <td>362.0</td>\n",
       "      <td>4.513</td>\n",
       "      <td>362.0</td>\n",
       "      <td>6.9</td>\n",
       "      <td>31.0</td>\n",
       "      <td>22.9</td>\n",
       "      <td>320.0</td>\n",
       "      <td>16.0</td>\n",
       "    </tr>\n",
       "    <tr>\n",
       "      <th>1</th>\n",
       "      <td>2000 SG344</td>\n",
       "      <td>16</td>\n",
       "      <td>24.7</td>\n",
       "      <td>20 - 89</td>\n",
       "      <td>3</td>\n",
       "      <td>3.549, 370</td>\n",
       "      <td>11.402, 34</td>\n",
       "      <td>3302683</td>\n",
       "      <td>2028-04-01</td>\n",
       "      <td>2028-05-01</td>\n",
       "      <td>...</td>\n",
       "      <td>bK00SY4G</td>\n",
       "      <td>3.549</td>\n",
       "      <td>370.0</td>\n",
       "      <td>3.549</td>\n",
       "      <td>370.0</td>\n",
       "      <td>20.0</td>\n",
       "      <td>89.0</td>\n",
       "      <td>19.1</td>\n",
       "      <td>3000.0</td>\n",
       "      <td>58.0</td>\n",
       "    </tr>\n",
       "    <tr>\n",
       "      <th>2</th>\n",
       "      <td>469219 Kamo`oalewa 2016 HO3</td>\n",
       "      <td>25</td>\n",
       "      <td>24.3</td>\n",
       "      <td>24 - 107</td>\n",
       "      <td>0</td>\n",
       "      <td>6.108, 362</td>\n",
       "      <td>11.969, 154</td>\n",
       "      <td>3162138</td>\n",
       "      <td>2020-03-01</td>\n",
       "      <td>NaT</td>\n",
       "      <td>...</td>\n",
       "      <td>a0469219</td>\n",
       "      <td>6.108</td>\n",
       "      <td>362.0</td>\n",
       "      <td>6.108</td>\n",
       "      <td>362.0</td>\n",
       "      <td>24.0</td>\n",
       "      <td>107.0</td>\n",
       "      <td>22.2</td>\n",
       "      <td>NaN</td>\n",
       "      <td>NaN</td>\n",
       "    </tr>\n",
       "    <tr>\n",
       "      <th>3</th>\n",
       "      <td>2006 RH120</td>\n",
       "      <td>50</td>\n",
       "      <td>29.5</td>\n",
       "      <td>2.2 - 10</td>\n",
       "      <td>1</td>\n",
       "      <td>3.969, 450</td>\n",
       "      <td>11.410, 26</td>\n",
       "      <td>2498249</td>\n",
       "      <td>2028-06-01</td>\n",
       "      <td>NaT</td>\n",
       "      <td>...</td>\n",
       "      <td>bK06RC0H</td>\n",
       "      <td>3.969</td>\n",
       "      <td>450.0</td>\n",
       "      <td>3.969</td>\n",
       "      <td>450.0</td>\n",
       "      <td>2.2</td>\n",
       "      <td>10.0</td>\n",
       "      <td>23.7</td>\n",
       "      <td>NaN</td>\n",
       "      <td>NaN</td>\n",
       "    </tr>\n",
       "    <tr>\n",
       "      <th>4</th>\n",
       "      <td>2020 CD3</td>\n",
       "      <td>5</td>\n",
       "      <td>31.7</td>\n",
       "      <td>0.80 - 3.6</td>\n",
       "      <td>4</td>\n",
       "      <td>3.571, 378</td>\n",
       "      <td>9.358, 18</td>\n",
       "      <td>2240076</td>\n",
       "      <td>2020-03-01</td>\n",
       "      <td>2020-03-01</td>\n",
       "      <td>...</td>\n",
       "      <td>bK20C03D</td>\n",
       "      <td>3.571</td>\n",
       "      <td>378.0</td>\n",
       "      <td>3.571</td>\n",
       "      <td>378.0</td>\n",
       "      <td>0.8</td>\n",
       "      <td>3.6</td>\n",
       "      <td>23.5</td>\n",
       "      <td>450.0</td>\n",
       "      <td>NaN</td>\n",
       "    </tr>\n",
       "  </tbody>\n",
       "</table>\n",
       "<p>5 rows × 21 columns</p>\n",
       "</div>"
      ],
      "text/plain": [
       "                          name  id  v_band_mag    diameter  \\\n",
       "0                     2019 GM1   2        27.0    6.9 - 31   \n",
       "1                   2000 SG344  16        24.7     20 - 89   \n",
       "2  469219 Kamo`oalewa 2016 HO3  25        24.3    24 - 107   \n",
       "3                   2006 RH120  50        29.5    2.2 - 10   \n",
       "4                     2020 CD3   5        31.7  0.80 - 3.6   \n",
       "\n",
       "   orbit_condition_code  min_deltav min_duration  viable_trajectory  \\\n",
       "0                     6  4.513, 362   11.862, 66            5947708   \n",
       "1                     3  3.549, 370   11.402, 34            3302683   \n",
       "2                     0  6.108, 362  11.969, 154            3162138   \n",
       "3                     1  3.969, 450   11.410, 26            2498249   \n",
       "4                     4  3.571, 378    9.358, 18            2240076   \n",
       "\n",
       "  optical_opp  radar_opp  ... undefined min_deltav_dv  min_deltav_dur  \\\n",
       "0  2020-03-01 2020-04-01  ...  bK19G01M         4.513           362.0   \n",
       "1  2028-04-01 2028-05-01  ...  bK00SY4G         3.549           370.0   \n",
       "2  2020-03-01        NaT  ...  a0469219         6.108           362.0   \n",
       "3  2028-06-01        NaT  ...  bK06RC0H         3.969           450.0   \n",
       "4  2020-03-01 2020-03-01  ...  bK20C03D         3.571           378.0   \n",
       "\n",
       "   min_duration_dv  min_duration_dur  min_diameter  max_diameter  \\\n",
       "0            4.513             362.0           6.9          31.0   \n",
       "1            3.549             370.0          20.0          89.0   \n",
       "2            6.108             362.0          24.0         107.0   \n",
       "3            3.969             450.0           2.2          10.0   \n",
       "4            3.571             378.0           0.8           3.6   \n",
       "\n",
       "   optical_opp_mag  radar_opp_snr  gold_opp_snr  \n",
       "0             22.9          320.0          16.0  \n",
       "1             19.1         3000.0          58.0  \n",
       "2             22.2            NaN           NaN  \n",
       "3             23.7            NaN           NaN  \n",
       "4             23.5          450.0           NaN  \n",
       "\n",
       "[5 rows x 21 columns]"
      ]
     },
     "execution_count": 168,
     "metadata": {},
     "output_type": "execute_result"
    }
   ],
   "source": [
    "# splitting and changing gold_opp to datetime\n",
    "nnnndf = nnndf.copy()\n",
    "nnnndf[['gold_opp','gold_opp_snr']] = ndf[\"gold_opp\"].str.split(\" \",expand=True)\n",
    "nnnndf['gold_opp'] = nnnndf['gold_opp'].replace(\"none\",\"\")\n",
    "nnnndf['gold_opp'] = nnnndf['gold_opp'].str.strip(\"?\")\n",
    "nnnndf['gold_opp'] = pd.to_datetime(nnnndf['gold_opp'],infer_datetime_format=True)\n",
    "# cleaning gold_opp_snr\n",
    "nnnndf['gold_opp_snr'] = nnnndf['gold_opp_snr'].str.replace(\"[\",\"\")\n",
    "nnnndf['gold_opp_snr'] = nnnndf['gold_opp_snr'].str.replace(\"]\",\"\")\n",
    "nnnndf['gold_opp_snr'] = nnnndf['gold_opp_snr'].str.strip(\"?\")\n",
    "nnnndf['gold_opp_snr'] = nnnndf['gold_opp_snr'].astype(float)\n",
    "nnnndf.head(5)"
   ]
  },
  {
   "cell_type": "markdown",
   "metadata": {},
   "source": [
    "# <div align=\"center\"><font color=\"red\">....WaW.....</font></span>"
   ]
  },
  {
   "cell_type": "markdown",
   "metadata": {},
   "source": [
    "# Time to learning about those threatening stones"
   ]
  },
  {
   "cell_type": "code",
   "execution_count": 207,
   "metadata": {},
   "outputs": [],
   "source": [
    "nea = nnnndf.copy()\n",
    "columns = ['name', 'v_band_mag', 'diameter','min_deltav', 'min_duration', 'optical_opp','radar_opp', 'gold_opp']"
   ]
  },
  {
   "cell_type": "code",
   "execution_count": 208,
   "metadata": {},
   "outputs": [
    {
     "data": {
      "text/plain": [
       "name            1943 Anteros 1973 EC\n",
       "v_band_mag                      15.6\n",
       "diameter                 1320 - 5901\n",
       "min_deltav               11.705, 370\n",
       "min_duration             11.918, 354\n",
       "optical_opp      2020-10-01 00:00:00\n",
       "radar_opp        2026-06-01 00:00:00\n",
       "gold_opp         2026-05-01 00:00:00\n",
       "Name: 2760, dtype: object"
      ]
     },
     "execution_count": 208,
     "metadata": {},
     "output_type": "execute_result"
    }
   ],
   "source": [
    "# 1. What are the properties of the largest astroid?\n",
    "#       it is one  kilo-meter in diameter\n",
    "#       it has a very small visual magnitude. \n",
    "#       it requires approximately a year to reach with the best trajectory\n",
    "#       an optical oppurtinity is possible this year \n",
    "#       Goldstone and Arecibo would have to wait for another 6 years\n",
    "#one way\n",
    "mnea1 = nea[nea[\"max_diameter\"]==nea[\"max_diameter\"].max()]\n",
    "# another way\n",
    "mnea2 = nea.iloc[nea['max_diameter'].idxmax()]\n",
    "mnea2[columns]"
   ]
  },
  {
   "cell_type": "code",
   "execution_count": 235,
   "metadata": {},
   "outputs": [
    {
     "data": {
      "text/plain": [
       "name               2019 AS5\n",
       "v_band_mag             32.3\n",
       "diameter         0.60 - 2.7\n",
       "min_deltav      11.322, 426\n",
       "min_duration    11.883, 306\n",
       "optical_opp             NaT\n",
       "radar_opp               NaT\n",
       "gold_opp                NaT\n",
       "Name: 2063, dtype: object"
      ]
     },
     "execution_count": 235,
     "metadata": {},
     "output_type": "execute_result"
    }
   ],
   "source": [
    "# 2. What are the properties of the smallest astroid?\n",
    "#       it is one  less than a meter in size\n",
    "#       it has a very high visual magnitude. \n",
    "#       it requires approximately a year to reach with the best trajectory\n",
    "#       no optical or radar oppurtunity is possible\n",
    "snea = nea[~nea[\"max_diameter\"].isnull()].reset_index()\n",
    "snea.loc[snea['max_diameter'].idxmin()][columns]"
   ]
  },
  {
   "cell_type": "code",
   "execution_count": 278,
   "metadata": {},
   "outputs": [
    {
     "data": {
      "text/plain": [
       "name               2019 AS5\n",
       "v_band_mag             32.3\n",
       "diameter         0.60 - 2.7\n",
       "min_deltav      11.322, 426\n",
       "min_duration    11.883, 306\n",
       "optical_opp             NaT\n",
       "radar_opp               NaT\n",
       "gold_opp                NaT\n",
       "Name: 2063, dtype: object"
      ]
     },
     "execution_count": 278,
     "metadata": {},
     "output_type": "execute_result"
    }
   ],
   "source": [
    "# 3. What are the properties of the astroid with the highest visual band?\n",
    "hvb = nea.iloc[nea['v_band_mag'].idxmax()]\n",
    "hvb[columns]"
   ]
  },
  {
   "cell_type": "code",
   "execution_count": 351,
   "metadata": {},
   "outputs": [],
   "source": [
    "from astropy.time import Time,TimeDatetime\n",
    "from poliastro.twobody.orbit import Orbit\n",
    "from poliastro.bodies import Earth\n",
    "from poliastro.plotting import OrbitPlotter3D #import OrbitPlotter\n",
    "from poliastro.neos import neows\n",
    "from poliastro.plotting.static import StaticOrbitPlotter\n",
    "from poliastro.bodies import Earth, Mars, Jupiter, Sun"
   ]
  },
  {
   "cell_type": "code",
   "execution_count": 280,
   "metadata": {},
   "outputs": [
    {
     "data": {
      "application/vnd.jupyter.widget-view+json": {
       "model_id": "c70184e7fd494899ab60ec6de1beaa16",
       "version_major": 2,
       "version_minor": 0
      },
      "text/plain": [
       "FigureWidget({\n",
       "    'data': [{'line': {'color': 'rgb(31, 119, 180)', 'dash': 'dash', 'width': 5},\n",
       "             …"
      ]
     },
     "metadata": {},
     "output_type": "display_data"
    }
   ],
   "source": [
    "#epoch = Time(hvb[\"optical_opp\"], scale=\"tdb\")\n",
    "as5 = neows.orbit_from_name(\"2019 AS5\")\n",
    "earth = Orbit.from_body_ephem(Earth)\n",
    "plotter = OrbitPlotter3D()\n",
    "plotter.plot(earth, label=\"Earth\")\n",
    "plotter.plot(as5, label=\"2019 AS5\")"
   ]
  },
  {
   "cell_type": "code",
   "execution_count": 281,
   "metadata": {},
   "outputs": [
    {
     "data": {
      "text/plain": [
       "name            1943 Anteros 1973 EC\n",
       "v_band_mag                      15.6\n",
       "diameter                 1320 - 5901\n",
       "min_deltav               11.705, 370\n",
       "min_duration             11.918, 354\n",
       "optical_opp      2020-10-01 00:00:00\n",
       "radar_opp        2026-06-01 00:00:00\n",
       "gold_opp         2026-05-01 00:00:00\n",
       "Name: 2760, dtype: object"
      ]
     },
     "execution_count": 281,
     "metadata": {},
     "output_type": "execute_result"
    }
   ],
   "source": [
    "# 4. What are the properties of the astroid with the lowest visual band?\n",
    "lvb = nea.iloc[nea['v_band_mag'].idxmin()]\n",
    "lvb[columns]"
   ]
  },
  {
   "cell_type": "code",
   "execution_count": 282,
   "metadata": {},
   "outputs": [
    {
     "data": {
      "application/vnd.jupyter.widget-view+json": {
       "model_id": "839a1e0fdf9c4e8fbcf183021d777834",
       "version_major": 2,
       "version_minor": 0
      },
      "text/plain": [
       "FigureWidget({\n",
       "    'data': [{'line': {'color': 'rgb(31, 119, 180)', 'dash': 'dash', 'width': 5},\n",
       "             …"
      ]
     },
     "metadata": {},
     "output_type": "display_data"
    }
   ],
   "source": [
    "ec = neows.orbit_from_name(\"1973 EC\")\n",
    "earth = Orbit.from_body_ephem(Earth)\n",
    "plotter = OrbitPlotter3D()\n",
    "plotter.plot(earth, label=\"Earth\")\n",
    "plotter.plot(ec, label=\"1973 EC\")"
   ]
  },
  {
   "cell_type": "code",
   "execution_count": 285,
   "metadata": {},
   "outputs": [
    {
     "data": {
      "text/plain": [
       "name                         2017 SV19\n",
       "v_band_mag                          25\n",
       "diameter                       17 - 78\n",
       "min_deltav                  4.614, 442\n",
       "min_duration                11.796, 42\n",
       "optical_opp        2028-09-01 00:00:00\n",
       "radar_opp          2029-02-01 00:00:00\n",
       "gold_opp                           NaT\n",
       "optical_opp_mag                     24\n",
       "Name: 25, dtype: object"
      ]
     },
     "execution_count": 285,
     "metadata": {},
     "output_type": "execute_result"
    }
   ],
   "source": [
    "# 5. What are the properties of the astroid with the highest optical oppurtinity magnitude?\n",
    "hopm = nea.iloc[nea['optical_opp_mag'].idxmax()]\n",
    "hopm[columns+[\"optical_opp_mag\"]]"
   ]
  },
  {
   "cell_type": "code",
   "execution_count": 327,
   "metadata": {},
   "outputs": [
    {
     "data": {
      "application/vnd.jupyter.widget-view+json": {
       "model_id": "d4c63a7df9a64d09aa802ff759c6b84f",
       "version_major": 2,
       "version_minor": 0
      },
      "text/plain": [
       "FigureWidget({\n",
       "    'data': [{'line': {'color': 'rgb(31, 119, 180)', 'dash': 'dash', 'width': 5},\n",
       "             …"
      ]
     },
     "metadata": {},
     "output_type": "display_data"
    }
   ],
   "source": [
    "sv = neows.orbit_from_name(\"2017 SV19\")\n",
    "earth = Orbit.from_body_ephem(Earth)\n",
    "sv = sv.propagate(earth.epoch)\n",
    "plotter = OrbitPlotter3D()\n",
    "plotter.plot(earth, label=\"Earth\")\n",
    "plotter.plot(sv, label=\"2017 SV19\")"
   ]
  },
  {
   "cell_type": "code",
   "execution_count": 386,
   "metadata": {},
   "outputs": [
    {
     "data": {
      "text/latex": [
       "$1.0160316 \\; \\mathrm{AU}$"
      ],
      "text/plain": [
       "<Quantity 1.01603165 AU>"
      ]
     },
     "execution_count": 386,
     "metadata": {},
     "output_type": "execute_result"
    }
   ],
   "source": [
    "# finding the distance between earth and the sun\n",
    "from poliastro.util import norm\n",
    "distance = lambda x,y: norm(x.r - y.r) - Earth.R \n",
    "sun = Orbit.from_body_ephem(Sun)\n",
    "esdistance = distance(sun,earth)\n",
    "esdistance.to(u.au)"
   ]
  },
  {
   "cell_type": "code",
   "execution_count": 387,
   "metadata": {},
   "outputs": [
    {
     "data": {
      "text/latex": [
       "$2.802184 \\times 10^{8} \\; \\mathrm{km}$"
      ],
      "text/plain": [
       "<Quantity 2.80218398e+08 km>"
      ]
     },
     "execution_count": 387,
     "metadata": {},
     "output_type": "execute_result"
    }
   ],
   "source": [
    "# finding the distance between 2017 SV19 and the sun\n",
    "svdistance = distance(sv,earth)\n",
    "svdistance"
   ]
  },
  {
   "cell_type": "code",
   "execution_count": 388,
   "metadata": {},
   "outputs": [
    {
     "data": {
      "text/latex": [
       "$1.8731443 \\; \\mathrm{AU}$"
      ],
      "text/plain": [
       "<Quantity 1.87314429 AU>"
      ]
     },
     "execution_count": 388,
     "metadata": {},
     "output_type": "execute_result"
    }
   ],
   "source": [
    "from astropy import units as u\n",
    "svdistance.to(u.au)"
   ]
  },
  {
   "cell_type": "code",
   "execution_count": 320,
   "metadata": {},
   "outputs": [
    {
     "data": {
      "text/plain": [
       "[<matplotlib.lines.Line2D at 0x1382b6820>,\n",
       " <matplotlib.lines.Line2D at 0x13a22d3a0>]"
      ]
     },
     "execution_count": 320,
     "metadata": {},
     "output_type": "execute_result"
    },
    {
     "data": {
      "image/png": "[encoded data removed]",
      "text/plain": [
       "<Figure size 432x432 with 1 Axes>"
      ]
     },
     "metadata": {
      "needs_background": "light"
     },
     "output_type": "display_data"
    }
   ],
   "source": [
    "plotter = StaticOrbitPlotter()\n",
    "plotter.plot(earth)\n",
    "plotter.plot(sv)"
   ]
  },
  {
   "cell_type": "code",
   "execution_count": 339,
   "metadata": {},
   "outputs": [
    {
     "data": {
      "text/plain": [
       "name                         2016 VY1\n",
       "v_band_mag                       24.7\n",
       "diameter                      20 - 89\n",
       "min_deltav                 7.403, 170\n",
       "min_duration               11.823, 90\n",
       "optical_opp       2023-05-01 00:00:00\n",
       "radar_opp         2029-11-01 00:00:00\n",
       "gold_opp          2029-11-01 00:00:00\n",
       "min_deltav_dur                    170\n",
       "Name: 1147, dtype: object"
      ]
     },
     "execution_count": 339,
     "metadata": {},
     "output_type": "execute_result"
    }
   ],
   "source": [
    "# 6. What is the closest astroid?\n",
    "closest = nea.iloc[nea['min_deltav_dur'].idxmin()]\n",
    "closest[columns+[\"min_deltav_dur\"]]"
   ]
  },
  {
   "cell_type": "code",
   "execution_count": 340,
   "metadata": {},
   "outputs": [
    {
     "data": {
      "application/vnd.jupyter.widget-view+json": {
       "model_id": "c9cfd6fccaca49a181b5c3a8d47a60c8",
       "version_major": 2,
       "version_minor": 0
      },
      "text/plain": [
       "FigureWidget({\n",
       "    'data': [{'line': {'color': 'rgb(31, 119, 180)', 'dash': 'dash', 'width': 5},\n",
       "             …"
      ]
     },
     "metadata": {},
     "output_type": "display_data"
    }
   ],
   "source": [
    "vy1 = neows.orbit_from_name(\"2016 VY1\")\n",
    "earth = Orbit.from_body_ephem(Earth)\n",
    "vy1 = vy1.propagate(earth.epoch)\n",
    "plotter = OrbitPlotter3D()\n",
    "plotter.plot(earth, label=\"Earth\")\n",
    "plotter.plot(vy1, label=\"2016 VY1\")"
   ]
  },
  {
   "cell_type": "code",
   "execution_count": 396,
   "metadata": {},
   "outputs": [
    {
     "data": {
      "application/vnd.jupyter.widget-view+json": {
       "model_id": "58fd5e5dd0af4e3aaff9247e56c6dc08",
       "version_major": 2,
       "version_minor": 0
      },
      "text/plain": [
       "FigureWidget({\n",
       "    'data': [{'line': {'color': 'rgb(31, 119, 180)', 'dash': 'dash', 'width': 5},\n",
       "             …"
      ]
     },
     "metadata": {},
     "output_type": "display_data"
    }
   ],
   "source": [
    "epoch = Time(\"2023-05-01\",scale=\"tdb\")\n",
    "vy1 = vy1.propagate(epoch)\n",
    "earth = Orbit.from_body_ephem(Earth,epoch)\n",
    "plotter = OrbitPlotter3D()\n",
    "plotter.plot(earth, label=\"Earth\")\n",
    "plotter.plot(vy1, label=\"2016 VY1\")"
   ]
  },
  {
   "cell_type": "code",
   "execution_count": 401,
   "metadata": {},
   "outputs": [
    {
     "data": {
      "text/latex": [
       "$0.31334384 \\; \\mathrm{AU}$"
      ],
      "text/plain": [
       "<Quantity 0.31334384 AU>"
      ]
     },
     "execution_count": 401,
     "metadata": {},
     "output_type": "execute_result"
    }
   ],
   "source": [
    "#distance\n",
    "d = distance(vy1.to_icrs(),earth)\n",
    "d.to(u.au)"
   ]
  },
  {
   "cell_type": "code",
   "execution_count": 369,
   "metadata": {},
   "outputs": [
    {
     "data": {
      "text/plain": [
       "[<matplotlib.lines.Line2D at 0x13efc02e0>,\n",
       " <matplotlib.lines.Line2D at 0x13efc0760>]"
      ]
     },
     "execution_count": 369,
     "metadata": {},
     "output_type": "execute_result"
    },
    {
     "data": {
      "image/png": "[encoded data removed]",
      "text/plain": [
       "<Figure size 1008x432 with 1 Axes>"
      ]
     },
     "metadata": {
      "needs_background": "light"
     },
     "output_type": "display_data"
    }
   ],
   "source": [
    "# checking classification\n",
    "plotter = StaticOrbitPlotter()\n",
    "plotter.plot(earth,label=\"Earth\")\n",
    "plotter.plot(vy1,label=\"VY1\")"
   ]
  },
  {
   "cell_type": "code",
   "execution_count": 246,
   "metadata": {},
   "outputs": [
    {
     "data": {
      "text/html": [
       "<div>\n",
       "<style scoped>\n",
       "    .dataframe tbody tr th:only-of-type {\n",
       "        vertical-align: middle;\n",
       "    }\n",
       "\n",
       "    .dataframe tbody tr th {\n",
       "        vertical-align: top;\n",
       "    }\n",
       "\n",
       "    .dataframe thead th {\n",
       "        text-align: right;\n",
       "    }\n",
       "</style>\n",
       "<table border=\"1\" class=\"dataframe\">\n",
       "  <thead>\n",
       "    <tr style=\"text-align: right;\">\n",
       "      <th></th>\n",
       "      <th>name</th>\n",
       "      <th>v_band_mag</th>\n",
       "      <th>diameter</th>\n",
       "      <th>min_deltav</th>\n",
       "      <th>min_duration</th>\n",
       "      <th>optical_opp</th>\n",
       "      <th>radar_opp</th>\n",
       "      <th>gold_opp</th>\n",
       "    </tr>\n",
       "  </thead>\n",
       "  <tbody>\n",
       "    <tr>\n",
       "      <th>0</th>\n",
       "      <td>2019 GM1</td>\n",
       "      <td>27.0</td>\n",
       "      <td>6.9 - 31</td>\n",
       "      <td>4.513, 362</td>\n",
       "      <td>11.862, 66</td>\n",
       "      <td>2020-03-01</td>\n",
       "      <td>2020-04-01</td>\n",
       "      <td>2040-03-01</td>\n",
       "    </tr>\n",
       "    <tr>\n",
       "      <th>1</th>\n",
       "      <td>469219 Kamo`oalewa 2016 HO3</td>\n",
       "      <td>24.3</td>\n",
       "      <td>24 - 107</td>\n",
       "      <td>6.108, 362</td>\n",
       "      <td>11.969, 154</td>\n",
       "      <td>2020-03-01</td>\n",
       "      <td>NaT</td>\n",
       "      <td>NaT</td>\n",
       "    </tr>\n",
       "    <tr>\n",
       "      <th>2</th>\n",
       "      <td>2020 CD3</td>\n",
       "      <td>31.7</td>\n",
       "      <td>0.80 - 3.6</td>\n",
       "      <td>3.571, 378</td>\n",
       "      <td>9.358, 18</td>\n",
       "      <td>2020-03-01</td>\n",
       "      <td>2020-03-01</td>\n",
       "      <td>NaT</td>\n",
       "    </tr>\n",
       "    <tr>\n",
       "      <th>3</th>\n",
       "      <td>2001 GP2</td>\n",
       "      <td>26.9</td>\n",
       "      <td>7.3 - 32</td>\n",
       "      <td>4.205, 386</td>\n",
       "      <td>11.118, 34</td>\n",
       "      <td>2020-10-01</td>\n",
       "      <td>NaT</td>\n",
       "      <td>NaT</td>\n",
       "    </tr>\n",
       "    <tr>\n",
       "      <th>4</th>\n",
       "      <td>2019 DJ1</td>\n",
       "      <td>26.8</td>\n",
       "      <td>7.6 - 34</td>\n",
       "      <td>4.286, 370</td>\n",
       "      <td>11.959, 74</td>\n",
       "      <td>2020-12-01</td>\n",
       "      <td>NaT</td>\n",
       "      <td>NaT</td>\n",
       "    </tr>\n",
       "  </tbody>\n",
       "</table>\n",
       "</div>"
      ],
      "text/plain": [
       "                          name  v_band_mag    diameter  min_deltav  \\\n",
       "0                     2019 GM1        27.0    6.9 - 31  4.513, 362   \n",
       "1  469219 Kamo`oalewa 2016 HO3        24.3    24 - 107  6.108, 362   \n",
       "2                     2020 CD3        31.7  0.80 - 3.6  3.571, 378   \n",
       "3                     2001 GP2        26.9    7.3 - 32  4.205, 386   \n",
       "4                     2019 DJ1        26.8    7.6 - 34  4.286, 370   \n",
       "\n",
       "  min_duration optical_opp  radar_opp   gold_opp  \n",
       "0   11.862, 66  2020-03-01 2020-04-01 2040-03-01  \n",
       "1  11.969, 154  2020-03-01        NaT        NaT  \n",
       "2    9.358, 18  2020-03-01 2020-03-01        NaT  \n",
       "3   11.118, 34  2020-10-01        NaT        NaT  \n",
       "4   11.959, 74  2020-12-01        NaT        NaT  "
      ]
     },
     "execution_count": 246,
     "metadata": {},
     "output_type": "execute_result"
    }
   ],
   "source": [
    "# 7. Things to be seen this year\n",
    "thisYear = nea[nea['optical_opp'].dt.year == 2020].reset_index(drop=True)\n",
    "thisYear.head(5)[columns]"
   ]
  },
  {
   "cell_type": "code",
   "execution_count": 247,
   "metadata": {},
   "outputs": [
    {
     "data": {
      "text/plain": [
       "406"
      ]
     },
     "execution_count": 247,
     "metadata": {},
     "output_type": "execute_result"
    }
   ],
   "source": [
    "# count\n",
    "thisYear.shape[0]"
   ]
  },
  {
   "cell_type": "code",
   "execution_count": 250,
   "metadata": {},
   "outputs": [
    {
     "data": {
      "text/plain": [
       "name            1943 Anteros 1973 EC\n",
       "v_band_mag                      15.6\n",
       "diameter                 1320 - 5901\n",
       "min_deltav               11.705, 370\n",
       "min_duration             11.918, 354\n",
       "optical_opp      2020-10-01 00:00:00\n",
       "radar_opp        2026-06-01 00:00:00\n",
       "gold_opp         2026-05-01 00:00:00\n",
       "Name: 380, dtype: object"
      ]
     },
     "execution_count": 250,
     "metadata": {},
     "output_type": "execute_result"
    }
   ],
   "source": [
    "# largest in diamter\n",
    "largestThisYear = thisYear.iloc[thisYear['max_diameter'].idxmax()][columns]\n",
    "largestThisYear"
   ]
  },
  {
   "cell_type": "code",
   "execution_count": 328,
   "metadata": {},
   "outputs": [
    {
     "data": {
      "application/vnd.jupyter.widget-view+json": {
       "model_id": "ae6662289c254c7ab6769e26eade4847",
       "version_major": 2,
       "version_minor": 0
      },
      "text/plain": [
       "FigureWidget({\n",
       "    'data': [{'line': {'color': 'rgb(31, 119, 180)', 'dash': 'dash', 'width': 5},\n",
       "             …"
      ]
     },
     "metadata": {},
     "output_type": "display_data"
    }
   ],
   "source": [
    "epoch = Time(largestThisYear[\"optical_opp\"], scale=\"tdb\")\n",
    "\n",
    "as5 = neows.orbit_from_name(\"1943 Anteros\")\n",
    "as5 = as5.propagate(epoch)\n",
    "earth = Orbit.from_body_ephem(Earth, epoch)\n",
    "\n",
    "plotter = OrbitPlotter3D()\n",
    "plotter.plot(earth, label=\"Earth\")\n",
    "plotter.plot(as5, label=\"1943 Anteros\")"
   ]
  },
  {
   "cell_type": "code",
   "execution_count": 423,
   "metadata": {},
   "outputs": [
    {
     "data": {
      "image/png": "[encoded data removed]",
      "text/plain": [
       "<Figure size 1080x720 with 2 Axes>"
      ]
     },
     "metadata": {
      "needs_background": "light"
     },
     "output_type": "display_data"
    }
   ],
   "source": [
    "# diameter distribution\n",
    "fig, ax = plt.subplots(ncols=2)\n",
    "ax[0].boxplot(nea[\"max_diameter\"])\n",
    "ax[1].boxplot(nea[\"max_diameter\"],showfliers= False)\n",
    "fig.set_size_inches((15,10))"
   ]
  },
  {
   "cell_type": "code",
   "execution_count": 424,
   "metadata": {},
   "outputs": [
    {
     "data": {
      "image/png": "[encoded data removed]",
      "text/plain": [
       "<Figure size 1080x1080 with 1 Axes>"
      ]
     },
     "metadata": {
      "needs_background": "light"
     },
     "output_type": "display_data"
    }
   ],
   "source": [
    "# 8. Diameter vs Duration\n",
    "import matplotlib.pyplot as plt\n",
    "plt.scatter(np.log(nea[\"max_diameter\"]),nea[\"min_deltav_dur\"])\n",
    "plt.gcf().set_size_inches((15,15))"
   ]
  },
  {
   "cell_type": "code",
   "execution_count": 426,
   "metadata": {
    "scrolled": true
   },
   "outputs": [
    {
     "data": {
      "text/html": [
       "<div>\n",
       "<style scoped>\n",
       "    .dataframe tbody tr th:only-of-type {\n",
       "        vertical-align: middle;\n",
       "    }\n",
       "\n",
       "    .dataframe tbody tr th {\n",
       "        vertical-align: top;\n",
       "    }\n",
       "\n",
       "    .dataframe thead th {\n",
       "        text-align: right;\n",
       "    }\n",
       "</style>\n",
       "<table border=\"1\" class=\"dataframe\">\n",
       "  <thead>\n",
       "    <tr style=\"text-align: right;\">\n",
       "      <th></th>\n",
       "      <th>name</th>\n",
       "      <th>id</th>\n",
       "      <th>v_band_mag</th>\n",
       "      <th>diameter</th>\n",
       "      <th>orbit_condition_code</th>\n",
       "      <th>min_deltav</th>\n",
       "      <th>min_duration</th>\n",
       "      <th>viable_trajectory</th>\n",
       "      <th>optical_opp</th>\n",
       "      <th>radar_opp</th>\n",
       "      <th>...</th>\n",
       "      <th>undefined</th>\n",
       "      <th>min_deltav_dv</th>\n",
       "      <th>min_deltav_dur</th>\n",
       "      <th>min_duration_dv</th>\n",
       "      <th>min_duration_dur</th>\n",
       "      <th>min_diameter</th>\n",
       "      <th>max_diameter</th>\n",
       "      <th>optical_opp_mag</th>\n",
       "      <th>radar_opp_snr</th>\n",
       "      <th>gold_opp_snr</th>\n",
       "    </tr>\n",
       "  </thead>\n",
       "  <tbody>\n",
       "    <tr>\n",
       "      <th>1774</th>\n",
       "      <td>163899 2003 SD220</td>\n",
       "      <td>111</td>\n",
       "      <td>17.9</td>\n",
       "      <td>458 - 2046</td>\n",
       "      <td>0</td>\n",
       "      <td>9.851, 178</td>\n",
       "      <td>11.774, 122</td>\n",
       "      <td>2535</td>\n",
       "      <td>2021-10-01</td>\n",
       "      <td>2021-09-01</td>\n",
       "      <td>...</td>\n",
       "      <td>a0163899</td>\n",
       "      <td>9.851</td>\n",
       "      <td>178.0</td>\n",
       "      <td>9.851</td>\n",
       "      <td>178.0</td>\n",
       "      <td>458.0</td>\n",
       "      <td>2046.0</td>\n",
       "      <td>13.9</td>\n",
       "      <td>320.0</td>\n",
       "      <td>12000.0</td>\n",
       "    </tr>\n",
       "    <tr>\n",
       "      <th>1911</th>\n",
       "      <td>490581 2009 WZ104</td>\n",
       "      <td>58</td>\n",
       "      <td>20.0</td>\n",
       "      <td>174 - 778</td>\n",
       "      <td>1</td>\n",
       "      <td>9.727, 178</td>\n",
       "      <td>11.976, 130</td>\n",
       "      <td>1519</td>\n",
       "      <td>2020-11-01</td>\n",
       "      <td>2024-11-01</td>\n",
       "      <td>...</td>\n",
       "      <td>a0490581</td>\n",
       "      <td>9.727</td>\n",
       "      <td>178.0</td>\n",
       "      <td>9.727</td>\n",
       "      <td>178.0</td>\n",
       "      <td>174.0</td>\n",
       "      <td>778.0</td>\n",
       "      <td>21.1</td>\n",
       "      <td>18.0</td>\n",
       "      <td>870.0</td>\n",
       "    </tr>\n",
       "    <tr>\n",
       "      <th>1975</th>\n",
       "      <td>2016 JC6</td>\n",
       "      <td>35</td>\n",
       "      <td>21.3</td>\n",
       "      <td>96 - 428</td>\n",
       "      <td>2</td>\n",
       "      <td>10.155, 178</td>\n",
       "      <td>11.869, 114</td>\n",
       "      <td>1109</td>\n",
       "      <td>2021-04-01</td>\n",
       "      <td>2024-05-01</td>\n",
       "      <td>...</td>\n",
       "      <td>bK16J06C</td>\n",
       "      <td>10.155</td>\n",
       "      <td>178.0</td>\n",
       "      <td>10.155</td>\n",
       "      <td>178.0</td>\n",
       "      <td>96.0</td>\n",
       "      <td>428.0</td>\n",
       "      <td>22.1</td>\n",
       "      <td>1500.0</td>\n",
       "      <td>34.0</td>\n",
       "    </tr>\n",
       "  </tbody>\n",
       "</table>\n",
       "<p>3 rows × 21 columns</p>\n",
       "</div>"
      ],
      "text/plain": [
       "                   name   id  v_band_mag    diameter  orbit_condition_code  \\\n",
       "1774  163899 2003 SD220  111        17.9  458 - 2046                     0   \n",
       "1911  490581 2009 WZ104   58        20.0   174 - 778                     1   \n",
       "1975           2016 JC6   35        21.3    96 - 428                     2   \n",
       "\n",
       "       min_deltav min_duration  viable_trajectory optical_opp  radar_opp  ...  \\\n",
       "1774   9.851, 178  11.774, 122               2535  2021-10-01 2021-09-01  ...   \n",
       "1911   9.727, 178  11.976, 130               1519  2020-11-01 2024-11-01  ...   \n",
       "1975  10.155, 178  11.869, 114               1109  2021-04-01 2024-05-01  ...   \n",
       "\n",
       "     undefined min_deltav_dv  min_deltav_dur  min_duration_dv  \\\n",
       "1774  a0163899         9.851           178.0            9.851   \n",
       "1911  a0490581         9.727           178.0            9.727   \n",
       "1975  bK16J06C        10.155           178.0           10.155   \n",
       "\n",
       "      min_duration_dur  min_diameter  max_diameter  optical_opp_mag  \\\n",
       "1774             178.0         458.0        2046.0             13.9   \n",
       "1911             178.0         174.0         778.0             21.1   \n",
       "1975             178.0          96.0         428.0             22.1   \n",
       "\n",
       "      radar_opp_snr  gold_opp_snr  \n",
       "1774          320.0       12000.0  \n",
       "1911           18.0         870.0  \n",
       "1975         1500.0          34.0  \n",
       "\n",
       "[3 rows x 21 columns]"
      ]
     },
     "execution_count": 426,
     "metadata": {},
     "output_type": "execute_result"
    }
   ],
   "source": [
    "condition = (np.log(nea[\"max_diameter\"]) > 6) & (nea[\"min_deltav_dur\"] < 200)\n",
    "closebig = nea[condition]\n",
    "closebig"
   ]
  },
  {
   "cell_type": "code",
   "execution_count": 432,
   "metadata": {},
   "outputs": [],
   "source": [
    "objectsname = closebig[\"name\"].tolist()\n",
    "objects = [neows.orbit_from_name(o) for o in objectsname]"
   ]
  },
  {
   "cell_type": "code",
   "execution_count": 471,
   "metadata": {},
   "outputs": [
    {
     "data": {
      "text/plain": [
       "Sun (☉)"
      ]
     },
     "execution_count": 471,
     "metadata": {},
     "output_type": "execute_result"
    }
   ],
   "source": [
    "earth.attractor"
   ]
  },
  {
   "cell_type": "code",
   "execution_count": 479,
   "metadata": {},
   "outputs": [
    {
     "data": {
      "text/plain": [
       "[<matplotlib.lines.Line2D at 0x14611da30>,\n",
       " <matplotlib.lines.Line2D at 0x14611de80>]"
      ]
     },
     "execution_count": 479,
     "metadata": {},
     "output_type": "execute_result"
    },
    {
     "data": {
      "image/png": "[encoded data removed]",
      "text/plain": [
       "<Figure size 1584x288 with 2 Axes>"
      ]
     },
     "metadata": {
      "needs_background": "light"
     },
     "output_type": "display_data"
    }
   ],
   "source": [
    "earth = Orbit.from_body_ephem(Earth)\n",
    "oindex = 0\n",
    "o, name = objects[oindex],objectsname[oindex]\n",
    "o = o.propagate(earth.epoch)\n",
    "\n",
    "fig, ax = plt.subplots(ncols=2)\n",
    "\n",
    "plotter = StaticOrbitPlotter(ax[0])\n",
    "plotter.plot(earth, label=\"Earth\",color=\"red\")\n",
    "plotter.plot(o,label=name,color=\"blue\")\n",
    "\n",
    "plotter = StaticOrbitPlotter(ax[1])\n",
    "plotter.plot(o,label=name,color=\"blue\")\n",
    "plotter.plot(earth, label=\"Earth\",color=\"red\")\n"
   ]
  },
  {
   "cell_type": "code",
   "execution_count": 469,
   "metadata": {},
   "outputs": [
    {
     "data": {
      "image/png": "[encoded data removed]",
      "text/plain": [
       "<Figure size 1008x432 with 1 Axes>"
      ]
     },
     "metadata": {
      "needs_background": "light"
     },
     "output_type": "display_data"
    }
   ],
   "source": [
    "ganymed = neows.orbit_from_name(\"1036\")  # Ganymed IAU number\n",
    "amor = neows.orbit_from_name(\"2001221\")  # Amor SPK-ID\n",
    "eros = neows.orbit_from_name(\"2000433\")  # Eros SPK-ID\n",
    "\n",
    "frame = StaticOrbitPlotter()\n",
    "frame.plot(ganymed, label=\"Ganymed\")\n",
    "frame.plot(amor, label=\"Amor\")\n",
    "frame.plot(eros, label=\"Eros\");"
   ]
  },
  {
   "cell_type": "code",
   "execution_count": 462,
   "metadata": {},
   "outputs": [
    {
     "data": {
      "text/plain": [
       "[<matplotlib.lines.Line2D at 0x13dadb8b0>,\n",
       " <matplotlib.lines.Line2D at 0x13dae2e80>]"
      ]
     },
     "execution_count": 462,
     "metadata": {},
     "output_type": "execute_result"
    },
    {
     "data": {
      "image/png": "[encoded data removed]",
      "text/plain": [
       "<Figure size 1008x432 with 1 Axes>"
      ]
     },
     "metadata": {
      "needs_background": "light"
     },
     "output_type": "display_data"
    }
   ],
   "source": [
    "# checking classification\n",
    "plotter = StaticOrbitPlotter()\n",
    "plotter.plot(earth,label=\"Earth\")\n",
    "plotter.plot(objects[0], label=objectsname[0])"
   ]
  },
  {
   "cell_type": "code",
   "execution_count": 463,
   "metadata": {},
   "outputs": [
    {
     "data": {
      "text/plain": [
       "[<matplotlib.lines.Line2D at 0x141cb53d0>,\n",
       " <matplotlib.lines.Line2D at 0x141cb5820>]"
      ]
     },
     "execution_count": 463,
     "metadata": {},
     "output_type": "execute_result"
    },
    {
     "data": {
      "image/png": "[encoded data removed]",
      "text/plain": [
       "<Figure size 1008x432 with 1 Axes>"
      ]
     },
     "metadata": {
      "needs_background": "light"
     },
     "output_type": "display_data"
    }
   ],
   "source": [
    "# checking classification\n",
    "plotter = StaticOrbitPlotter()\n",
    "plotter.plot(objects[0], label=objectsname[0])\n",
    "plotter.plot(earth,label=\"Earth\")"
   ]
  },
  {
   "cell_type": "code",
   "execution_count": 416,
   "metadata": {},
   "outputs": [
    {
     "data": {
      "application/vnd.jupyter.widget-view+json": {
       "model_id": "00539f2f92814c2b99cc71e58aa2fe9b",
       "version_major": 2,
       "version_minor": 0
      },
      "text/plain": [
       "FigureWidget({\n",
       "    'data': [{'line': {'color': 'rgb(31, 119, 180)', 'dash': 'dash', 'width': 5},\n",
       "             …"
      ]
     },
     "metadata": {},
     "output_type": "display_data"
    }
   ],
   "source": [
    "# OR2 1998\n",
    "epoch = Time(\"2020-04-30\",scale=\"tdb\")\n",
    "or2 = neows.orbit_from_name(\"52768\")\n",
    "or2 = or2.propagate(epoch)\n",
    "earth = Orbit.from_body_ephem(Earth,epoch)\n",
    "\n",
    "plotter = OrbitPlotter3D()\n",
    "plotter.plot(earth, label=\"Earth\")\n",
    "plotter.plot(or2, label=\"OR2 1998\")"
   ]
  },
  {
   "cell_type": "code",
   "execution_count": 415,
   "metadata": {},
   "outputs": [
    {
     "data": {
      "text/plain": [
       "(<Quantity 6303766.23586491 km>, <Quantity 0.04213807 AU>)"
      ]
     },
     "execution_count": 415,
     "metadata": {},
     "output_type": "execute_result"
    }
   ],
   "source": [
    "#distance\n",
    "d = distance(or2.to_icrs(),earth)\n",
    "d,d.to(u.au)"
   ]
  },
  {
   "cell_type": "code",
   "execution_count": null,
   "metadata": {},
   "outputs": [],
   "source": []
  }
 ],
 "metadata": {
  "kernelspec": {
   "display_name": "Python 3",
   "language": "python",
   "name": "python3"
  },
  "language_info": {
   "codemirror_mode": {
    "name": "ipython",
    "version": 3
   },
   "file_extension": ".py",
   "mimetype": "text/x-python",
   "name": "python",
   "nbconvert_exporter": "python",
   "pygments_lexer": "ipython3",
   "version": "3.8.1"
  }
 },
 "nbformat": 4,
 "nbformat_minor": 4
}
