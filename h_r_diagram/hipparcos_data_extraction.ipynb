{
 "cells": [
  {
   "cell_type": "code",
   "execution_count": 75,
   "metadata": {},
   "outputs": [],
   "source": [
    "import numpy as np\n",
    "from tabula import read_pdf\n",
    "import pandas as pd"
   ]
  },
  {
   "cell_type": "code",
   "execution_count": 742,
   "metadata": {},
   "outputs": [],
   "source": [
    "evencolumns = [70,77,108,138,152,155,160,208,247,260,276,301,327,345,363,381,398,417,428,438,449,459,469,479,489,499,509,519,527]\n",
    "oddcolumns = [\n",
    "    [84,106,122,141,156,165,182,199,208,221,236,242,250,271,289,305,318,327,341,358,378,388,391,399,429,435,442,446,452,459,465,478,488,505,522,532,546,554,557],\n",
    "    [84,106,122,141,156,165,182,198,207,221,235,241,250,271,289,305,318,327,341,358,378,387,390,399,429,435,442,446,452,459,465,478,488,505,522,532,546,553,556],\n",
    "    [84,106,122,141,155,165,182,198,207,221,235,241,250,271,289,305,318,327,341,358,378,386,389,399,429,434,442,445,451,458,465,477,488,505,522,532,546,553,556],\n",
    "    [84,106,122,141,156,165,182,199,208,221,236,242,250,271,289,305,318,327,341,358,378,387,391,399,429,435,442,446,452,459,465,478,488,505,522,532,546,554,557],\n",
    "    [84,106,122,141,156,165,182,199,207,221,235,241,250,271,289,305,318,327,341,358,378,387,391,399,429,435,442,446,452,460,465,478,488,505,522,532,546,554,557],\n",
    "    [84,106,122,141,156,165,182,198,207,221,235,241,250,271,289,305,318,327,341,358,378,386,390,399,429,435,442,446,452,459,465,478,488,505,522,532,546,553,556],\n",
    "    [84,106,122,141,156,165,182,199,207,221,235,241,250,271,289,305,318,327,341,358,378,388,391,399,429,435,442,446,452,460,465,478,488,505,522,532,546,554,557],\n",
    "    [84,106,122,141,156,165,182,199,208,221,236,242,250,271,289,305,318,327,341,358,378,388,391,399,429,435,443,446,452,459,465,478,488,505,522,532,546,554,557],\n",
    "    [84,106,122,141,155,165,182,198,207,221,235,241,250,271,289,305,317,327,341,358,378,386,389,399,429,434,442,445,451,459,465,477,488,505,522,532,546,553,556],\n",
    "    [84,106,122,141,156,165,182,199,208,221,236,242,250,271,289,305,318,327,341,358,378,386,389,399,429,435,443,446,452,459,465,478,488,505,522,532,546,554,557],\n",
    "    [84,106,122,141,156,165,182,199,208,221,236,242,250,271,289,305,318,327,341,358,378,388,391,399,429,436,442,446,452,460,465,478,488,505,522,532,546,554,557],\n",
    "    [84,106,122,141,155,165,182,198,207,221,235,241,250,271,289,305,318,327,341,358,378,387,390,399,429,435,442,446,452,459,465,478,488,505,522,532,546,553,556],\n",
    "    [84,106,122,141,155,165,182,198,207,221,235,241,250,271,289,305,318,327,341,358,378,388,391,399,429,436,442,446,452,460,465,478,488,505,522,532,546,553,556],\n",
    "    [84,106,122,141,155,165,182,198,207,221,234,241,250,271,289,305,317,327,341,358,378,387,388,399,428,434,442,445,451,459,465,478,488,505,522,532,546,553,556],\n",
    "    [84,106,122,141,155,165,182,198,207,221,234,240,250,271,289,305,317,327,341,358,378,387,389,399,428,434,442,445,451,459,465,478,488,505,522,532,546,553,556],\n",
    "    [84,106,122,141,155,165,182,198,207,221,234,240,250,271,289,305,317,327,341,358,378,387,388,399,428,434,442,445,451,459,465,478,488,505,522,532,546,553,556],\n",
    "    [84,106,122,141,155,165,182,198,207,221,234,240,250,271,289,305,317,327,341,358,378,387,390,399,428,435,442,445,452,460,465,478,488,505,522,532,546,553,556],\n",
    "    [84,106,122,141,156,165,182,199,208,221,236,242,250,271,289,305,318,327,341,358,378,388,391,399,429,435,442,446,453,460,465,478,488,505,522,532,546,554,557]\n",
    "]\n",
    "even_types = {\n",
    "    \"hip_number\": np.int32,\n",
    "    \"hip_number_2\": str,\n",
    "    \"ra\": str,\n",
    "    \"dec\": str,\n",
    "    \"v_mag\": np.float,\n",
    "    \"v_mag_2\": np.int32 ,\n",
    "    \"v_mag_3\": str ,\n",
    "    \"icrs_alpha\": str,\n",
    "    \"icrs_delta\": str,\n",
    "    \"icrs_sign\": str,\n",
    "    \"parallex\": np.float,\n",
    "    \"propert_motion_1\": np.float,\n",
    "    \"proper_motion_2\": np.float,\n",
    "    \"std_error_1\": np.int32,\n",
    "    \"std_error_2\": np.int32,\n",
    "    \"std_error_3\": np.int32,\n",
    "    \"std_error_4\": np.int32,\n",
    "    \"std_error_5\": np.int32,\n",
    "    \"astro_cor_1\": np.int32,\n",
    "    \"astro_cor_2\": np.int32,\n",
    "    \"astro_cor_3\": np.int32,\n",
    "    \"astro_cor_4\": np.int32,\n",
    "    \"astro_cor_5\": np.int32,\n",
    "    \"astro_cor_6\": np.int32,\n",
    "    \"astro_cor_7\": np.int32,\n",
    "    \"astro_cor_8\": np.int32,\n",
    "    \"astro_cor_9\": np.int32,\n",
    "    \"astro_cor_10\": np.int32,\n",
    "    \"soln_f1\": np.int32,\n",
    "    \"soln_f2\": np.float\n",
    "}\n",
    "odd_types = {\n",
    "    \"hip_number\": np.int32,\n",
    "    \"tych_mag1\": np.float,\n",
    "    \"tych_mag2\": np.float,\n",
    "    \"tych_mag3\": np.float,\n",
    "    \"tych_mag4\": np.float,\n",
    "    \"tych_flag\": str,\n",
    "    \"b-v\": np.float,\n",
    "    \"b-v_g\": np.float,\n",
    "    \"b-v_flag\": str,\n",
    "    \"v-i\": np.float,\n",
    "    \"v-i_g\": np.float,\n",
    "    \"v-i_flag1\": str,\n",
    "    \"v-i_flag2\": str,\n",
    "    \"mag_hp1\": np.float,\n",
    "    \"mag_hp2\": np.float,\n",
    "    \"mag_hp3\": np.float,\n",
    "    \"mag_hp4\": np.int32,\n",
    "    \"mag_hp_flag\": str,\n",
    "    \"var_maxmag\": np.float,\n",
    "    \"var_minmag\": np.float,\n",
    "    \"var_pdays\": np.float,\n",
    "    \"var_flag1\": str,\n",
    "    \"var_flag2\": np.int32,\n",
    "    \"var_flag3\": str,\n",
    "    \"ccdm\": str,\n",
    "    \"ccdm_flag1\":str ,\n",
    "    \"ccdm_flag2\": np.int32,\n",
    "    \"multiplicity_flag1\": np.int32,\n",
    "    \"multiplicity_flag2\": str,\n",
    "    \"multiplicity_flag3\": str,\n",
    "    \"multiplicity_flag4\": str,\n",
    "    \"ab\": str,\n",
    "    \"theta\": np.int32,\n",
    "    \"gamma\": np.float,\n",
    "    \"phi_p\": np.float,\n",
    "    \"delta_hp\": np.float,\n",
    "    \"phi\": np.float,\n",
    "    \"misc_flag1\": str,\n",
    "    \"misc_flag2\": str,\n",
    "    \"misc_flag3\": str\n",
    "}\n",
    "data_types = {i:j for d in [even_types,odd_types] for i, j in d.items()}\n",
    "dash_columns = [\"v_mag\",\"v_mag_2\",\"parallex\",\"propert_motion_1\",\"proper_motion_2\",\"std_error_1\",\"std_error_2\",\"std_error_3\",\"std_error_4\",\"std_error_5\",\"astro_cor_1\",\"astro_cor_2\",\"astro_cor_3\",\"astro_cor_4\",\"astro_cor_5\",\"astro_cor_6\",\"astro_cor_7\",\"astro_cor_8\",\"astro_cor_9\",\"astro_cor_10\",\"soln_f2\",\"tych_mag1\",\"tych_mag2\",\"tych_mag3\",\"tych_mag4\",\"b-v\",\"b-v_g\",\"v-i\",\"v-i_g\",\"mag_hp1\",\"mag_hp2\",\"mag_hp3\",\"mag_hp4\",\"var_maxmag\",\"var_minmag\",\"var_pdays\",\"var_flag2\",\"ccdm_flag2\",\"multiplicity_flag1\",\"theta\",\"gamma\",\"phi_p\",\"delta_hp\",\"phi\"]\n",
    "newevencolumns = list(even_types.keys())\n",
    "newoddcolumns = list(odd_types.keys())"
   ]
  },
  {
   "cell_type": "code",
   "execution_count": 724,
   "metadata": {},
   "outputs": [],
   "source": [
    "def read_odds_one_by_one(filename,pages,refcolumns):\n",
    "    df0 = read_pdf(filename,pages=pages[0],multiple_tables=True, columns=oddcolumns[refcolumns],area=(78,55,760,1575),silent=True)[0]\n",
    "    zerocolumns = list(df0.columns)\n",
    "    page_column = {i:[] for i in range(len(oddcolumns))}\n",
    "    page_column[refcolumns].append(pages[0])\n",
    "    dfs = [df0]\n",
    "    for p in pages[1:]:\n",
    "        dfi = read_pdf(filename,pages=p,multiple_tables=True, columns=oddcolumns[0],area=(78,55,760,1575),silent=True)[0]\n",
    "        icolumns = list(dfi.columns)\n",
    "        count = 0\n",
    "        while icolumns != zerocolumns and count+1 < len(oddcolumns):\n",
    "            count += 1\n",
    "            dfi = read_pdf(filename,pages=p,multiple_tables=True, columns=oddcolumns[count],area=(78,55,760,1575),silent=True)[0]\n",
    "            icolumns = list(dfi.columns)   \n",
    "        if icolumns != zerocolumns:\n",
    "            print(\"bad %d\" % p)\n",
    "        else:\n",
    "            print(p,count)\n",
    "            dfs.append(dfi)\n",
    "            page_column[count].append(p)\n",
    "    return dfs,page_column"
   ]
  },
  {
   "cell_type": "markdown",
   "metadata": {},
   "source": [
    "## Reading"
   ]
  },
  {
   "cell_type": "code",
   "execution_count": 813,
   "metadata": {},
   "outputs": [],
   "source": [
    "files = [\"data/vol5_all.pdf\",\"data/vol6_all.pdf\",\"data/vol7_all.pdf\",\"data/vol8_all.pdf\"]\n",
    "evenpages = {\n",
    "    \"data/vol5_all.pdf\":list(range(2,376,2)),\n",
    "    \"data/vol6_all.pdf\":list(range(2,514,2)),\n",
    "    \"data/vol7_all.pdf\":list(range(2,488,2)),\n",
    "    \"data/vol8_all.pdf\":list(range(2,502,2)),\n",
    "}\n",
    "oddpages = {\n",
    "    \"data/vol5_all.pdf\":list(range(3,376,2)),\n",
    "    \"data/vol6_all.pdf\":list(range(3,514,2)),\n",
    "    \"data/vol7_all.pdf\":list(range(3,488,2)),\n",
    "    \"data/vol8_all.pdf\":list(range(3,502,2)),\n",
    "}\n",
    "filename = \"data/vol7_all.pdf\""
   ]
  },
  {
   "cell_type": "code",
   "execution_count": 814,
   "metadata": {
    "scrolled": true
   },
   "outputs": [],
   "source": [
    "evens = read_pdf(filename,pages=evenpages[filename],multiple_tables=True, area=(78,45,760,1575),columns=evencolumns,silent=True)"
   ]
  },
  {
   "cell_type": "code",
   "execution_count": 815,
   "metadata": {},
   "outputs": [],
   "source": [
    "pages = {\"data/vol5_all.pdf\": {\n",
    "0: [23,25,33,41,43,55,61,63,67,77,85,91,93,97,107,113,119,121,123,129,131,137,139,141,143,151,153,155,159,161,169,171,177,181,183,191,201,203,207,211,213,215,219,221,227,231,243,251,255,261,263,267,269,275,279,285,289,299,301,305,307,309,313,319,321,329,337,339,341,349,359,367],\n",
    "1: [5,17,19,21,27,31,35,37,45,51,57,59,69,89,125,135,157,185,189,195,199,205,233,235,241,265,293,295,303,327,333,335,343,351,353,363,365,373],\n",
    "2: [87,99,103,105,111,163,223,229,239,253,281,287,291,323,331,345,355,371],\n",
    "3: [7,49,71,73,75,83,127,165,173,225,249,257,259,271,277,311,315,317,347],\n",
    "4: [29,39,53,81,95,101,175,187,193,245,283,297,325,357,361,369,375],\n",
    "5: [47,65,79,115,117,133,147,179,197,217,237,247,273],\n",
    "6: [109,145,149,167],\n",
    "7: [9,11,13,15],\n",
    "8: [209],\n",
    "9: [3]},\n",
    "\"data/vol6_all.pdf\":       \n",
    "{\n",
    "0: [9,13,15,27,29,33,35,37,47,49,61,75,77,83,85,87,91,99,107,109,115,117,119,123,133,139,141,143,147,149,157,161,163,171,175,191,193,195,205,209,211,215,217,219,221,225,227,229,233,235,237,245,251,253,257,259,261,263,281,283,287,289,295,297,305,309,311,313,315,321,323,329,333,341,347,349,359,365,367,375,377,379,387,391,393,397,403,405,407,411,413,415,417,423,429,431,433,437,441,443,445,453,455,457,459,461,463,473,483,489,491,495,497,499,501,503,509,513],\n",
    "1: [7,11,17,19,21,31,39,51,55,57,67,69,79,81,93,111,113,121,137,153,167,183,187,189,199,207,213,223,247,269,275,293,303,351,369,371,373,395,399,409,427,439,449,469,471,475,479,481,487,493],\n",
    "2: [23,53,101,127,129,131,155,159,179,185,197,203,241,243,265,271,273,279,307,317,319,327,337,339,355,361,363,381,385,425,435,447,451,465,507,511],\n",
    "4: [3,25,45,63,65,71,95,97,105,151,173,177,201,255,285,291,299,325,345,353,357,383,401,467,477,485,505],\n",
    "6: [5,41,59,73,89,135,145,165,169,181,231,249,267,331,335,343,389]},\n",
    "\"data/vol7_all.pdf\":\n",
    "{0: [3,5,7,21,35,39,41,43,49,51,55,63,65,67,77,79,81,83,87,89,99,103,105,107,111,119,123,129,137,139,145,149,151,159,163,169,171,173,179,181,185,187,189,191,197,205,215,221,225,227,231,233,237,239,241,243,247,249,251,253,257,267,273,275,277,279,281,285,287,297,303,313,315,317,321,325,327,331,333,337,341,345,347,351,353,355,361,365,367,371,381,383,389,391,393,395,397,399,401,415,417,419,421,429,433,437,439,441,447,451,453,455,463,471,473,477,481,483],\n",
    " 1: [11,13,15,27,29,31,45,61,73,113,115,125,131,147,153,161,165,175,177,183,193,195,199,229,235,255,259,261,265,269,271,291,293,295,299,305,307,323,339,357,363,373,375,379,403,409,411,423,427,445,461,465,467,469,475,485,487],\n",
    " 2: [19,53,57,71,75,85,93,101,117,135,155,167,207,211,217,245,283,289,335,385,405,425,443,457],\n",
    " 4: [9,23,25,33,59,69,91,95,97,109,127,141,213,319,343,349,359,369,407,431,435,479],\n",
    " 6: [17, 133, 203, 219, 223, 263, 301, 459],\n",
    " 8: [143, 201],\n",
    " 10:[37,47,329,413,121],\n",
    " 11:[309,449],\n",
    " 12:[121],\n",
    " 13:[157],\n",
    " 14:[209],\n",
    " 15:[311,387],\n",
    " 16:[377,449]\n",
    "},\n",
    "\"data/vol8_all.pdf\":\n",
    "{\n",
    "0: [7,19,23,25,31,37,41,43,45,47,51,53,55,57,65,69,71,73,75,77,79,81,83,89,93,95,97,101,103,107,109,113,117,119,121,123,125,127,135,139,141,143,151,153,161,163,165,171,175,177,179,187,193,195,197,201,215,217,219,221,225,229,237,243,253,257,259,261,263,271,275,277,285,287,291,295,299,301,317,321,327,333,337,351,353,355,357,363,365,367,373,379,389,401,405,411,415,417,423,431,441,443,447,449,451,457,461,467,469,479,485,491,495,501],\n",
    "1: [3,11,13,27,39,49,59,63,99,111,129,131,137,147,155,159,167,169,183,185,189,199,209,211,223,227,235,239,245,247,251,265,267,273,281,289,293,307,309,313,323,325,335,339,343,349,375,385,391,393,395,397,407,409,413,425,435,453,471,473,475,477,483,489,493,497],\n",
    "2: [15,17,35,87,133,181,205,231,249,255,311,315,347,359,371,419,421,427,439,445,459,463,481],\n",
    "4: [5,9,33,61,85,91,105,115,149,173,191,207,233,241,279,305,329,341,369,377,381,399,433,465,499],\n",
    "6: [67,157,203,213,269,297,303,345,361],\n",
    "10: [145,387,429,455],\n",
    "11: [29,319,403,487],\n",
    "12: [437],\n",
    "13: [383],\n",
    "14: [283],\n",
    "15: [21],\n",
    "17: [331]\n",
    "}\n",
    "}\n",
    "\n",
    "refcolumn = {\n",
    "    \"data/vol5_all.pdf\":9,\n",
    "    \"data/vol6_all.pdf\":4,\n",
    "    \"data/vol7_all.pdf\":0,\n",
    "    \"data/vol8_all.pdf\":1\n",
    "}\n",
    "\n",
    "if filename in pages:\n",
    "    odds = []\n",
    "    for c,p in pages[filename].items():\n",
    "        df = read_pdf(filename,pages=p,multiple_tables=True, columns=oddcolumns[c],area=(78,55,760,1575),silent=True)\n",
    "        odds += df\n",
    "else:\n",
    "    odds,page_column = read_odds_one_by_one(filename,oddpages[filename],refcolumn[filename])"
   ]
  },
  {
   "cell_type": "markdown",
   "metadata": {},
   "source": [
    "## Combining"
   ]
  },
  {
   "cell_type": "code",
   "execution_count": 816,
   "metadata": {},
   "outputs": [],
   "source": [
    "newevencoldict = list(zip(list(evens[0].columns),newevencolumns))\n",
    "dfeven = pd.concat(evens)"
   ]
  },
  {
   "cell_type": "code",
   "execution_count": 817,
   "metadata": {},
   "outputs": [],
   "source": [
    "newoddcoldict = list(zip(list(odds[0].columns),newoddcolumns))\n",
    "dfodd = pd.concat(odds).reset_index(drop=True)"
   ]
  },
  {
   "cell_type": "markdown",
   "metadata": {},
   "source": [
    "## Refactoring evens"
   ]
  },
  {
   "cell_type": "code",
   "execution_count": 818,
   "metadata": {},
   "outputs": [],
   "source": [
    "# renaming columns\n",
    "dfeven = dfeven.rename(columns= {x:y for x,y in newevencoldict}).reset_index(drop=True)"
   ]
  },
  {
   "cell_type": "code",
   "execution_count": 819,
   "metadata": {},
   "outputs": [],
   "source": [
    "# dropping bad rows\n",
    "dfeven = dfeven.dropna(thresh=5,axis=0)"
   ]
  },
  {
   "cell_type": "code",
   "execution_count": 820,
   "metadata": {},
   "outputs": [],
   "source": [
    "# removing star from hip number and put it in different column\n",
    "dfeven[\"hip_number_note\"] =  dfeven[\"hip_number\"].astype(str).str.contains(\"∗\")\n",
    "dfeven[\"hip_number\"] = dfeven[\"hip_number\"].astype(str).str.strip(\"∗\")\n",
    "dfeven[\"hip_number\"] = dfeven[\"hip_number\"].astype(np.int32)"
   ]
  },
  {
   "cell_type": "code",
   "execution_count": 821,
   "metadata": {},
   "outputs": [],
   "source": [
    "# sort values by hip number\n",
    "dfeven = dfeven.sort_values(\"hip_number\").reset_index(drop=True)"
   ]
  },
  {
   "cell_type": "markdown",
   "metadata": {},
   "source": [
    "## Refactoring odds"
   ]
  },
  {
   "cell_type": "code",
   "execution_count": 822,
   "metadata": {},
   "outputs": [],
   "source": [
    "# renaming columns\n",
    "dfodd = dfodd.rename(columns= {x:y for x,y in newoddcoldict}).reset_index(drop=True)"
   ]
  },
  {
   "cell_type": "code",
   "execution_count": 823,
   "metadata": {},
   "outputs": [],
   "source": [
    "# misc cleaning\n",
    "dfodd = dfodd[dfodd[\"hip_number\"] != \"H S I N V\"]\n",
    "dfodd = dfodd.dropna(thresh=20,axis=0)"
   ]
  },
  {
   "cell_type": "code",
   "execution_count": 824,
   "metadata": {},
   "outputs": [],
   "source": [
    "# setting type of hip_number\n",
    "dfodd[\"hip_number\"] = dfodd[\"hip_number\"].astype(np.int32)"
   ]
  },
  {
   "cell_type": "code",
   "execution_count": 825,
   "metadata": {},
   "outputs": [],
   "source": [
    "# fixing exceptional var_flag1 and var_flag2\n",
    "temp = dfodd[\"var_flag1\"].str.split(\" \", n = 1, expand = True)\n",
    "temp[0] = temp[0].fillna(\"\")\n",
    "temp[1] = temp[1].fillna(np.nan)\n",
    "dfodd[\"var_flag2\"] = dfodd[\"var_flag2\"].astype(float).combine_first(temp[1].astype(float))\n",
    "dfodd[\"var_flag1\"] = temp[0]"
   ]
  },
  {
   "cell_type": "code",
   "execution_count": 826,
   "metadata": {},
   "outputs": [],
   "source": [
    "# sort values by hip_number\n",
    "dfodd = dfodd.sort_values(\"hip_number\").reset_index(drop=True)"
   ]
  },
  {
   "cell_type": "markdown",
   "metadata": {},
   "source": [
    "## Merging"
   ]
  },
  {
   "cell_type": "code",
   "execution_count": 827,
   "metadata": {},
   "outputs": [],
   "source": [
    "dfall = pd.merge(dfeven,dfodd,on=\"hip_number\")"
   ]
  },
  {
   "cell_type": "code",
   "execution_count": 828,
   "metadata": {},
   "outputs": [],
   "source": [
    "# trying to get rid of long dashes and replace it with minus\n",
    "for c in list(dash_columns):\n",
    "    try:\n",
    "        dfall[c] = dfall[c].astype(str).str.replace(\"\\+ \",\"+\").str.replace(\"–\",\"-\").str.replace(\"– \",\"-\").str.replace(\"- \",\"-\")\n",
    "    except:\n",
    "        pass"
   ]
  },
  {
   "cell_type": "markdown",
   "metadata": {},
   "source": [
    "## Casting columns"
   ]
  },
  {
   "cell_type": "code",
   "execution_count": 829,
   "metadata": {},
   "outputs": [
    {
     "name": "stdout",
     "output_type": "stream",
     "text": [
      "hip_number <class 'numpy.int32'>\n",
      "hip_number_2 <class 'str'>\n",
      "ra <class 'str'>\n",
      "dec <class 'str'>\n",
      "v_mag <class 'float'>\n",
      "v_mag_2 <class 'numpy.int32'>\n",
      "v_mag_3 <class 'str'>\n",
      "icrs_alpha <class 'str'>\n",
      "icrs_delta <class 'str'>\n",
      "icrs_sign <class 'str'>\n",
      "parallex <class 'float'>\n",
      "propert_motion_1 <class 'float'>\n",
      "proper_motion_2 <class 'float'>\n",
      "std_error_1 <class 'numpy.int32'>\n",
      "std_error_2 <class 'numpy.int32'>\n",
      "std_error_3 <class 'numpy.int32'>\n",
      "std_error_4 <class 'numpy.int32'>\n",
      "std_error_5 <class 'numpy.int32'>\n",
      "astro_cor_1 <class 'numpy.int32'>\n",
      "astro_cor_2 <class 'numpy.int32'>\n",
      "astro_cor_3 <class 'numpy.int32'>\n",
      "astro_cor_4 <class 'numpy.int32'>\n",
      "astro_cor_5 <class 'numpy.int32'>\n",
      "astro_cor_6 <class 'numpy.int32'>\n",
      "astro_cor_7 <class 'numpy.int32'>\n",
      "astro_cor_8 <class 'numpy.int32'>\n",
      "astro_cor_9 <class 'numpy.int32'>\n",
      "astro_cor_10 <class 'numpy.int32'>\n",
      "soln_f1 <class 'numpy.int32'>\n",
      "soln_f2 <class 'float'>\n",
      "tych_mag1 <class 'float'>\n",
      "tych_mag2 <class 'float'>\n",
      "tych_mag3 <class 'float'>\n",
      "tych_mag4 <class 'float'>\n",
      "tych_flag <class 'str'>\n",
      "b-v <class 'float'>\n",
      "b-v_g <class 'float'>\n",
      "b-v_flag <class 'str'>\n",
      "v-i <class 'float'>\n",
      "v-i_g <class 'float'>\n",
      "v-i_flag1 <class 'str'>\n",
      "v-i_flag2 <class 'str'>\n",
      "mag_hp1 <class 'float'>\n",
      "mag_hp2 <class 'float'>\n",
      "mag_hp3 <class 'float'>\n",
      "mag_hp4 <class 'numpy.int32'>\n",
      "mag_hp_flag <class 'str'>\n",
      "var_maxmag <class 'float'>\n",
      "var_minmag <class 'float'>\n",
      "var_pdays <class 'float'>\n",
      "var_flag1 <class 'str'>\n",
      "var_flag2 <class 'numpy.int32'>\n",
      "var_flag3 <class 'str'>\n",
      "ccdm <class 'str'>\n",
      "ccdm_flag1 <class 'str'>\n",
      "ccdm_flag2 <class 'numpy.int32'>\n",
      "multiplicity_flag1 <class 'numpy.int32'>\n",
      "multiplicity_flag2 <class 'str'>\n",
      "multiplicity_flag3 <class 'str'>\n",
      "multiplicity_flag4 <class 'str'>\n",
      "ab <class 'str'>\n",
      "theta <class 'numpy.int32'>\n",
      "gamma <class 'float'>\n",
      "phi_p <class 'float'>\n",
      "delta_hp <class 'float'>\n",
      "phi <class 'float'>\n",
      "misc_flag1 <class 'str'>\n",
      "misc_flag2 <class 'str'>\n",
      "misc_flag3 <class 'str'>\n"
     ]
    }
   ],
   "source": [
    "for k,v in data_types.items():\n",
    "    print(k,v)\n",
    "    if v == np.int32:\n",
    "        dfall[k] = dfall[k].astype(str).str.replace(\"nan\",\"-9999\").astype(float)\n",
    "    dfall[k] = dfall[k].astype(v)"
   ]
  },
  {
   "cell_type": "code",
   "execution_count": null,
   "metadata": {},
   "outputs": [],
   "source": []
  },
  {
   "cell_type": "code",
   "execution_count": null,
   "metadata": {},
   "outputs": [],
   "source": []
  },
  {
   "cell_type": "code",
   "execution_count": null,
   "metadata": {},
   "outputs": [],
   "source": []
  },
  {
   "cell_type": "code",
   "execution_count": 2585,
   "metadata": {},
   "outputs": [],
   "source": [
    "evencolumns = [70,77,108,138,152,155,160,208,247,260,278,303,330,347,365,382,398,417,426,438,449,459,469,479,489,499,509,519,529]\n",
    "ev = read_pdf(\"data/vol5_all.pdf\",pages=2,multiple_tables=True, area=(78,45,760,1575),columns=evencolumns,silent=True)"
   ]
  },
  {
   "cell_type": "code",
   "execution_count": 41,
   "metadata": {
    "scrolled": false
   },
   "outputs": [],
   "source": [
    "# for i,e in enumerate(evens):\n",
    "#     print(i)\n",
    "#     e[\"18\"] = e[\"18\"].astype(str).str.replace(\"–\",\"-\").replace(\"– \",\"-\")\n",
    "#     e[\"18\"].astype(float)"
   ]
  },
  {
   "cell_type": "code",
   "execution_count": 274,
   "metadata": {
    "scrolled": true
   },
   "outputs": [
    {
     "name": "stdout",
     "output_type": "stream",
     "text": [
      "[84, 106, 122, 141, 155, 165, 184, 198, 207, 221, 234, 240, 250, 273, 291, 307, 317, 327, 343, 360, 378, 387, 390, 399, 428, 435, 442, 445, 452, 460, 465, 478, 488, 505, 522, 532, 546, 553, 556]\n"
     ]
    }
   ],
   "source": [
    "print(c)"
   ]
  },
  {
   "cell_type": "code",
   "execution_count": 359,
   "metadata": {},
   "outputs": [
    {
     "data": {
      "text/plain": [
       "Index(['31', '32', '33', '34', '35', '36', '37', '38', '39', '40', '41', '42',\n",
       "       '-3', '44', '45', '46', '47', '48', '49', '50', '51', '52', '-', '4',\n",
       "       '55', '56', '-7', 'Unnamed: 0', '58', '-61', 'Unnamed: 1', '62', '63',\n",
       "       '64', '65', '66', '67', '6', '8', '-70'],\n",
       "      dtype='object')"
      ]
     },
     "execution_count": 359,
     "metadata": {},
     "output_type": "execute_result"
    }
   ],
   "source": [
    "df0 = read_pdf(\"data/vol5_all.pdf\",pages=3,multiple_tables=True, columns=oddcolumns[9],area=(78,55,760,1575),silent=True)[0]\n",
    "df0.columns"
   ]
  },
  {
   "cell_type": "code",
   "execution_count": 743,
   "metadata": {},
   "outputs": [
    {
     "data": {
      "text/plain": [
       "Index(['31', '32', '33', '34', '35', '36', '37', '38', '39', '40', '41', '42',\n",
       "       '-3', '44', '45', '46', '47', '48', '49', '50', '51', '52', '-', '4',\n",
       "       '55', '56', '-7', 'Unnamed: 0', '58', '-61', 'Unnamed: 1', '62', '63',\n",
       "       '64', '65', '66', '67', '6', '8', '-70'],\n",
       "      dtype='object')"
      ]
     },
     "execution_count": 743,
     "metadata": {},
     "output_type": "execute_result"
    }
   ],
   "source": [
    "c = [c for c in oddcolumns[13]]\n",
    "# c[4]-=1\n",
    "# c[10]-=1\n",
    "# c[11]-=1\n",
    "# c[16]-=1\n",
    "# #c[22]-=1\n",
    "# c[24]-=1\n",
    "# #c[25]-=1\n",
    "# c[27]-=1\n",
    "#c[28]+=1\n",
    "#c[29]+=1\n",
    "df1 = read_pdf(filename,pages=157,multiple_tables=True, columns=c,area=(78,55,760,1575),silent=True)[0]\n",
    "df1.columns"
   ]
  },
  {
   "cell_type": "code",
   "execution_count": 744,
   "metadata": {},
   "outputs": [
    {
     "name": "stdout",
     "output_type": "stream",
     "text": [
      "[84, 106, 122, 141, 155, 165, 182, 198, 207, 221, 234, 241, 250, 271, 289, 305, 317, 327, 341, 358, 378, 387, 388, 399, 428, 434, 442, 445, 451, 459, 465, 478, 488, 505, 522, 532, 546, 553, 556]\n"
     ]
    }
   ],
   "source": [
    "print(c)"
   ]
  },
  {
   "cell_type": "code",
   "execution_count": 745,
   "metadata": {},
   "outputs": [
    {
     "name": "stdout",
     "output_type": "stream",
     "text": [
      "0 31 31\n",
      "1 32 32\n",
      "2 33 33\n",
      "3 34 34\n",
      "4 35 35\n",
      "5 36 36\n",
      "6 37 37\n",
      "7 38 38\n",
      "8 39 39\n",
      "9 40 40\n",
      "10 41 41\n",
      "11 42 42\n",
      "12 -3 -3\n",
      "13 44 44\n",
      "14 45 45\n",
      "15 46 46\n",
      "16 47 47\n",
      "17 48 48\n",
      "18 49 49\n",
      "19 50 50\n",
      "20 51 51\n",
      "21 52 52\n",
      "22 - -\n",
      "23 4 4\n",
      "24 55 55\n",
      "25 56 56\n",
      "26 -7 -7\n",
      "27 Unnamed: 0 Unnamed: 0\n",
      "28 58 58\n",
      "29 -61 -61\n",
      "30 Unnamed: 1 Unnamed: 1\n",
      "31 62 62\n",
      "32 63 63\n",
      "33 64 64\n",
      "34 65 65\n",
      "35 66 66\n",
      "36 67 67\n",
      "37 6 6\n",
      "38 8 8\n",
      "39 -70 -70\n"
     ]
    }
   ],
   "source": [
    "count = 0\n",
    "for i,j in zip(df0.columns,df1.columns):\n",
    "    print(count,i,j)\n",
    "    count+=1"
   ]
  },
  {
   "cell_type": "code",
   "execution_count": 27,
   "metadata": {},
   "outputs": [],
   "source": [
    "# index = 5\n",
    "# c = [84,106,122,141,156,165,184,199,208,221,236,242,250,273,291,307,318,327,343,360,378,388,391,399,429,435,443,446,452,459,465,478,488,505,522,532,546,554,557]#[c for c in oddcolumns[index]]\n",
    "# #c[21] += 2\n",
    "# #c[22] += 2\n",
    "# dfi = read_pdf(\"data/vol5_all.pdf\",pages=23,multiple_tables=True, columns=c,area=(78,55,760,1575),silent=True)[0]\n",
    "# dfi.columns"
   ]
  },
  {
   "cell_type": "code",
   "execution_count": 1817,
   "metadata": {},
   "outputs": [
    {
     "name": "stdout",
     "output_type": "stream",
     "text": [
      "0 55 True\n",
      "['C' nan 'U' 'D' 'P']\n",
      "1 61 True\n",
      "[nan 'C' 'R' 'D' 'U' 'P']\n",
      "2 63 True\n",
      "[nan 'C' 'D' 'M' 'R' 'U']\n",
      "3 67 True\n",
      "[nan 'C' 'D' 'R' 'U' 'P' 'M']\n",
      "4 77 True\n",
      "['C' nan 'D' 'U' 'M' 'P']\n",
      "5 85 True\n",
      "['D' 'U' nan 'C' 'P' 'M']\n",
      "6 91 True\n",
      "['C' nan 'U' 'D' 'M' 'R']\n",
      "7 93 True\n",
      "['C' nan 'U' 'D' 'M' 'P' 'R']\n",
      "8 97 True\n",
      "[nan 'D' 'C' 'U' 'P']\n",
      "9 107 True\n",
      "[nan 'C' 'U' 'D' 'P' 'R']\n",
      "10 113 True\n",
      "[nan 'U' 'C' 'M' 'D']\n",
      "11 119 True\n",
      "[nan 'P 1' 'C' 'D' 'U' 'U 2']\n",
      "12 121 True\n",
      "['C' nan 'P' 'U' 'R' 'D' 'M']\n",
      "13 123 True\n",
      "[nan 'C' 'D' 'U' 'P' 'R']\n",
      "14 129 True\n",
      "['P' nan 'C' 'U' 'D' 'R']\n",
      "15 131 True\n",
      "['C' nan 'U' 'D' 'M']\n",
      "16 137 True\n",
      "[nan 'C' 'D' 'M' 'U' 'P' 'R']\n",
      "17 139 True\n",
      "[nan 'C' 'D' 'M' 'U' 'P']\n",
      "18 141 True\n",
      "[nan 'C' 'U' 'D' 'P']\n",
      "19 143 True\n",
      "['C' 'M' nan 'D' 'U' 'P' 'R']\n",
      "20 151 True\n",
      "['C' nan 'D' 'P' 'U' 'R']\n",
      "21 153 True\n",
      "[nan 'C' 'U' 'D' 'P' 'R' 'M']\n",
      "22 155 True\n",
      "[nan 'C' 'R' 'D' 'U' 'P']\n",
      "23 159 True\n",
      "['C' nan 'D' 'R' 'U']\n",
      "24 161 True\n",
      "[nan 'C' 'U' 'D' 'P' 'M' 'R']\n",
      "25 169 True\n",
      "['C' nan 'D' 'P' 'U' 'M']\n",
      "26 171 True\n",
      "['C' nan 'D' 'U' 'M' 'P' 'R']\n",
      "27 177 True\n",
      "[nan 'C' 'D' 'P' 'R' 'U']\n",
      "28 181 True\n",
      "['R' nan 'C' 'D' 'P' 'U' 'M']\n",
      "29 183 True\n",
      "['U' nan 'C' 'D' 'P' 'R']\n",
      "30 191 True\n",
      "['C' nan 'D' 'R' 'P' 'U']\n",
      "31 201 True\n",
      "[nan 'U' 'P' 'C' 'D' 'M']\n",
      "32 203 True\n",
      "['C' nan 'D' 'P' 'U']\n",
      "33 207 True\n",
      "['C' nan 'U' 'D' 'P']\n",
      "34 211 True\n",
      "['C' 'D' nan 'U' 'P']\n",
      "35 213 True\n",
      "['C' nan 'D' 'U' 'M' 'P' 'R']\n",
      "36 215 True\n",
      "['C' nan 'D' 'U' 'R' 'P']\n",
      "37 219 True\n",
      "['C' nan 'U' 'M' 'D' 'P' 'R']\n",
      "38 221 True\n",
      "['C' nan 'U' 'M' 'D' 'P']\n",
      "39 227 True\n",
      "[nan 'M' 'C' 'D' 'U' 'P']\n",
      "40 231 True\n",
      "['R' nan 'D' 'U' 'C' 'P']\n",
      "41 243 True\n",
      "['C' nan 'U' 'D' 'P' 'R']\n",
      "42 251 True\n",
      "['D' nan 'C' 'U' 'M' 'P' 'R']\n",
      "43 255 True\n",
      "['C' 'U' nan 'M' 'D' 'P']\n",
      "44 261 True\n",
      "['C' nan 'P' 'U' 'D' 'R']\n",
      "45 263 True\n",
      "['C' 'D' nan 'U' 'P' 'R']\n",
      "46 267 True\n",
      "['D' nan 'R' 'C' 'U' 'P' 'M']\n",
      "47 269 True\n",
      "['C' nan 'D' 'R' 'U' 'P']\n",
      "48 275 True\n",
      "[nan 'D' 'C' 'U']\n",
      "49 279 True\n",
      "['U' 'D' nan 'C' 'P']\n",
      "50 285 True\n",
      "['D' nan 'C' 'R' 'U' 'M']\n",
      "51 289 True\n",
      "['C' nan 'D' 'U' 'P']\n",
      "52 299 True\n",
      "[nan 'C' 'D' 'U' 'P']\n",
      "53 301 True\n",
      "['C' nan 'D' 'U' 'R' 'P']\n",
      "54 305 True\n",
      "['C' nan 'D' 'U' 'R' 'P']\n"
     ]
    },
    {
     "ename": "KeyboardInterrupt",
     "evalue": "",
     "output_type": "error",
     "traceback": [
      "\u001b[0;31m---------------------------------------------------------------------------\u001b[0m",
      "\u001b[0;31mKeyboardInterrupt\u001b[0m                         Traceback (most recent call last)",
      "\u001b[0;32m<ipython-input-1817-c8cca3b5f29a>\u001b[0m in \u001b[0;36m<module>\u001b[0;34m\u001b[0m\n\u001b[1;32m      4\u001b[0m \u001b[0mp3\u001b[0m \u001b[0;34m=\u001b[0m \u001b[0;34m[\u001b[0m\u001b[0;34m]\u001b[0m\u001b[0;34m\u001b[0m\u001b[0;34m\u001b[0m\u001b[0m\n\u001b[1;32m      5\u001b[0m \u001b[0;32mfor\u001b[0m \u001b[0mi\u001b[0m\u001b[0;34m,\u001b[0m\u001b[0mj\u001b[0m \u001b[0;32min\u001b[0m \u001b[0menumerate\u001b[0m\u001b[0;34m(\u001b[0m\u001b[0mp\u001b[0m\u001b[0;34m)\u001b[0m\u001b[0;34m:\u001b[0m\u001b[0;34m\u001b[0m\u001b[0;34m\u001b[0m\u001b[0m\n\u001b[0;32m----> 6\u001b[0;31m     \u001b[0mdfi\u001b[0m \u001b[0;34m=\u001b[0m \u001b[0mread_pdf\u001b[0m\u001b[0;34m(\u001b[0m\u001b[0;34m\"data/vol5_all.pdf\"\u001b[0m\u001b[0;34m,\u001b[0m\u001b[0mpages\u001b[0m\u001b[0;34m=\u001b[0m\u001b[0mj\u001b[0m\u001b[0;34m,\u001b[0m\u001b[0mmultiple_tables\u001b[0m\u001b[0;34m=\u001b[0m\u001b[0;32mTrue\u001b[0m\u001b[0;34m,\u001b[0m \u001b[0mcolumns\u001b[0m\u001b[0;34m=\u001b[0m\u001b[0mc\u001b[0m\u001b[0;34m,\u001b[0m\u001b[0marea\u001b[0m\u001b[0;34m=\u001b[0m\u001b[0;34m(\u001b[0m\u001b[0;36m78\u001b[0m\u001b[0;34m,\u001b[0m\u001b[0;36m55\u001b[0m\u001b[0;34m,\u001b[0m\u001b[0;36m760\u001b[0m\u001b[0;34m,\u001b[0m\u001b[0;36m1575\u001b[0m\u001b[0;34m)\u001b[0m\u001b[0;34m,\u001b[0m\u001b[0msilent\u001b[0m\u001b[0;34m=\u001b[0m\u001b[0;32mTrue\u001b[0m\u001b[0;34m)\u001b[0m\u001b[0;34m[\u001b[0m\u001b[0;36m0\u001b[0m\u001b[0;34m]\u001b[0m\u001b[0;34m\u001b[0m\u001b[0;34m\u001b[0m\u001b[0m\n\u001b[0m\u001b[1;32m      7\u001b[0m     \u001b[0mprint\u001b[0m\u001b[0;34m(\u001b[0m\u001b[0mi\u001b[0m\u001b[0;34m,\u001b[0m\u001b[0mj\u001b[0m\u001b[0;34m,\u001b[0m\u001b[0;34m\"52\"\u001b[0m \u001b[0;32min\u001b[0m \u001b[0mdfi\u001b[0m\u001b[0;34m.\u001b[0m\u001b[0mcolumns\u001b[0m\u001b[0;34m)\u001b[0m\u001b[0;34m\u001b[0m\u001b[0;34m\u001b[0m\u001b[0m\n\u001b[1;32m      8\u001b[0m     \u001b[0mprint\u001b[0m\u001b[0;34m(\u001b[0m\u001b[0mdfi\u001b[0m\u001b[0;34m[\u001b[0m\u001b[0;34m\"52\"\u001b[0m\u001b[0;34m]\u001b[0m\u001b[0;34m.\u001b[0m\u001b[0munique\u001b[0m\u001b[0;34m(\u001b[0m\u001b[0;34m)\u001b[0m\u001b[0;34m)\u001b[0m\u001b[0;34m\u001b[0m\u001b[0;34m\u001b[0m\u001b[0m\n",
      "\u001b[0;32m~/opt/miniconda3/envs/bootcamp/lib/python3.8/site-packages/tabula/io.py\u001b[0m in \u001b[0;36mread_pdf\u001b[0;34m(input_path, output_format, encoding, java_options, pandas_options, multiple_tables, user_agent, **kwargs)\u001b[0m\n\u001b[1;32m    320\u001b[0m \u001b[0;34m\u001b[0m\u001b[0m\n\u001b[1;32m    321\u001b[0m     \u001b[0;32mtry\u001b[0m\u001b[0;34m:\u001b[0m\u001b[0;34m\u001b[0m\u001b[0;34m\u001b[0m\u001b[0m\n\u001b[0;32m--> 322\u001b[0;31m         \u001b[0moutput\u001b[0m \u001b[0;34m=\u001b[0m \u001b[0m_run\u001b[0m\u001b[0;34m(\u001b[0m\u001b[0mjava_options\u001b[0m\u001b[0;34m,\u001b[0m \u001b[0mkwargs\u001b[0m\u001b[0;34m,\u001b[0m \u001b[0mpath\u001b[0m\u001b[0;34m,\u001b[0m \u001b[0mencoding\u001b[0m\u001b[0;34m)\u001b[0m\u001b[0;34m\u001b[0m\u001b[0;34m\u001b[0m\u001b[0m\n\u001b[0m\u001b[1;32m    323\u001b[0m     \u001b[0;32mfinally\u001b[0m\u001b[0;34m:\u001b[0m\u001b[0;34m\u001b[0m\u001b[0;34m\u001b[0m\u001b[0m\n\u001b[1;32m    324\u001b[0m         \u001b[0;32mif\u001b[0m \u001b[0mtemporary\u001b[0m\u001b[0;34m:\u001b[0m\u001b[0;34m\u001b[0m\u001b[0;34m\u001b[0m\u001b[0m\n",
      "\u001b[0;32m~/opt/miniconda3/envs/bootcamp/lib/python3.8/site-packages/tabula/io.py\u001b[0m in \u001b[0;36m_run\u001b[0;34m(java_options, options, path, encoding)\u001b[0m\n\u001b[1;32m     78\u001b[0m \u001b[0;34m\u001b[0m\u001b[0m\n\u001b[1;32m     79\u001b[0m     \u001b[0;32mtry\u001b[0m\u001b[0;34m:\u001b[0m\u001b[0;34m\u001b[0m\u001b[0;34m\u001b[0m\u001b[0m\n\u001b[0;32m---> 80\u001b[0;31m         result = subprocess.run(\n\u001b[0m\u001b[1;32m     81\u001b[0m             \u001b[0margs\u001b[0m\u001b[0;34m,\u001b[0m\u001b[0;34m\u001b[0m\u001b[0;34m\u001b[0m\u001b[0m\n\u001b[1;32m     82\u001b[0m             \u001b[0mstdout\u001b[0m\u001b[0;34m=\u001b[0m\u001b[0msubprocess\u001b[0m\u001b[0;34m.\u001b[0m\u001b[0mPIPE\u001b[0m\u001b[0;34m,\u001b[0m\u001b[0;34m\u001b[0m\u001b[0;34m\u001b[0m\u001b[0m\n",
      "\u001b[0;32m~/opt/miniconda3/envs/bootcamp/lib/python3.8/subprocess.py\u001b[0m in \u001b[0;36mrun\u001b[0;34m(input, capture_output, timeout, check, *popenargs, **kwargs)\u001b[0m\n\u001b[1;32m    489\u001b[0m     \u001b[0;32mwith\u001b[0m \u001b[0mPopen\u001b[0m\u001b[0;34m(\u001b[0m\u001b[0;34m*\u001b[0m\u001b[0mpopenargs\u001b[0m\u001b[0;34m,\u001b[0m \u001b[0;34m**\u001b[0m\u001b[0mkwargs\u001b[0m\u001b[0;34m)\u001b[0m \u001b[0;32mas\u001b[0m \u001b[0mprocess\u001b[0m\u001b[0;34m:\u001b[0m\u001b[0;34m\u001b[0m\u001b[0;34m\u001b[0m\u001b[0m\n\u001b[1;32m    490\u001b[0m         \u001b[0;32mtry\u001b[0m\u001b[0;34m:\u001b[0m\u001b[0;34m\u001b[0m\u001b[0;34m\u001b[0m\u001b[0m\n\u001b[0;32m--> 491\u001b[0;31m             \u001b[0mstdout\u001b[0m\u001b[0;34m,\u001b[0m \u001b[0mstderr\u001b[0m \u001b[0;34m=\u001b[0m \u001b[0mprocess\u001b[0m\u001b[0;34m.\u001b[0m\u001b[0mcommunicate\u001b[0m\u001b[0;34m(\u001b[0m\u001b[0minput\u001b[0m\u001b[0;34m,\u001b[0m \u001b[0mtimeout\u001b[0m\u001b[0;34m=\u001b[0m\u001b[0mtimeout\u001b[0m\u001b[0;34m)\u001b[0m\u001b[0;34m\u001b[0m\u001b[0;34m\u001b[0m\u001b[0m\n\u001b[0m\u001b[1;32m    492\u001b[0m         \u001b[0;32mexcept\u001b[0m \u001b[0mTimeoutExpired\u001b[0m \u001b[0;32mas\u001b[0m \u001b[0mexc\u001b[0m\u001b[0;34m:\u001b[0m\u001b[0;34m\u001b[0m\u001b[0;34m\u001b[0m\u001b[0m\n\u001b[1;32m    493\u001b[0m             \u001b[0mprocess\u001b[0m\u001b[0;34m.\u001b[0m\u001b[0mkill\u001b[0m\u001b[0;34m(\u001b[0m\u001b[0;34m)\u001b[0m\u001b[0;34m\u001b[0m\u001b[0;34m\u001b[0m\u001b[0m\n",
      "\u001b[0;32m~/opt/miniconda3/envs/bootcamp/lib/python3.8/subprocess.py\u001b[0m in \u001b[0;36mcommunicate\u001b[0;34m(self, input, timeout)\u001b[0m\n\u001b[1;32m   1022\u001b[0m \u001b[0;34m\u001b[0m\u001b[0m\n\u001b[1;32m   1023\u001b[0m             \u001b[0;32mtry\u001b[0m\u001b[0;34m:\u001b[0m\u001b[0;34m\u001b[0m\u001b[0;34m\u001b[0m\u001b[0m\n\u001b[0;32m-> 1024\u001b[0;31m                 \u001b[0mstdout\u001b[0m\u001b[0;34m,\u001b[0m \u001b[0mstderr\u001b[0m \u001b[0;34m=\u001b[0m \u001b[0mself\u001b[0m\u001b[0;34m.\u001b[0m\u001b[0m_communicate\u001b[0m\u001b[0;34m(\u001b[0m\u001b[0minput\u001b[0m\u001b[0;34m,\u001b[0m \u001b[0mendtime\u001b[0m\u001b[0;34m,\u001b[0m \u001b[0mtimeout\u001b[0m\u001b[0;34m)\u001b[0m\u001b[0;34m\u001b[0m\u001b[0;34m\u001b[0m\u001b[0m\n\u001b[0m\u001b[1;32m   1025\u001b[0m             \u001b[0;32mexcept\u001b[0m \u001b[0mKeyboardInterrupt\u001b[0m\u001b[0;34m:\u001b[0m\u001b[0;34m\u001b[0m\u001b[0;34m\u001b[0m\u001b[0m\n\u001b[1;32m   1026\u001b[0m                 \u001b[0;31m# https://bugs.python.org/issue25942\u001b[0m\u001b[0;34m\u001b[0m\u001b[0;34m\u001b[0m\u001b[0;34m\u001b[0m\u001b[0m\n",
      "\u001b[0;32m~/opt/miniconda3/envs/bootcamp/lib/python3.8/subprocess.py\u001b[0m in \u001b[0;36m_communicate\u001b[0;34m(self, input, endtime, orig_timeout)\u001b[0m\n\u001b[1;32m   1864\u001b[0m                             'failed to raise TimeoutExpired.')\n\u001b[1;32m   1865\u001b[0m \u001b[0;34m\u001b[0m\u001b[0m\n\u001b[0;32m-> 1866\u001b[0;31m                     \u001b[0mready\u001b[0m \u001b[0;34m=\u001b[0m \u001b[0mselector\u001b[0m\u001b[0;34m.\u001b[0m\u001b[0mselect\u001b[0m\u001b[0;34m(\u001b[0m\u001b[0mtimeout\u001b[0m\u001b[0;34m)\u001b[0m\u001b[0;34m\u001b[0m\u001b[0;34m\u001b[0m\u001b[0m\n\u001b[0m\u001b[1;32m   1867\u001b[0m                     \u001b[0mself\u001b[0m\u001b[0;34m.\u001b[0m\u001b[0m_check_timeout\u001b[0m\u001b[0;34m(\u001b[0m\u001b[0mendtime\u001b[0m\u001b[0;34m,\u001b[0m \u001b[0morig_timeout\u001b[0m\u001b[0;34m,\u001b[0m \u001b[0mstdout\u001b[0m\u001b[0;34m,\u001b[0m \u001b[0mstderr\u001b[0m\u001b[0;34m)\u001b[0m\u001b[0;34m\u001b[0m\u001b[0;34m\u001b[0m\u001b[0m\n\u001b[1;32m   1868\u001b[0m \u001b[0;34m\u001b[0m\u001b[0m\n",
      "\u001b[0;32m~/opt/miniconda3/envs/bootcamp/lib/python3.8/selectors.py\u001b[0m in \u001b[0;36mselect\u001b[0;34m(self, timeout)\u001b[0m\n\u001b[1;32m    413\u001b[0m         \u001b[0mready\u001b[0m \u001b[0;34m=\u001b[0m \u001b[0;34m[\u001b[0m\u001b[0;34m]\u001b[0m\u001b[0;34m\u001b[0m\u001b[0;34m\u001b[0m\u001b[0m\n\u001b[1;32m    414\u001b[0m         \u001b[0;32mtry\u001b[0m\u001b[0;34m:\u001b[0m\u001b[0;34m\u001b[0m\u001b[0;34m\u001b[0m\u001b[0m\n\u001b[0;32m--> 415\u001b[0;31m             \u001b[0mfd_event_list\u001b[0m \u001b[0;34m=\u001b[0m \u001b[0mself\u001b[0m\u001b[0;34m.\u001b[0m\u001b[0m_selector\u001b[0m\u001b[0;34m.\u001b[0m\u001b[0mpoll\u001b[0m\u001b[0;34m(\u001b[0m\u001b[0mtimeout\u001b[0m\u001b[0;34m)\u001b[0m\u001b[0;34m\u001b[0m\u001b[0;34m\u001b[0m\u001b[0m\n\u001b[0m\u001b[1;32m    416\u001b[0m         \u001b[0;32mexcept\u001b[0m \u001b[0mInterruptedError\u001b[0m\u001b[0;34m:\u001b[0m\u001b[0;34m\u001b[0m\u001b[0;34m\u001b[0m\u001b[0m\n\u001b[1;32m    417\u001b[0m             \u001b[0;32mreturn\u001b[0m \u001b[0mready\u001b[0m\u001b[0;34m\u001b[0m\u001b[0;34m\u001b[0m\u001b[0m\n",
      "\u001b[0;31mKeyboardInterrupt\u001b[0m: "
     ]
    }
   ],
   "source": [
    "p = [55,61,63,67,77,85,91,93,97,107,113,119,121,123,129,131,137,139,141,143,151,153,155,159,161,169,171,177,181,183,191,201,203,207,211,213,215,219,221,227,231,243,251,255,261,263,267,269,275,279,285,289,299,301,305,307,309,313,319,321,329,337,339,341,349,359,367]\n",
    "c = columns[7]\n",
    "p2 = []\n",
    "p3 = []\n",
    "for i,j in enumerate(p):\n",
    "    dfi = read_pdf(\"data/vol5_all.pdf\",pages=j,multiple_tables=True, columns=c,area=(78,55,760,1575),silent=True)[0]\n",
    "    print(i,j,\"52\" in dfi.columns)\n",
    "    print(dfi[\"52\"].unique())\n",
    "#     if \"52\" in dfi[0].columns:\n",
    "#         p2.append(j)\n",
    "#     else:\n",
    "#         p3.append(j)"
   ]
  },
  {
   "cell_type": "code",
   "execution_count": null,
   "metadata": {},
   "outputs": [],
   "source": []
  }
 ],
 "metadata": {
  "kernelspec": {
   "display_name": "Python 3",
   "language": "python",
   "name": "python3"
  },
  "language_info": {
   "codemirror_mode": {
    "name": "ipython",
    "version": 3
   },
   "file_extension": ".py",
   "mimetype": "text/x-python",
   "name": "python",
   "nbconvert_exporter": "python",
   "pygments_lexer": "ipython3",
   "version": "3.8.1"
  }
 },
 "nbformat": 4,
 "nbformat_minor": 4
}
