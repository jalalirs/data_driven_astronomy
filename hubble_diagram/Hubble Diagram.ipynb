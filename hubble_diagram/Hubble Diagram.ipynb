{
 "cells": [
  {
   "cell_type": "markdown",
   "metadata": {},
   "source": [
    "# The Hubble Diagram\n",
    "\n",
    "\n",
    "\n",
    "The idea that we live in an expanding universe is one of the most unexpected and important discoveries of 20th century physical science. For tens of thousands of years, everyone, including astronomers, had assumed that the universe was a stable, unchanging stage on which astronomical events played themselves out. <img src=\"imgs/abell0957.jpg\" align=right /> But in the 1910s and 1920s, several physicists and astronomers made several discoveries that defied easy explanation. These discoveries started to come together in the late 1920s, and finally in 1929, an astronomer named Edwin Hubble published a paper that helped to explain thse results. In this project, you will retrace Hubble's steps, seeing the same bizarre phenomena that he saw. You will discover for yourself that the universe is expanding.\n",
    "\n",
    "\n",
    "### The Discovery of the Expanding Universe\n",
    "\n",
    "Hubble's paper came after 15 years of lucky alignment of theory and observation. In 1915, Albert Einstein developed the General Theory of Relativity, which explained how gravity works. When Einstein applied the theory to the whole universe, he found that it made a strange prediction: all of space should be dynamic, either contracting or expanding. Einstein refused to believe his own equations - like all astronomers for thousands of years, he had assumed that the size of the universe was not changing. \n",
    "\n",
    "<div style=\"width:image width px; font-size:80%; text-align:center; padding-top:10px\"><img src=\"imgs/sombrero.gif\" width=\"width\" height=\"height\" style=\"padding-bottom:0.5em;\" />The Sombrero Galaxy</div>\n",
    "\n",
    "\n",
    "Meanwhile, on another continent, Vesto Slipher, an astronomer at the Lowell Observatory in Flagstaff, Arizona, was finishing a detailed study of the night sky. He examined several of the faint, fuzzy \"nebulae\" that he saw in his telescope. He carefully measured the nebulae's spectra - the amount of light they emitted at different wavelengths. He found that the spectra of nearly all of them were \"redshifted\" - their light was redder than it should have been. Slipher knew that when an object's light was redshifted, it was moving away from Earth, and that the object's speed was proportional to the redshift. He calculated the nebulae's speeds, and found they were all moving away from us incredibly quickly: one, the Sombrero Nebula (known today as the Sombrero Galaxy), moved away at 2.5 million miles per hour.\n",
    "\n",
    "<div style=\"width:image width px; font-size:80%; text-align:center; padding-top:10px\"><img src=\"imgs/hubble.jpg\" width=\"width\" height=\"height\" style=\"padding-bottom:0.5em;\" />Edwin Hubble</div>\n",
    "\n",
    "\n",
    "Meanwhile, astronomers in California were building the largest telescope in the history of the world - a new telescope on top of Mount Wilson, near Pasadena, with a mirror 100 inches (2.5 meters) across. In 1923, Edwin Hubble used this new telescope to prove that some of the nebulae, including the Sombrero, are actually other galaxies similar to our own Milky Way. He spent the rest of the decade looking through the telescope, trying to find creative ways to measure the distances to hundreds of galaxies.\n",
    "\n",
    "In 1929, Hubble compared his distances to Slipher's measurements of redshift and made a famous plot, which today is called a Hubble diagram. Hubble's diagram showed that a galaxy's redshift increased linearly with its distance from Earth. The farther away a galaxy is, the faster it moves away from us. The simplest explanation for this observation is that the entire universe is expanding, just as Einstein's equations predicted it should. When Einstein heard about Hubble's results, he said that not realizing the expansion of the universe was his \"greatest blunder.\"\n",
    "\n",
    "### The Big Bang\n",
    "\n",
    "\n",
    "If the universe is expanding, then at some time in the past, it must have started from a single point - an idea known as the big bang. The discovery of the expanding universe, and the later development of other parts of the big bang theory, changed astronomy forever.\n",
    "\n",
    "The big bang picture was based on Hubble's plot of distances and redshifts of other galaxies, but the theory also makes several other predictions, each of which has been found to be true by astronomers since. Among the most important are:\n",
    "\n",
    "1. the oldest stars in the universe are all a little younger than the big bang\n",
    "2. the amount of hydrogen and helium, the lightest elements in the periodic table, are consistent with the amount that would have been produced soon after the big bang\n",
    "3. scientists have found a dim field of microwave radiation that fills the universe almost equally in all directions - a faint remnant of the radiation of the big bang\n",
    "\n",
    "Observation 1 is a necessary consequence of the big bang theory, but it could be argued that it is just a coincidence. But there are no viable alternative models to account for observations 2 and 3. Good theories are useful theories - they make connections between diverse sets of information and help to illuminate a wide range of phenomena. On this basis, the big bang picture has been one of the most successful theories in astronomy.\n",
    "\n",
    "The Hubble Diagram Project\n",
    "\n",
    "In the pages that follow, you will retrace Hubble's steps to make one of the most important discoveries of 20th century astronomy.\n",
    "\n",
    "First, you will look at a few galaxies in the SkyServer database. You will measure their magnitudes to get a rough idea of their distances. You will use these distances, along with SkyServer's measurements of the galaxies' redshifts, to make a simple Hubble diagram.\n",
    "\n",
    "Then, you will look in detail at some of the ways astronomers calculate the distance to galaxies, and you will learn how to find redshifts yourself. You will put this knowledge together to make a Hubble diagram the same way that Hubble did. Last, you will go back to the SkyServer database and look for galaxies on your own, making a Hubble diagram that no one else has ever made."
   ]
  },
  {
   "cell_type": "markdown",
   "metadata": {},
   "source": [
    "## A Simple Diagram\n",
    "\n",
    "To give you a taste of how we go about proving the universe is expanding, and to give you some practice using SkyServer for astronomy research, this page will show you how to make a simple Hubble diagram, with only six galaxies. \n",
    "\n",
    "<img src=\"imgs/prettygalaxy.jpg\" align=right/>\n",
    "\n",
    "### Distances \n",
    "\n",
    "The first step in creating a Hubble diagram is to plot the distances to several galaxies. Unfortunately, measuring distances in astronomy is extremely difficult; but fortunately, all you need for a Hubble diagram are relative distances to galaxies, not necessarily their actual or \"absolute\" distances measured in miles or light-years. Relative distances are measured with respect to a convenient but arbitrary standard like the Andromeda galaxy or the Virgo cluster: we can say that the Perseus Cluster is five times the distance of the Virgo Cluster, for example.\n",
    "\n",
    "To measure relative distance, astronomers need some way to compare galaxies. Since galaxies are so similar, astronomers assume that they all have the same average properties, such as brightness and size. When we assume that two galaxies' intrinsic brightness and size are the same, any differences in brightness or size between them are due only to differing distances away from us. For example, we can assume that a galaxy that appears twice as large as another galaxy is half as far from us.\n",
    "\n",
    "\n",
    "\n",
    "<table>\n",
    "    <tr><td><img src=\"imgs/neargalaxy.jpg\" /></td>\n",
    "        <td><img src=\"imgs/fargalaxy.jpg\" /></td>\n",
    "    </tr>\n",
    "    <tr><td colspan=2><center>Nearby galaxies appear large and bright, while distant galaxies appear small and faint.</center></td></tr>\n",
    "</table>\n",
    "\n",
    "One of the easiest ways to compare galaxies is to compare their magnitudes. Magnitude can be used to measure the brightness of any celestial object, including stars and galaxies. In magnitude, higher numbers correspond to fainter objects, lower numbers to brighter objects; the very brightest objects have negative magnitudes. An increase of one number in magnitude corresponds to an increase in brightness by a factor of about 2.51 - a magnitude four object is 2.51 times brighter than a magnitude five object. The sun has magnitude -26. The brightest star in the Northern sky, Sirius, has magnitude \n",
    "-1.5. The brightest galaxy is the Andromeda Galaxy, which has magnitude 3.5.\n",
    "\n",
    "The faintest object you can see with your eyes has a magnitude of about 6. The faintest object the SDSS telescope can see has a magnitude of about 23. SDSS measures magnitudes in five wavelengths of light: ultraviolet (u), green (g), red (r), two infrared wavelengths (i and z)."
   ]
  },
  {
   "cell_type": "markdown",
   "metadata": {},
   "source": [
    "<font color=\"red\">*Exercise 1: In this exercise, you will find the magnitudes of six galaxies in the SDSS database. The table below shows the object IDs and positions (right ascension and declination) of the six galaxies.*\n",
    "\n",
    "*To find a galaxy's information, click on the object ID. When you click on the object ID of the first galaxy, the Object Explorer tool will open in a new window, displaying the galaxy's data. When you click on another object ID, the Object Explorer will load the new galaxy's data in the same window.*\n",
    "\n",
    "<br/>\n",
    "\n",
    "<table border=\"1\" cellpadding=\"3\" cellspacing=\"1\" width=\"100%\"> \n",
    "        <tbody><tr>\n",
    "          <td><p class=\"caption\">Object ID</p></td>\n",
    "          <td><p class=\"caption\">Right Ascension</p></td>\n",
    "          <td><p class=\"caption\">Declination</p></td>\n",
    "        </tr>      \n",
    "        <tr>\n",
    "          <td><p><a href=\"http://skyserver.sdss.org/dr16/en/tools/explore/obj.aspx?id=1237666408439939277\" target=\"tools\">\n",
    "          1237666408439939277</a></p></td>\n",
    "          <td><p>354.35</p></td>\n",
    "          <td><p>0.39167</p></td>\n",
    "        </tr>\n",
    "        <tr>\n",
    "          <td><p><a href=\"http://skyserver.sdss.org/dr16/en/tools/explore/obj.aspx?id=1237663784195195105\" target=\"tools\">\n",
    "          1237663784195195105</a></p></td>\n",
    "          <td><p>354.98998</p></td>\n",
    "          <td><p>0.13519</p></td>\n",
    "        </tr>\n",
    "        <tr>\n",
    "          <td><p><a href=\"http://skyserver.sdss.org/dr16/en/tools/explore/obj.aspx?id=1237648704592806164\" target=\"tools\">\n",
    "          1237648704592806164</a></p></td>\n",
    "          <td><p>219.31858</p></td>\n",
    "          <td><p>0.17731</p></td>\n",
    "        </tr>\n",
    "        <tr>\n",
    "          <td><p><a href=\"http://skyserver.sdss.org/dr16/en/tools/explore/obj.aspx?id=1237659895636296017\" target=\"tools\">\n",
    "          1237659895636296017</a></p></td>\n",
    "          <td><p>260.80622</p></td>\n",
    "          <td><p>58.58956</p></td>\n",
    "        </tr>\n",
    "        <tr>\n",
    "          <td><p><a href=\"http://skyserver.sdss.org/dr16/en/tools/explore/obj.aspx?id=1237656529458233684\" target=\"tools\">\n",
    "          1237656529458233684</a></p></td>\n",
    "          <td><p>263.94885</p></td>\n",
    "          <td><p>54.36385</p></td>\n",
    "        </tr>        \n",
    "        <tr>\n",
    "          <td><p><a href=\"http://skyserver.sdss.org/dr16/en/tools/explore/obj.aspx?id=1237651800697274648\" target=\"tools\">\n",
    "          1237651800697274648</a></p></td>\n",
    "          <td><p>150.09651</p></td>\n",
    "          <td><p>-0.27059</p></td>\n",
    "        </tr>\n",
    "      </tbody></table>\n",
    " \n",
    "*Just to the right of the galaxy's picture in the Object Explorer, you will see five data entries: u,g,r,i,z. These are the magnitudes of the galaxy in the SDSS's five wavelengths.*\n",
    "</font>"
   ]
  },
  {
   "cell_type": "code",
   "execution_count": 21,
   "metadata": {},
   "outputs": [],
   "source": [
    "import requests\n",
    "import pandas as pd"
   ]
  },
  {
   "cell_type": "code",
   "execution_count": 322,
   "metadata": {},
   "outputs": [],
   "source": [
    "##\n",
    "skyserverSearchLink = \"http://skyserver.sdss.org/dr16/en/tools/search/x_results.aspx?\"\n",
    "skyserverSearchLink += \"searchtool=Radial&\"\n",
    "skyserverSearchLink += \"TaskName=Skyserver.Search.Radial&\"\n",
    "skyserverSearchLink += \"ReturnHtml=true&whichphotometry=optical&\"\n",
    "skyserverSearchLink += \"coordtype=equatorial&\"\n",
    "skyserverSearchLink += \"uband=&gband=&rband=&iband=&zband=&jband=&hband=&kband=&\"\n",
    "skyserverSearchLink += \"min_u=0&max_u=20&min_g=0&max_g=20&min_r=0&max_r=20&min_i=0&max_i=20&min_z=0&max_z=20&min_j=0&max_j=20&min_h=0&max_h=20&min_k=0&max_k=20&\"\n",
    "skyserverSearchLink += \"ra={}&dec={}&radius={}&\"\n",
    "skyserverSearchLink += \"format=csv&TableName=&limit=10\"\n",
    "\n",
    "def query_skyserver(ra,dec,radius=0.1):\n",
    "    \"\"\"\n",
    "    Query skyserver for objects within @radius from (@ra,@dec)\n",
    "    \"\"\"\n",
    "    # add ra, dec, radius to the main link\n",
    "    flink = skyserverSearchLink.format(ra,dec,radius)\n",
    "    # request csv\n",
    "    text = requests.get(flink).content.decode('utf-8')\n",
    "    # stripping begining of the file\n",
    "    cleaned = text.strip(\"#Table1\\n\")\n",
    "    # splitting csv lines\n",
    "    lines = cleaned.split('\\n')\n",
    "    # taking first row as columns name\n",
    "    columns = lines[0].split(\",\")\n",
    "    # create dataframe\n",
    "    df = pd.DataFrame([x.split(',') for x in lines[1:]],columns=columns)\n",
    "    # getting closesest one in case of multiple\n",
    "    diff = abs(df[\"ra\"].astype(float) - ra)+abs(df[\"dec\"].astype(float) - dec)\n",
    "    df = df[diff == diff.min()]\n",
    "    return df"
   ]
  },
  {
   "cell_type": "code",
   "execution_count": 323,
   "metadata": {},
   "outputs": [],
   "source": [
    "# coords from excersize 1\n",
    "coords = [(354.34963,0.39185),\n",
    "(354.98998,0.13519),\n",
    "(219.31858,0.17731),\n",
    "(260.80622,58.58956),\n",
    "(263.94885,54.36385),\n",
    "(150.09651,-0.27059)]"
   ]
  },
  {
   "cell_type": "code",
   "execution_count": 324,
   "metadata": {},
   "outputs": [],
   "source": [
    "# getting all galixies \n",
    "mags = pd.concat([query_skyserver(ra,dec) for ra, dec in coords])"
   ]
  },
  {
   "cell_type": "code",
   "execution_count": 325,
   "metadata": {},
   "outputs": [
    {
     "data": {
      "text/html": [
       "<div>\n",
       "<style scoped>\n",
       "    .dataframe tbody tr th:only-of-type {\n",
       "        vertical-align: middle;\n",
       "    }\n",
       "\n",
       "    .dataframe tbody tr th {\n",
       "        vertical-align: top;\n",
       "    }\n",
       "\n",
       "    .dataframe thead th {\n",
       "        text-align: right;\n",
       "    }\n",
       "</style>\n",
       "<table border=\"1\" class=\"dataframe\">\n",
       "  <thead>\n",
       "    <tr style=\"text-align: right;\">\n",
       "      <th></th>\n",
       "      <th>ra</th>\n",
       "      <th>dec</th>\n",
       "      <th>u</th>\n",
       "      <th>g</th>\n",
       "      <th>r</th>\n",
       "      <th>i</th>\n",
       "      <th>z</th>\n",
       "    </tr>\n",
       "  </thead>\n",
       "  <tbody>\n",
       "    <tr>\n",
       "      <th>0</th>\n",
       "      <td>354.349914</td>\n",
       "      <td>0.391726</td>\n",
       "      <td>19.75398</td>\n",
       "      <td>15.76360</td>\n",
       "      <td>15.30274</td>\n",
       "      <td>14.93993</td>\n",
       "      <td>14.71566</td>\n",
       "    </tr>\n",
       "    <tr>\n",
       "      <th>1</th>\n",
       "      <td>354.990016</td>\n",
       "      <td>0.135190</td>\n",
       "      <td>17.59626</td>\n",
       "      <td>16.25435</td>\n",
       "      <td>15.53582</td>\n",
       "      <td>15.05027</td>\n",
       "      <td>14.73749</td>\n",
       "    </tr>\n",
       "    <tr>\n",
       "      <th>2</th>\n",
       "      <td>219.318586</td>\n",
       "      <td>0.177316</td>\n",
       "      <td>18.92338</td>\n",
       "      <td>17.06746</td>\n",
       "      <td>16.09535</td>\n",
       "      <td>15.68120</td>\n",
       "      <td>15.32460</td>\n",
       "    </tr>\n",
       "    <tr>\n",
       "      <th>3</th>\n",
       "      <td>260.806200</td>\n",
       "      <td>58.589548</td>\n",
       "      <td>19.83688</td>\n",
       "      <td>17.87900</td>\n",
       "      <td>16.78981</td>\n",
       "      <td>16.31227</td>\n",
       "      <td>15.98663</td>\n",
       "    </tr>\n",
       "    <tr>\n",
       "      <th>4</th>\n",
       "      <td>263.948831</td>\n",
       "      <td>54.363846</td>\n",
       "      <td>21.28514</td>\n",
       "      <td>18.95216</td>\n",
       "      <td>17.41573</td>\n",
       "      <td>16.86229</td>\n",
       "      <td>16.49906</td>\n",
       "    </tr>\n",
       "    <tr>\n",
       "      <th>5</th>\n",
       "      <td>150.096504</td>\n",
       "      <td>-0.270584</td>\n",
       "      <td>23.02123</td>\n",
       "      <td>20.14471</td>\n",
       "      <td>18.44496</td>\n",
       "      <td>17.86943</td>\n",
       "      <td>17.50822</td>\n",
       "    </tr>\n",
       "  </tbody>\n",
       "</table>\n",
       "</div>"
      ],
      "text/plain": [
       "           ra        dec         u         g         r         i         z\n",
       "0  354.349914   0.391726  19.75398  15.76360  15.30274  14.93993  14.71566\n",
       "1  354.990016   0.135190  17.59626  16.25435  15.53582  15.05027  14.73749\n",
       "2  219.318586   0.177316  18.92338  17.06746  16.09535  15.68120  15.32460\n",
       "3  260.806200  58.589548  19.83688  17.87900  16.78981  16.31227  15.98663\n",
       "4  263.948831  54.363846  21.28514  18.95216  17.41573  16.86229  16.49906\n",
       "5  150.096504  -0.270584  23.02123  20.14471  18.44496  17.86943  17.50822"
      ]
     },
     "execution_count": 325,
     "metadata": {},
     "output_type": "execute_result"
    }
   ],
   "source": [
    "# displaying u,g,r,i,z\n",
    "mag = mags[[\"ra\",\"dec\",\"u\",\"g\",\"r\",\"i\",\"z\"]].reset_index(drop=True)\n",
    "mag[\"ra\"], mag[\"dec\"] = mag[\"ra\"].astype(float), mag[\"dec\"].astype(float)\n",
    "for i in [\"u\",\"r\",\"g\",\"i\",\"z\"]:\n",
    "    mag[i] = mag[i].astype(float)\n",
    "mag"
   ]
  },
  {
   "cell_type": "markdown",
   "metadata": {},
   "source": [
    "If we assume that all six galaxies emit roughly the same amount of light, then the differences in their magnitudes are due only to their different distances from us. If one galaxy has a higher magnitude than another, then we assume that it must be farther away.\n",
    "\n",
    "In the next section of this project, you will find out how to turn the magnitudes into actual relative distances. But for now, you can use magnitudes to substitute for distances when you make your simple Hubble diagram."
   ]
  },
  {
   "cell_type": "markdown",
   "metadata": {},
   "source": [
    "### Redshifts\n",
    "\n",
    "Redshift is a measure of how fast a celestial object is moving relative to us. If you have ever stood by the side of the road as a car passed by, you have a sense for what redshift is. As the car moves toward you, the pitch of its engine sounds higher than the engine of a stationary car. As the car moves away from you, the engine's pitch is lower than for the engine of a stationary car. The reason for this change is the Doppler effect, named for its discoverer, Austrian physicist Christian Doppler. As the car moves toward you, the sound waves that carry the sound of its engine are compressed. As the car moves away from you, these sound waves are stretched.\n",
    "\n",
    "The same effect happens with light waves. If an object moves toward us, the light waves it emits will be compressed - the wavelength will be shorter, so the light will become bluer. If an object moves away from us, its light waves will be stretched, and will become redder. The degree of \"redshift\" or \"blueshift\" is directly related to the object's speed in the direction we are looking. The animation below schematically shows what a redshift and blueshift might look like, again using a car as an example. The speeds of cars are far too small for us to notice any redshift or blueshift. But galaxies are moving fast enough with respect to us that we can see a noticeable shift.\n",
    "\n",
    "\n",
    "<img src=\"imgs/redshift.gif\" />\n",
    "\n",
    "Astronomers can measure exactly how much redshift or blueshift a galaxy has by looking at its spectrum. A spectrum (the plural is \"spectra\") measures how much light an object emits as a function of wavelength. The spectra of stars and galaxies almost always show a series of discrete lines that form when certain atoms or molecules emit or absorb light. These \"spectral emission and absorption lines\" always appear at the same wavelengths, so they make a convenient marker for redshift or blueshift. If astronomers look at a galaxy and see one line at a longer wavelength than it would be on Earth, they would know that the galaxy was redshifted and moving away from us. If they see the same lines at shorter wavelengths, they would know that the galaxy was blueshifted and moving toward us.\n",
    "\n",
    "By the end of the survey, the SDSS will have looked at the spectra of more than one million galaxies. Each spectrum is run through a computer program that automatically determines the redshift. The program outputs an image like the one below, with spectral lines marked. The \"z\" number at the bottom of the image shows the redshift. Positive z indicates redshift and negative z indicates blueshift.\n",
    "\n",
    "\n",
    "<img src=\"imgs/samplespec.gif\" />\n",
    "\n",
    "Spectra for galaxies are stored in the SDSS's spectroscopic database. They are organized into plates and fibers, corresponding to the plate and fiber used by the SDSS spectrometer to collect them.\n",
    "\n",
    "<font color=\"red\">*Exercise 2: Find redshifts for the galaxies that you used in Exercise 1. Return to the Object Explorer using the links below or by clicking \"Show Notes\" and clicking on each galaxy in your SkyServer notebook. Scroll down in the main window until you see the galaxy's spectrum. Just above the spectrum, you will see a data entry for \"z\". This is NOT the z magnitude from Exercise 1 - it is the galaxy's redshift. Write down the redshift (z) value for each galaxy. Record your data in the same workbook you used for Exercise 1.*\n",
    "</font>\n",
    "<br/>\n",
    "\n",
    "<table border=\"1\" cellpadding=\"3\" cellspacing=\"1\" width=\"100%\"> \n",
    "        <tbody><tr>\n",
    "          <td><p class=\"caption\">Object ID</p></td>\n",
    "          <td><p class=\"caption\">Right Ascension</p></td>\n",
    "          <td><p class=\"caption\">Declination</p></td>\n",
    "        </tr>      \n",
    "        <tr>\n",
    "          <td><p><a href=\"http://skyserver.sdss.org/dr16/en/tools/explore/obj.aspx?id=1237666408439939277\" target=\"tools\">\n",
    "          1237666408439939277</a></p></td>\n",
    "          <td><p>354.35</p></td>\n",
    "          <td><p>0.39167</p></td>\n",
    "        </tr>\n",
    "        <tr>\n",
    "          <td><p><a href=\"http://skyserver.sdss.org/dr16/en/tools/explore/obj.aspx?id=1237663784195195105\" target=\"tools\">\n",
    "          1237663784195195105</a></p></td>\n",
    "          <td><p>354.98998</p></td>\n",
    "          <td><p>0.13519</p></td>\n",
    "        </tr>\n",
    "        <tr>\n",
    "          <td><p><a href=\"http://skyserver.sdss.org/dr16/en/tools/explore/obj.aspx?id=1237648704592806164\" target=\"tools\">\n",
    "          1237648704592806164</a></p></td>\n",
    "          <td><p>219.31858</p></td>\n",
    "          <td><p>0.17731</p></td>\n",
    "        </tr>\n",
    "        <tr>\n",
    "          <td><p><a href=\"http://skyserver.sdss.org/dr16/en/tools/explore/obj.aspx?id=1237659895636296017\" target=\"tools\">\n",
    "          1237659895636296017</a></p></td>\n",
    "          <td><p>260.80622</p></td>\n",
    "          <td><p>58.58956</p></td>\n",
    "        </tr>\n",
    "        <tr>\n",
    "          <td><p><a href=\"http://skyserver.sdss.org/dr16/en/tools/explore/obj.aspx?id=1237656529458233684\" target=\"tools\">\n",
    "          1237656529458233684</a></p></td>\n",
    "          <td><p>263.94885</p></td>\n",
    "          <td><p>54.36385</p></td>\n",
    "        </tr>        \n",
    "        <tr>\n",
    "          <td><p><a href=\"http://skyserver.sdss.org/dr16/en/tools/explore/obj.aspx?id=1237651800697274648\" target=\"tools\">\n",
    "          1237651800697274648</a></p></td>\n",
    "          <td><p>150.09651</p></td>\n",
    "          <td><p>-0.27059</p></td>\n",
    "        </tr>\n",
    "      </tbody></table>\n",
    "\n"
   ]
  },
  {
   "cell_type": "code",
   "execution_count": 163,
   "metadata": {},
   "outputs": [],
   "source": [
    "def HMS2deg(ra, dec):\n",
    "    \"\"\"\n",
    "    Convert H:M:S to degree\n",
    "    \"\"\"\n",
    "    try:\n",
    "        D, M, S = [float(i) for i in dec.split(\":\")]\n",
    "        \n",
    "        ds = 1\n",
    "        if str(D)[0] == '-':\n",
    "            ds, D = -1, abs(D)       \n",
    "        deg = D + (M/60) + (S/3600)\n",
    "        dec = deg*ds\n",
    "\n",
    "        H, M, S = [float(i) for i in ra.split(\":\")]\n",
    "        rs = 1\n",
    "        if str(H)[0] == '-':\n",
    "            rs, H = -1, abs(H)    \n",
    "        deg = (H*15) + (M/4) + (S/240)\n",
    "        ra = deg*rs\n",
    "        return ra,dec\n",
    "    except:\n",
    "        raise\n",
    "        return None"
   ]
  },
  {
   "cell_type": "code",
   "execution_count": 69,
   "metadata": {},
   "outputs": [],
   "source": [
    "dr16 = pd.read_csv(\"data/optical_search_381486.csv\")"
   ]
  },
  {
   "cell_type": "code",
   "execution_count": 70,
   "metadata": {},
   "outputs": [],
   "source": [
    "ids = list(df[\"objid\"])"
   ]
  },
  {
   "cell_type": "code",
   "execution_count": 83,
   "metadata": {},
   "outputs": [],
   "source": [
    "dr16[\"specobj_id\"] = dr16[\"specobj_id\"].str.strip('\\'')\n",
    "dr16[\"ra\"] = dr16[\"ra\"].str.strip('\\'')\n",
    "dr16[\"dec\"] = dr16[\"dec\"].str.strip('\\'')"
   ]
  },
  {
   "cell_type": "code",
   "execution_count": 164,
   "metadata": {},
   "outputs": [],
   "source": [
    "dr16[\"ra_f\"],dr16[\"dec_f\"] = zip(*dr16.apply(lambda x: HMS2deg(x[\"ra\"],x[\"dec\"]),axis=1))"
   ]
  },
  {
   "cell_type": "code",
   "execution_count": 220,
   "metadata": {},
   "outputs": [],
   "source": [
    "dr16[\"ra_f\"],dr16[\"dec_f\"] = dr16[\"ra_f\"].astype(float),dr16[\"dec_f\"].astype(float)"
   ]
  },
  {
   "cell_type": "code",
   "execution_count": 221,
   "metadata": {},
   "outputs": [],
   "source": [
    "def get_item(ra,dec,t=0.001):\n",
    "    items = dr16[(abs(dr16[\"ra_f\"] - ra) <= t) & (abs(dr16[\"dec_f\"] - dec) <= t)]\n",
    "    return items.iloc[0:1]"
   ]
  },
  {
   "cell_type": "code",
   "execution_count": 222,
   "metadata": {},
   "outputs": [],
   "source": [
    "zs = pd.concat([get_item(*c) for c in coords])"
   ]
  },
  {
   "cell_type": "code",
   "execution_count": 223,
   "metadata": {
    "scrolled": false
   },
   "outputs": [
    {
     "data": {
      "text/html": [
       "<div>\n",
       "<style scoped>\n",
       "    .dataframe tbody tr th:only-of-type {\n",
       "        vertical-align: middle;\n",
       "    }\n",
       "\n",
       "    .dataframe tbody tr th {\n",
       "        vertical-align: top;\n",
       "    }\n",
       "\n",
       "    .dataframe thead th {\n",
       "        text-align: right;\n",
       "    }\n",
       "</style>\n",
       "<table border=\"1\" class=\"dataframe\">\n",
       "  <thead>\n",
       "    <tr style=\"text-align: right;\">\n",
       "      <th></th>\n",
       "      <th>ra</th>\n",
       "      <th>dec</th>\n",
       "      <th>z</th>\n",
       "    </tr>\n",
       "  </thead>\n",
       "  <tbody>\n",
       "    <tr>\n",
       "      <th>0</th>\n",
       "      <td>354.349625</td>\n",
       "      <td>0.391853</td>\n",
       "      <td>0.008934</td>\n",
       "    </tr>\n",
       "    <tr>\n",
       "      <th>1</th>\n",
       "      <td>354.990000</td>\n",
       "      <td>0.135156</td>\n",
       "      <td>0.060184</td>\n",
       "    </tr>\n",
       "    <tr>\n",
       "      <th>2</th>\n",
       "      <td>219.318583</td>\n",
       "      <td>0.177292</td>\n",
       "      <td>0.105415</td>\n",
       "    </tr>\n",
       "    <tr>\n",
       "      <th>3</th>\n",
       "      <td>260.806250</td>\n",
       "      <td>58.589564</td>\n",
       "      <td>0.152017</td>\n",
       "    </tr>\n",
       "    <tr>\n",
       "      <th>4</th>\n",
       "      <td>263.948792</td>\n",
       "      <td>54.363844</td>\n",
       "      <td>0.238139</td>\n",
       "    </tr>\n",
       "    <tr>\n",
       "      <th>5</th>\n",
       "      <td>150.096458</td>\n",
       "      <td>-0.270572</td>\n",
       "      <td>0.313595</td>\n",
       "    </tr>\n",
       "  </tbody>\n",
       "</table>\n",
       "</div>"
      ],
      "text/plain": [
       "           ra        dec         z\n",
       "0  354.349625   0.391853  0.008934\n",
       "1  354.990000   0.135156  0.060184\n",
       "2  219.318583   0.177292  0.105415\n",
       "3  260.806250  58.589564  0.152017\n",
       "4  263.948792  54.363844  0.238139\n",
       "5  150.096458  -0.270572  0.313595"
      ]
     },
     "execution_count": 223,
     "metadata": {},
     "output_type": "execute_result"
    }
   ],
   "source": [
    "z = zs[[\"ra_f\",\"dec_f\",\"z\"]].reset_index(drop=True)\n",
    "z = z.rename(columns={\"ra_f\":\"ra\",\"dec_f\":\"dec\"})\n",
    "z"
   ]
  },
  {
   "cell_type": "markdown",
   "metadata": {},
   "source": [
    "### Making the Diagram\n",
    "\n",
    "Now that you have magnitudes and redshifts for six galaxies, you are ready to make a Hubble diagram. Use a graphing program such as Microsoft Excel to make your diagram. The instructions below tell you how to make the graph in Excel; to use other graphing programs, you would follow similar steps."
   ]
  },
  {
   "cell_type": "code",
   "execution_count": 326,
   "metadata": {},
   "outputs": [],
   "source": [
    "mag = mag.sort_values([\"ra\",\"dec\"]).reset_index(drop=True)\n",
    "z = z.sort_values([\"ra\",\"dec\"]).reset_index(drop=True)"
   ]
  },
  {
   "cell_type": "code",
   "execution_count": 327,
   "metadata": {},
   "outputs": [
    {
     "data": {
      "text/plain": [
       "<matplotlib.collections.PathCollection at 0x142338fd0>"
      ]
     },
     "execution_count": 327,
     "metadata": {},
     "output_type": "execute_result"
    },
    {
     "data": {
      "image/png": "[encoded data removed]",
      "text/plain": [
       "<Figure size 432x288 with 1 Axes>"
      ]
     },
     "metadata": {
      "needs_background": "light"
     },
     "output_type": "display_data"
    }
   ],
   "source": [
    "import matplotlib.pyplot as plt\n",
    "plt.scatter(z[\"z\"],mag[\"g\"])"
   ]
  },
  {
   "cell_type": "markdown",
   "metadata": {},
   "source": [
    "Do your data really show a linear relationship between magnitude and redshift? When scientists try to find relationships in data, they often speak of a \"model\": in this case, a linear model relates magnitude to redshift. Scientists often speak of the \"fit\" between the data and the model. The fit can be described with a percentage that shows how close the points lie to the place where they should lie if the model were true. Because every experiment has some error and every observation has some statistical uncertainty, the fit is never 100% accurate. Generally, scientists consider a fit above 90% to show that the model accurately predicts the data."
   ]
  },
  {
   "cell_type": "code",
   "execution_count": 328,
   "metadata": {},
   "outputs": [],
   "source": [
    "X = z[\"z\"]\n",
    "Y = mag[\"i\"]"
   ]
  },
  {
   "cell_type": "code",
   "execution_count": 329,
   "metadata": {},
   "outputs": [
    {
     "name": "stdout",
     "output_type": "stream",
     "text": [
      "best fit line:\n",
      "y = 14.68 + 9.84x\n"
     ]
    },
    {
     "data": {
      "text/plain": [
       "[<matplotlib.lines.Line2D at 0x141138080>]"
      ]
     },
     "execution_count": 329,
     "metadata": {},
     "output_type": "execute_result"
    },
    {
     "data": {
      "image/png": "[encoded data removed]",
      "text/plain": [
       "<Figure size 432x288 with 1 Axes>"
      ]
     },
     "metadata": {
      "needs_background": "light"
     },
     "output_type": "display_data"
    }
   ],
   "source": [
    "# solve for a and b\n",
    "def best_fit(X, Y):\n",
    "\n",
    "    xbar = sum(X)/len(X)\n",
    "    ybar = sum(Y)/len(Y)\n",
    "    n = len(X) # or len(Y)\n",
    "\n",
    "    numer = sum([xi*yi for xi,yi in zip(X, Y)]) - n * xbar * ybar\n",
    "    denum = sum([xi**2 for xi in X]) - n * xbar**2\n",
    "\n",
    "    b = numer / denum\n",
    "    a = ybar - b * xbar\n",
    "\n",
    "    print('best fit line:\\ny = {:.2f} + {:.2f}x'.format(a, b))\n",
    "\n",
    "    return a, b\n",
    "\n",
    "# solution\n",
    "a, b = best_fit(X, Y)\n",
    "# plot points and fit line\n",
    "import matplotlib.pyplot as plt\n",
    "plt.scatter(X, Y)\n",
    "yfit = [a + b * xi for xi in X]\n",
    "plt.plot(X, yfit)"
   ]
  },
  {
   "cell_type": "markdown",
   "metadata": {},
   "source": [
    "### Another Hubble Diagram\n",
    "\n",
    "You have now constructed a simple Hubble diagram containing six galaxies. The data in the diagram fit well with a straight line. Now, try making the same diagram with different galaxies."
   ]
  },
  {
   "cell_type": "code",
   "execution_count": 332,
   "metadata": {},
   "outputs": [],
   "source": [
    "# coords from excersize 5\n",
    "coords2 = [(230.76984,-0.5166),\n",
    "(232.96006,-0.47602),\n",
    "(1.19287,0.70164),\n",
    "(2.18327,-0.27945),\n",
    "(2.97483,0.53232),\n",
    "(2.02961,0.99069)]"
   ]
  },
  {
   "cell_type": "code",
   "execution_count": 333,
   "metadata": {},
   "outputs": [],
   "source": [
    "zs = pd.concat([get_item(*c) for c in coords2])\n",
    "z = zs[[\"ra_f\",\"dec_f\",\"z\"]].reset_index(drop=True)\n",
    "z = z.rename(columns={\"ra_f\":\"ra\",\"dec_f\":\"dec\"})"
   ]
  },
  {
   "cell_type": "code",
   "execution_count": 334,
   "metadata": {},
   "outputs": [],
   "source": [
    "# getting all galixies \n",
    "mags = pd.concat([query_skyserver(ra,dec) for ra, dec in coords2])\n",
    "# displaying u,g,r,i,z\n",
    "mag = mags[[\"ra\",\"dec\",\"u\",\"g\",\"r\",\"i\",\"z\"]].reset_index(drop=True)\n",
    "mag[\"ra\"], mag[\"dec\"] = mag[\"ra\"].astype(float), mag[\"dec\"].astype(float)\n",
    "for i in [\"u\",\"r\",\"g\",\"i\",\"z\"]:\n",
    "    mag[i] = mag[i].astype(float)"
   ]
  },
  {
   "cell_type": "code",
   "execution_count": 335,
   "metadata": {},
   "outputs": [],
   "source": [
    "mag = mag.sort_values([\"ra\",\"dec\"]).reset_index(drop=True)\n",
    "z = z.sort_values([\"ra\",\"dec\"]).reset_index(drop=True)"
   ]
  },
  {
   "cell_type": "code",
   "execution_count": 338,
   "metadata": {},
   "outputs": [
    {
     "data": {
      "text/plain": [
       "(15, 22)"
      ]
     },
     "execution_count": 338,
     "metadata": {},
     "output_type": "execute_result"
    },
    {
     "data": {
      "image/png": "[encoded data removed]",
      "text/plain": [
       "<Figure size 432x288 with 1 Axes>"
      ]
     },
     "metadata": {
      "needs_background": "light"
     },
     "output_type": "display_data"
    }
   ],
   "source": [
    "plt.scatter(z[\"z\"],mag[\"g\"])\n",
    "plt.xlim((0,0.35))\n",
    "plt.ylim((15,22))"
   ]
  },
  {
   "cell_type": "code",
   "execution_count": 340,
   "metadata": {},
   "outputs": [
    {
     "name": "stdout",
     "output_type": "stream",
     "text": [
      "best fit line:\n",
      "y = 17.12 + 3.21x\n"
     ]
    },
    {
     "data": {
      "text/plain": [
       "(15, 22)"
      ]
     },
     "execution_count": 340,
     "metadata": {},
     "output_type": "execute_result"
    },
    {
     "data": {
      "image/png": "[encoded data removed]",
      "text/plain": [
       "<Figure size 432x288 with 1 Axes>"
      ]
     },
     "metadata": {
      "needs_background": "light"
     },
     "output_type": "display_data"
    }
   ],
   "source": [
    "X = z[\"z\"]\n",
    "Y = mag[\"i\"]\n",
    "# solution\n",
    "a, b = best_fit(X, Y)\n",
    "# plot points and fit line\n",
    "import matplotlib.pyplot as plt\n",
    "plt.scatter(X, Y)\n",
    "yfit = [a + b * xi for xi in X]\n",
    "plt.plot(X, yfit)\n",
    "plt.xlim((0,0.35))\n",
    "plt.ylim((15,22))"
   ]
  },
  {
   "cell_type": "markdown",
   "metadata": {},
   "source": [
    "In Exercise 6, you used the same method you used in Exercises 3 and 4: you graphed magnitude as a function of redshift. So why does the graph you got look so different? The answer is that the assumption that underlies both graphs is sometimes true, and sometimes false. To make the Hubble diagrams, you assumed that magnitude could substitute for distance, which in turn required you to assume that all galaxies had the same average brightness.\n",
    "\n",
    "Galaxies do have average properties. But if every galaxy were exactly the same, astronomy would be quite a boring subject. Galaxies also show a great deal of variation, and many astronomers make their careers studying these variations. Unfortunately, variations in galaxy properties make constructing a Hubble diagram trickier than simply graphing magnitude and redshift.\n",
    "\n",
    "In the next section, you will learn some other ways astronomers measure relative distance to other galaxies. In the section after that, you will learn more about how to measure redshift. Then, you will use this knowledge to construct a better Hubble diagram, one that does not fall into the trap that this simple diagram fell into."
   ]
  },
  {
   "cell_type": "markdown",
   "metadata": {},
   "source": [
    "## Estimating Distances to Galaxies\n",
    "\n",
    "In the last section, you used magnitude as a substitute for relative distance. But magnitude can also be converted into a direct measure of relative distance. <img src=\"imgs/magnitude.jpg\"  align=right />To find the relative distance, first convert the magnitude from logarithmic units to real units. The quantity that magnitude actually measures is radiant flux - the amount of light that arrives at Earth in a given time. The formula for finding the radiant flux F from magnitude m is:\n",
    "\n",
    "$$F = 2.51^{-m}$$\n",
    "\n",
    "F is a relative number that compares the arriving radiant flux to a standard: the star Vega in the northern constellation Lyra. But since we are only looking for relative distance, we can use the relative radiant flux. Now, take the square root of the radiant flux. Take the inverse of the square root. The result is a relative distance to the galaxy. To make it easier to understand these relative distances, you should \"normalize\" them so that the nearest galaxy has a relative distance of 1. Then a galaxy twice as far away as the nearest galaxy will have a relative distance of 2.\n",
    "\n",
    "To normalize the relative distances, set up a ratio between the relative distances of the nearest galaxy (1) and the second nearest (2) so that d1 / d2 = 1 / x, then solve for x: the normalized distance to galaxy 2. Repeat to find the normalized relative distance to farther galaxies. This technique will accurately measure the true relative distances to galaxies."
   ]
  },
  {
   "cell_type": "code",
   "execution_count": 345,
   "metadata": {},
   "outputs": [],
   "source": [
    "mag[\"radiant_flux\"] = mag[\"r\"].apply(lambda x: 2.51**(-x))"
   ]
  },
  {
   "cell_type": "code",
   "execution_count": 346,
   "metadata": {},
   "outputs": [],
   "source": [
    "mag[\"r_distance\"] = mag[\"radiant_flux\"].apply(lambda x: 1/np.sqrt(x))"
   ]
  },
  {
   "cell_type": "code",
   "execution_count": 350,
   "metadata": {},
   "outputs": [],
   "source": [
    "mag[\"n_r_distance\"] = mag[\"r_distance\"]/mag[\"r_distance\"].min()"
   ]
  },
  {
   "cell_type": "code",
   "execution_count": 351,
   "metadata": {},
   "outputs": [
    {
     "data": {
      "text/plain": [
       "0    1.000000\n",
       "1    1.348578\n",
       "2    3.127661\n",
       "3    1.730954\n",
       "4    1.202051\n",
       "5    1.563010\n",
       "Name: n_r_distance, dtype: float64"
      ]
     },
     "execution_count": 351,
     "metadata": {},
     "output_type": "execute_result"
    }
   ],
   "source": [
    "mag[\"n_r_distance\"] "
   ]
  },
  {
   "cell_type": "markdown",
   "metadata": {},
   "source": [
    "But even if you know the correct relative distance to a galaxy, you still run into the problem you saw in Exercise 5: different galaxies have different properties. Suppose a certain galaxy is twice as large as an average galaxy. On Earth, the only information we could get from the galaxy is what we could see in its image. When we saw the larger image, we would have no way of knowing the galaxy actually was larger: we would assume that it was simply closer to us. Because we lacked knowledge of the galaxy's true properties, we would misjudge its actual distance from us. Because we misjudged the galaxy's distance, if we used it in a Hubble diagram, we would not get the correct results. To overcome this problem, we need to look not just at individual galaxies, but also at clusters of galaxies."
   ]
  },
  {
   "cell_type": "markdown",
   "metadata": {},
   "source": [
    "## Estimating Distances to Clusters\n",
    "\n",
    "The key to overcoming our lack of knowledge about galaxy properties is to recognize that clusters can be thought of as statistical units or populations of galaxies: small groups might have a dozen member galaxies, and rich clusters could have more than a thousand member galaxies. Even if the properties of individual galaxies vary widely, the average properties of galaxies in the cluster should come close to the average properties of galaxies in the universe. The larger the cluster's population, the more confident we are that statistical measures are meaningful.\n",
    "\n",
    "<img src=\"imgs/abell168.jpg\" align=right/>\n",
    "\n",
    "Galaxies in a cluster are effectively all at the same distance (both relative and absolute) from us. This means that their apparent sizes and brightnesses are in the same proportions as their intrinsic, or \"true,\" sizes and brightnesses. In other words, if galaxy A in a cluster looks 3.5 times brighter than galaxy B, then it really emits 3.5 times as much light. By looking at the galaxies in a cluster, we can get a picture for the variations between galaxies in a population.\n",
    "\n",
    "The trick in estimating galaxy distances, however, is knowing which galaxies are actually part of the cluster. Just because two galaxies are in the same area of the sky doesn't mean that they are in a cluster; they could be in the same general direction, but at very different distances.\n",
    "\n",
    "The following analogy might help you figure out how to place galaxies in clusters. Suppose that galaxies are like buildings, and groups and clusters are like towns and cities. Suppose you were standing on a very tall platform at Fermilab in Batavia, Illinois. You look out over the large, flat plains of central Illinois with a telescope. Your task is to survey the landscape for buildings, towns, and cities, and make a map that shows their positions with respect to you at the center. You are not allowed to use any information other than what you can see through your telescope.\n",
    "\n",
    "In principle, a small town in the relative foreground could look like a large city that is farther away: a one-story building will have the same apparent height as a ten-story building that happens to be ten times farther away. But it is unlikely that you would confuse the small town for the large city - there are enough other bits of information at your disposal to get these populations of buildings in their correct relative positions.\n",
    "\n",
    "<font color=\"red\">*Exercise 10: Look at SDSS images for the following clusters:*\n",
    " \n",
    "<table border=\"1\" cellpadding=\"3\" align=\"center\">\n",
    "\n",
    "<tbody><tr>\n",
    "<td>\n",
    "            <p class=\"caption\" align=\"center\">Cluster name</p> </td>\n",
    "<td>\n",
    "            <p class=\"caption\" align=\"center\">Run</p></td>\n",
    "<td>\n",
    "            <p class=\"caption\" align=\"center\">Camcol</p></td>\n",
    "<td>\n",
    "            <p class=\"caption\" align=\"center\">Field</p></td></tr>\n",
    "        <tr>\n",
    "          <td>\n",
    "            <p align=\"center\"><a href=\"http://skyserver.sdss.org/dr16/en/tools/chart/navi.aspx?ra=258.25844&amp;dec=64.05230\" target=\"tools\">\n",
    "\t    Abell 2255</a>  </p></td>\n",
    "          <td>\n",
    "            <p align=\"center\">1356</p></td>\n",
    "          <td>\n",
    "            <p align=\"center\">2</p></td>\n",
    "          <td>\n",
    "            <p align=\"center\">32</p></td></tr>\n",
    "        <tr>\n",
    "\t    <td>\n",
    "            <p align=\"center\"><a href=\"http://skyserver.sdss.org/dr16/en/tools/chart/navi.aspx?ra=118.95583&amp;dec=33.72884\" target=\"tools\">Abell \n",
    "            603</a> </p></td>\n",
    "          <td>\n",
    "            <p align=\"center\">756</p></td>\n",
    "          <td>\n",
    "            <p align=\"center\">3</p></td>\n",
    "          <td>\n",
    "            <p align=\"center\">748</p></td></tr>\n",
    "        <tr>\n",
    "          <td>\n",
    "            <p align=\"center\"><a href=\"http://skyserver.sdss.org/dr16/en/tools/chart/navi.aspx?ra=211.48287&amp;dec=58.69432\" target=\"tools\">\n",
    "            Abell 1865</a></p></td>\n",
    "          <td>\n",
    "            <p align=\"center\">752</p></td>\n",
    "          <td>\n",
    "            <p align=\"center\">3</p></td>\n",
    "          <td>\n",
    "            <p align=\"center\">468</p></td></tr>\n",
    "        <tr>\n",
    "          <td>\n",
    "            <p align=\"center\"><a href=\"http://skyserver.sdss.org/dr16/en/tools/chart/navi.aspx?ra=252.398&amp;dec=64.484\" target=\"tools\">\n",
    "            Unnamed</a></p></td>\n",
    "          <td>\n",
    "            <p align=\"center\">1339</p></td>\n",
    "          <td>\n",
    "            <p align=\"center\">3</p></td>\n",
    "          <td>\n",
    "            <p align=\"center\">11</p></td></tr>\n",
    "        <tr>\n",
    "          <td>\n",
    "            <p align=\"center\"><a href=\"http://skyserver.sdss.org/dr16/en/tools/chart/navi.aspx?ra=358.38439&amp;dec=0.65433\" target=\"tools\">Unnamed</a></p></td>\n",
    "          <td>\n",
    "            <p align=\"center\">756</p></td>\n",
    "          <td>\n",
    "            <p align=\"center\">1</p></td>\n",
    "          <td>\n",
    "            <p align=\"center\">728</p></td></tr>\n",
    "        <tr>\n",
    "          <td colspan=\"4\">\n",
    "            <p class=\"caption\" align=\"center\">Click on&nbsp;a link for a \n",
    "            picture of the cluster</p></td></tr></tbody></table>\n",
    "    \n",
    "*For each cluster, think about how we know that the galaxies are actually part of the same cluster. What properties are similar between galaxies in the same cluster? What properties show a wide range? How might you be able to tell - using just these images - if any particular galaxy is actually in the cluster, as opposed to being at a different distance along the same line-of-sight?*\n",
    "</font>"
   ]
  },
  {
   "cell_type": "code",
   "execution_count": 378,
   "metadata": {},
   "outputs": [],
   "source": [
    "# GET IMAGE BY RUN CAMCOL FIELD\n",
    "from PIL import Image\n",
    "from io import StringIO\n",
    "skyserver_image_link= \"http://skyserver.sdss.org/dr16/SkyServerWS/ImgCutout/getJpegCodec/?R={}&C={}&F={}&Z=0&TaskName=Skyserver.FrameByRCFZ\"\n",
    "def get_image(run,camcol,field):\n",
    "    flink = skyserver_image_link.format(run,camcol,field)\n",
    "    response = requests.get(flink)\n",
    "    with open(f\"imgs/{run}_{camcol}_{field}.jpg\",\"wb\") as f:\n",
    "        f.write(response.content)\n",
    "    img = Image.open(f\"imgs/{run}_{camcol}_{field}.jpg\")\n",
    "    return img"
   ]
  },
  {
   "cell_type": "code",
   "execution_count": 410,
   "metadata": {},
   "outputs": [],
   "source": [
    "props = [\n",
    "    (1356,2,33),\n",
    "    (6162,3,134),\n",
    "    (756,3,748),\n",
    "    (752,3,468),\n",
    "    (1339,3,11),\n",
    "    (756,1,728)\n",
    "]\n",
    "imgs = [get_image(*p) for p in props]"
   ]
  },
  {
   "cell_type": "code",
   "execution_count": null,
   "metadata": {
    "scrolled": false
   },
   "outputs": [],
   "source": [
    "fig, ax = plt.subplots(nrows=len(props),figsize=(20,10*len(props)))\n",
    "for i,img in enumerate(imgs):\n",
    "    ax[i].imshow(img)"
   ]
  },
  {
   "cell_type": "markdown",
   "metadata": {},
   "source": [
    "Once you know which galaxies are members of clusters, you can compare the properties of individual galaxies in different clusters. For example, the average size of a galaxy in one cluster should be about the same as the average size of a galaxy in another cluster. Or, the brightest galaxy in one cluster should have about the same true brightness as the brightest galaxy in another cluster.\n",
    "\n",
    "There is no \"best\" way to measure relative distances to galaxies, but some may be arguably more effective than others. Edwin Hubble and his co-worker Milton Humason tried a number of schemes, mostly related to the value of the apparent brightness of the brightest galaxies in rich clusters, and other astronomers tried others. But today, you have much better and more extensive data available to you!"
   ]
  },
  {
   "cell_type": "code",
   "execution_count": null,
   "metadata": {},
   "outputs": [],
   "source": []
  }
 ],
 "metadata": {
  "kernelspec": {
   "display_name": "Python 3",
   "language": "python",
   "name": "python3"
  },
  "language_info": {
   "codemirror_mode": {
    "name": "ipython",
    "version": 3
   },
   "file_extension": ".py",
   "mimetype": "text/x-python",
   "name": "python",
   "nbconvert_exporter": "python",
   "pygments_lexer": "ipython3",
   "version": "3.6.6"
  }
 },
 "nbformat": 4,
 "nbformat_minor": 4
}
